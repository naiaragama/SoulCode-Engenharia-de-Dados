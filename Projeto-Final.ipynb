{
  "nbformat": 4,
  "nbformat_minor": 0,
  "metadata": {
    "colab": {
      "provenance": [],
      "collapsed_sections": [
        "8ugaAajIuH6B",
        "hfW1OD1a0ZDV",
        "Mi2Pq58BGbp6",
        "1l3Lckm63n4_",
        "iiijcvOe-MJe",
        "RUG9sDoyTfJ2",
        "NgjmPxRF5eg7",
        "72HDCUeZ6Yrq",
        "VeRxHTwZ6rYR",
        "xpC5SwCDLULl"
      ],
      "include_colab_link": true
    },
    "kernelspec": {
      "name": "python3",
      "display_name": "Python 3"
    },
    "language_info": {
      "name": "python"
    }
  },
  "cells": [
    {
      "cell_type": "markdown",
      "metadata": {
        "id": "view-in-github",
        "colab_type": "text"
      },
      "source": [
        "<a href=\"https://colab.research.google.com/github/naiaragama/SoulCode-Engenharia-de-Dados/blob/main/Projeto-Final.ipynb\" target=\"_parent\"><img src=\"https://colab.research.google.com/assets/colab-badge.svg\" alt=\"Open In Colab\"/></a>"
      ]
    },
    {
      "cell_type": "markdown",
      "source": [
        "\n",
        "* PROJETO FINAL\n",
        "\n",
        "Este projeto tem como objetivo a realização de um processo de ETL (extração, transformação, carregamento) que consolide algumas bases de dados sobre o mercado automotivo no Brasil, as bases originais podem ser encontradas clicando nesses nos links: [aqui](https://www.kaggle.com/datasets/vagnerbessa/average-car-prices-bazil) [aqui](https://www.alphacast.io/datasets/activity-brazil-anfavea-automotive-production-and-sales-6654)\n",
        "\n",
        "\n",
        "Fizemos pesquisa e encontarmos uma base com dados da Fundação Instituto de Pesquisas Econômicas (FIPE) em formato CSV e outra base com dados da Associação Nacional dos Fabricantes de Veículos Automotores (ANFAVEA) em formato XLSX.\n",
        "\n",
        "\n",
        "Realizamos as análises e tratamento do arquivo CSV no Pandas e o outro arquivo XLSX no Pyspark.\n",
        "\n",
        "\n",
        "Salvamos os datasets em armazenamento Cloud dentro da plataforma GCP.\n",
        "\n",
        "\n",
        "Os dados tratados estão no datalake (Gstorage ) e DW (BigQuery).\n",
        "\n",
        "\n",
        "Utilizando a linguagem padrão SQL para as análises dentro do Big Query e estão com a descrição das consultas.\n",
        "\n",
        "\n",
        "Criamos um dashboard no Looker Studio para exibição gráfica dos dados tratados com alguns insights.\n",
        "\n",
        "\n",
        "O workflow com as etapas de ETL e as ferramentas utilizadas está em nossa apresentação no Looker Studio.\n",
        "\n",
        "\n",
        "\n",
        "* MYSQL\n",
        "\n",
        "\n",
        "O armazenamento de um dos dataset está no MySQL. Colocamos o dataset da tabela Fipe com sucesso. O segundo dataset não conseguimos, pois o dataset mesmo após renomeado continuava com muitos caracteres no nome das colunas e o MySQL tem um limite. Por orientação do mentor não subimos o segundo dataset pois já tínhamos subido o primeiro.\n",
        "\n",
        "\n",
        "\n",
        "* MONGO\n",
        "\n",
        "\n",
        "Os Dataframes estão em uma coleção do mongoDb Atlas (X509-cert-1524735985430801619.pem).\n",
        "\n",
        "\n",
        "\n",
        "* CUSTOS COM GOOGLE CLOUD\n",
        "\n",
        "Nosso custo com o Google Cloud no período do projeto foi de R$ 123,00.\n",
        "Utilizamos as configurações com menor custo como por exemplo escolhemos uma única região. \n",
        "\n"
      ],
      "metadata": {
        "id": "j7nCds39SD6I"
      }
    },
    {
      "cell_type": "markdown",
      "source": [
        "# Instalações"
      ],
      "metadata": {
        "id": "kf--gnWtDe9_"
      }
    },
    {
      "cell_type": "code",
      "execution_count": null,
      "metadata": {
        "id": "fKorE6J7DLRh",
        "colab": {
          "base_uri": "https://localhost:8080/"
        },
        "outputId": "b440a858-feef-4c04-8670-56b4f8a987ba"
      },
      "outputs": [
        {
          "output_type": "stream",
          "name": "stdout",
          "text": [
            "Looking in indexes: https://pypi.org/simple, https://us-python.pkg.dev/colab-wheels/public/simple/\n",
            "Collecting pyspark\n",
            "  Downloading pyspark-3.3.1.tar.gz (281.4 MB)\n",
            "\u001b[2K     \u001b[90m━━━━━━━━━━━━━━━━━━━━━━━━━━━━━━━━━━━━━━━\u001b[0m \u001b[32m281.4/281.4 MB\u001b[0m \u001b[31m4.7 MB/s\u001b[0m eta \u001b[36m0:00:00\u001b[0m\n",
            "\u001b[?25h  Preparing metadata (setup.py) ... \u001b[?25l\u001b[?25hdone\n",
            "Collecting py4j==0.10.9.5\n",
            "  Downloading py4j-0.10.9.5-py2.py3-none-any.whl (199 kB)\n",
            "\u001b[2K     \u001b[90m━━━━━━━━━━━━━━━━━━━━━━━━━━━━━━━━━━━━━━\u001b[0m \u001b[32m199.7/199.7 KB\u001b[0m \u001b[31m17.6 MB/s\u001b[0m eta \u001b[36m0:00:00\u001b[0m\n",
            "\u001b[?25hBuilding wheels for collected packages: pyspark\n",
            "  Building wheel for pyspark (setup.py) ... \u001b[?25l\u001b[?25hdone\n",
            "  Created wheel for pyspark: filename=pyspark-3.3.1-py2.py3-none-any.whl size=281845512 sha256=c423cd61f25721466ed40c9d9372560edf49f02e6d9a332cba37d1c131edcc87\n",
            "  Stored in directory: /root/.cache/pip/wheels/43/dc/11/ec201cd671da62fa9c5cc77078235e40722170ceba231d7598\n",
            "Successfully built pyspark\n",
            "Installing collected packages: py4j, pyspark\n",
            "Successfully installed py4j-0.10.9.5 pyspark-3.3.1\n",
            "Looking in indexes: https://pypi.org/simple, https://us-python.pkg.dev/colab-wheels/public/simple/\n",
            "Collecting gcsfs\n",
            "  Downloading gcsfs-2022.11.0-py2.py3-none-any.whl (26 kB)\n",
            "Requirement already satisfied: google-cloud-storage in /usr/local/lib/python3.8/dist-packages (from gcsfs) (2.7.0)\n",
            "Requirement already satisfied: fsspec==2022.11.0 in /usr/local/lib/python3.8/dist-packages (from gcsfs) (2022.11.0)\n",
            "Requirement already satisfied: aiohttp!=4.0.0a0,!=4.0.0a1 in /usr/local/lib/python3.8/dist-packages (from gcsfs) (3.8.3)\n",
            "Requirement already satisfied: google-auth-oauthlib in /usr/local/lib/python3.8/dist-packages (from gcsfs) (0.4.6)\n",
            "Requirement already satisfied: requests in /usr/local/lib/python3.8/dist-packages (from gcsfs) (2.25.1)\n",
            "Requirement already satisfied: decorator>4.1.2 in /usr/local/lib/python3.8/dist-packages (from gcsfs) (4.4.2)\n",
            "Requirement already satisfied: google-auth>=1.2 in /usr/local/lib/python3.8/dist-packages (from gcsfs) (2.15.0)\n",
            "Requirement already satisfied: async-timeout<5.0,>=4.0.0a3 in /usr/local/lib/python3.8/dist-packages (from aiohttp!=4.0.0a0,!=4.0.0a1->gcsfs) (4.0.2)\n",
            "Requirement already satisfied: frozenlist>=1.1.1 in /usr/local/lib/python3.8/dist-packages (from aiohttp!=4.0.0a0,!=4.0.0a1->gcsfs) (1.3.3)\n",
            "Requirement already satisfied: aiosignal>=1.1.2 in /usr/local/lib/python3.8/dist-packages (from aiohttp!=4.0.0a0,!=4.0.0a1->gcsfs) (1.3.1)\n",
            "Requirement already satisfied: attrs>=17.3.0 in /usr/local/lib/python3.8/dist-packages (from aiohttp!=4.0.0a0,!=4.0.0a1->gcsfs) (22.2.0)\n",
            "Requirement already satisfied: multidict<7.0,>=4.5 in /usr/local/lib/python3.8/dist-packages (from aiohttp!=4.0.0a0,!=4.0.0a1->gcsfs) (6.0.4)\n",
            "Requirement already satisfied: charset-normalizer<3.0,>=2.0 in /usr/local/lib/python3.8/dist-packages (from aiohttp!=4.0.0a0,!=4.0.0a1->gcsfs) (2.1.1)\n",
            "Requirement already satisfied: yarl<2.0,>=1.0 in /usr/local/lib/python3.8/dist-packages (from aiohttp!=4.0.0a0,!=4.0.0a1->gcsfs) (1.8.2)\n",
            "Requirement already satisfied: rsa<5,>=3.1.4 in /usr/local/lib/python3.8/dist-packages (from google-auth>=1.2->gcsfs) (4.9)\n",
            "Requirement already satisfied: pyasn1-modules>=0.2.1 in /usr/local/lib/python3.8/dist-packages (from google-auth>=1.2->gcsfs) (0.2.8)\n",
            "Requirement already satisfied: cachetools<6.0,>=2.0.0 in /usr/local/lib/python3.8/dist-packages (from google-auth>=1.2->gcsfs) (5.2.0)\n",
            "Requirement already satisfied: six>=1.9.0 in /usr/local/lib/python3.8/dist-packages (from google-auth>=1.2->gcsfs) (1.15.0)\n",
            "Requirement already satisfied: requests-oauthlib>=0.7.0 in /usr/local/lib/python3.8/dist-packages (from google-auth-oauthlib->gcsfs) (1.3.1)\n",
            "Requirement already satisfied: google-cloud-core<3.0dev,>=2.3.0 in /usr/local/lib/python3.8/dist-packages (from google-cloud-storage->gcsfs) (2.3.2)\n",
            "Requirement already satisfied: google-resumable-media>=2.3.2 in /usr/local/lib/python3.8/dist-packages (from google-cloud-storage->gcsfs) (2.4.0)\n",
            "Requirement already satisfied: google-api-core!=2.0.*,!=2.1.*,!=2.2.*,!=2.3.0,<3.0.0dev,>=1.31.5 in /usr/local/lib/python3.8/dist-packages (from google-cloud-storage->gcsfs) (2.11.0)\n",
            "Requirement already satisfied: urllib3<1.27,>=1.21.1 in /usr/local/lib/python3.8/dist-packages (from requests->gcsfs) (1.24.3)\n",
            "Requirement already satisfied: idna<3,>=2.5 in /usr/local/lib/python3.8/dist-packages (from requests->gcsfs) (2.10)\n",
            "Requirement already satisfied: chardet<5,>=3.0.2 in /usr/local/lib/python3.8/dist-packages (from requests->gcsfs) (4.0.0)\n",
            "Requirement already satisfied: certifi>=2017.4.17 in /usr/local/lib/python3.8/dist-packages (from requests->gcsfs) (2022.12.7)\n",
            "Requirement already satisfied: protobuf!=3.20.0,!=3.20.1,!=4.21.0,!=4.21.1,!=4.21.2,!=4.21.3,!=4.21.4,!=4.21.5,<5.0.0dev,>=3.19.5 in /usr/local/lib/python3.8/dist-packages (from google-api-core!=2.0.*,!=2.1.*,!=2.2.*,!=2.3.0,<3.0.0dev,>=1.31.5->google-cloud-storage->gcsfs) (3.19.6)\n",
            "Requirement already satisfied: googleapis-common-protos<2.0dev,>=1.56.2 in /usr/local/lib/python3.8/dist-packages (from google-api-core!=2.0.*,!=2.1.*,!=2.2.*,!=2.3.0,<3.0.0dev,>=1.31.5->google-cloud-storage->gcsfs) (1.57.1)\n",
            "Requirement already satisfied: google-crc32c<2.0dev,>=1.0 in /usr/local/lib/python3.8/dist-packages (from google-resumable-media>=2.3.2->google-cloud-storage->gcsfs) (1.5.0)\n",
            "Requirement already satisfied: pyasn1<0.5.0,>=0.4.6 in /usr/local/lib/python3.8/dist-packages (from pyasn1-modules>=0.2.1->google-auth>=1.2->gcsfs) (0.4.8)\n",
            "Requirement already satisfied: oauthlib>=3.0.0 in /usr/local/lib/python3.8/dist-packages (from requests-oauthlib>=0.7.0->google-auth-oauthlib->gcsfs) (3.2.2)\n",
            "Installing collected packages: gcsfs\n",
            "Successfully installed gcsfs-2022.11.0\n",
            "Looking in indexes: https://pypi.org/simple, https://us-python.pkg.dev/colab-wheels/public/simple/\n",
            "Collecting mysql-connector-python\n",
            "  Downloading mysql_connector_python-8.0.32-cp38-cp38-manylinux1_x86_64.whl (23.5 MB)\n",
            "\u001b[2K     \u001b[90m━━━━━━━━━━━━━━━━━━━━━━━━━━━━━━━━━━━━━━━━\u001b[0m \u001b[32m23.5/23.5 MB\u001b[0m \u001b[31m49.1 MB/s\u001b[0m eta \u001b[36m0:00:00\u001b[0m\n",
            "\u001b[?25hRequirement already satisfied: protobuf<=3.20.3,>=3.11.0 in /usr/local/lib/python3.8/dist-packages (from mysql-connector-python) (3.19.6)\n",
            "Installing collected packages: mysql-connector-python\n",
            "Successfully installed mysql-connector-python-8.0.32\n",
            "Looking in indexes: https://pypi.org/simple, https://us-python.pkg.dev/colab-wheels/public/simple/\n",
            "Collecting PyMySQL\n",
            "  Downloading PyMySQL-1.0.2-py3-none-any.whl (43 kB)\n",
            "\u001b[2K     \u001b[90m━━━━━━━━━━━━━━━━━━━━━━━━━━━━━━━━━━━━━━━━\u001b[0m \u001b[32m43.8/43.8 KB\u001b[0m \u001b[31m2.2 MB/s\u001b[0m eta \u001b[36m0:00:00\u001b[0m\n",
            "\u001b[?25hInstalling collected packages: PyMySQL\n",
            "Successfully installed PyMySQL-1.0.2\n"
          ]
        }
      ],
      "source": [
        "!pip install pyspark\n",
        "!pip install gcsfs\n",
        "!pip install mysql-connector-python\n",
        "!pip install PyMySQL"
      ]
    },
    {
      "cell_type": "markdown",
      "source": [
        "Importações\n",
        "\n"
      ],
      "metadata": {
        "id": "etYY9n-5ELsB"
      }
    },
    {
      "cell_type": "code",
      "source": [
        "import pymongo \n",
        "import os\n",
        "import pandas as pd\n",
        "import numpy as np\n",
        "import mysql.connector\n",
        "import datetime\n",
        "import pyspark"
      ],
      "metadata": {
        "id": "YB-55ng5EAIp"
      },
      "execution_count": null,
      "outputs": []
    },
    {
      "cell_type": "code",
      "source": [
        "from pymongo import MongoClient\n",
        "from google.cloud import storage\n",
        "from pyspark.sql import SparkSession\n",
        "from pyspark.sql.types import *\n",
        "import pyspark.sql.functions as F\n",
        "from pyspark.sql.window import Window\n",
        "from pyspark.sql.types import NullType\n",
        "from mysql.connector import Error\n",
        "from sqlalchemy import create_engine\n",
        "from pyspark.sql.types import StructType, StringType, StructField\n",
        "from pyspark.sql.functions import split\n",
        "from pyspark.sql.functions import regexp_replace, split\n",
        "from pyspark.sql.functions import col,isnan, when, count\n",
        "from pyspark.sql.window import Window\n",
        "from pyspark.sql.functions import *\n",
        "from pyspark.sql.types import  FloatType, LongType, DateType, TimestampType"
      ],
      "metadata": {
        "id": "0ThCNsbpFj40"
      },
      "execution_count": null,
      "outputs": []
    },
    {
      "cell_type": "markdown",
      "source": [
        "# Extração das bases de dados "
      ],
      "metadata": {
        "id": "8ugaAajIuH6B"
      }
    },
    {
      "cell_type": "markdown",
      "source": [
        "# CloudStorage"
      ],
      "metadata": {
        "id": "DJrJZJxy1UP0"
      }
    },
    {
      "cell_type": "code",
      "source": [
        "#Configuração da chave de segurança\n",
        "serviceAccount = '/content/nkvs-consultoria-373916-4a1e41096722.json'\n",
        "os.environ['GOOGLE_APPLICATION_CREDENTIALS'] = serviceAccount"
      ],
      "metadata": {
        "id": "c3cF8GpZ0efh"
      },
      "execution_count": null,
      "outputs": []
    },
    {
      "cell_type": "markdown",
      "source": [
        "Envio DFs originais para GCS"
      ],
      "metadata": {
        "id": "84tjdOr81ktQ"
      }
    },
    {
      "cell_type": "code",
      "source": [
        "#Função para fazer upload de arquivo no bucket\n",
        "def upload_blob(bucket, arquivo, destino):\n",
        "    client = storage.Client()\n",
        "    bucket = client.bucket(bucket)\n",
        "    blob = bucket.blob(destino)\n",
        "\n",
        "    blob.upload_from_filename(arquivo)\n",
        "\n",
        "    print(\n",
        "        f\"Arquivo {arquivo} foi upado em {destino}.\"\n",
        "    )"
      ],
      "metadata": {
        "id": "QHcngMquWeAp"
      },
      "execution_count": null,
      "outputs": []
    },
    {
      "cell_type": "code",
      "source": [
        "#Upload para bucket arquivo original 1\n",
        "bucket = 'bc26_projeto_final_auto'\n",
        "arquivo = '/content/fipe_2022.csv'\n",
        "destino = 'original/fipe_2022.csv'\n",
        "upload_blob(bucket, arquivo, destino)"
      ],
      "metadata": {
        "id": "L9pM5yCAXCt5",
        "colab": {
          "base_uri": "https://localhost:8080/"
        },
        "outputId": "f1f9f888-2f59-4dfd-d09c-c39c3f66b397"
      },
      "execution_count": null,
      "outputs": [
        {
          "output_type": "stream",
          "name": "stdout",
          "text": [
            "Arquivo /content/fipe_2022.csv foi upado em original/fipe_2022.csv.\n"
          ]
        }
      ]
    },
    {
      "cell_type": "code",
      "source": [
        "#Upload para bucket arquivo original 2\n",
        "bucket = 'bc26_projeto_final_auto'\n",
        "arquivo = '/content/dados_brasil.xlsx'\n",
        "destino = 'original/dados_brasil.xlsx'\n",
        "upload_blob(bucket, arquivo, destino)"
      ],
      "metadata": {
        "id": "QroJ5xwUC_ah",
        "colab": {
          "base_uri": "https://localhost:8080/"
        },
        "outputId": "9eb3fb8c-4c33-4b9c-d9ba-d76a036c9d57"
      },
      "execution_count": null,
      "outputs": [
        {
          "output_type": "stream",
          "name": "stdout",
          "text": [
            "Arquivo /content/dados_brasil.xlsx foi upado em original/dados_brasil.xlsx.\n"
          ]
        }
      ]
    },
    {
      "cell_type": "code",
      "source": [
        "#Carregando dfs para pandas para confirmar a transferência \n",
        "df1 = pd.read_excel('gs://bc26_projeto_final_auto/original/dados_brasil.xlsx')"
      ],
      "metadata": {
        "id": "x5otTsTgrP6Z"
      },
      "execution_count": null,
      "outputs": []
    },
    {
      "cell_type": "code",
      "source": [
        "df2 = pd.read_csv('gs://bc26_projeto_final_auto/original/fipe_2022.csv')"
      ],
      "metadata": {
        "id": "54H_sUilDTxM"
      },
      "execution_count": null,
      "outputs": []
    },
    {
      "cell_type": "code",
      "source": [
        "# setando configurações de display do pandas\n",
        "pd.set_option('display.max_columns',50)\n",
        "#pd.set_option('display.max_rows')"
      ],
      "metadata": {
        "id": "PqIQGr59Bhcx"
      },
      "execution_count": null,
      "outputs": []
    },
    {
      "cell_type": "code",
      "source": [
        "#backup\n",
        "df1back = df1.copy()"
      ],
      "metadata": {
        "id": "kOUQVEOa5-iS"
      },
      "execution_count": null,
      "outputs": []
    },
    {
      "cell_type": "code",
      "source": [
        "#backup\n",
        "df1back = df2.copy()"
      ],
      "metadata": {
        "id": "rP-zKWMWC-Bp"
      },
      "execution_count": null,
      "outputs": []
    },
    {
      "cell_type": "markdown",
      "source": [
        "# Análise do Dataset - Fipe 2022"
      ],
      "metadata": {
        "id": "g3dKvhJgvzCw"
      }
    },
    {
      "cell_type": "code",
      "source": [
        "df2"
      ],
      "metadata": {
        "id": "HaewF08wlKFx"
      },
      "execution_count": null,
      "outputs": []
    },
    {
      "cell_type": "code",
      "source": [
        "df2.dtypes"
      ],
      "metadata": {
        "id": "aNt8IBHUp9ln"
      },
      "execution_count": null,
      "outputs": []
    },
    {
      "cell_type": "code",
      "source": [
        "df2.isna().sum()"
      ],
      "metadata": {
        "id": "eXspQaZwqSsn"
      },
      "execution_count": null,
      "outputs": []
    },
    {
      "cell_type": "code",
      "source": [
        "df2.duplicated().sum()"
      ],
      "metadata": {
        "id": "pf5EF1ulqX6-",
        "colab": {
          "base_uri": "https://localhost:8080/"
        },
        "outputId": "0bae68b0-5d9a-4ea7-959f-d980681b6436"
      },
      "execution_count": null,
      "outputs": [
        {
          "output_type": "execute_result",
          "data": {
            "text/plain": [
              "1"
            ]
          },
          "metadata": {},
          "execution_count": 19
        }
      ]
    },
    {
      "cell_type": "markdown",
      "source": [
        "## Renomear e traduzir colunas e linhas"
      ],
      "metadata": {
        "id": "hfW1OD1a0ZDV"
      }
    },
    {
      "cell_type": "code",
      "source": [
        "#Tradução do nome das colunas\n",
        "df2.rename(columns={'year_of_reference':'ano_referencia',\n",
        "                     'month_of_reference':'mes_referencia',\n",
        "                     'fipe_code':'codigo_fipe',\n",
        "                     'authentication':'autenticacao',\n",
        "                     'brand':'marca',\n",
        "                     'model':'modelo',\n",
        "                     'fuel':'combustivel',\n",
        "                     'gear':'cambio',\n",
        "                     'engine_size':'tamanho_motor',\n",
        "                     'year_model':'ano_modelo',\n",
        "                     'avg_price_brl':'preco_medio_reais',\n",
        "                     'age_years':'anos_idade'\n",
        "                    }, inplace=True)"
      ],
      "metadata": {
        "id": "3zmi-4X7qbkW"
      },
      "execution_count": null,
      "outputs": []
    },
    {
      "cell_type": "code",
      "source": [
        "df2.head(3)"
      ],
      "metadata": {
        "id": "GA1uuHcvqn8m"
      },
      "execution_count": null,
      "outputs": []
    },
    {
      "cell_type": "markdown",
      "source": [
        "##Traduzindo e renomeando Linhas das Colunas"
      ],
      "metadata": {
        "id": "Mi2Pq58BGbp6"
      }
    },
    {
      "cell_type": "code",
      "source": [
        "df2[\"combustivel\"] = df2[\"combustivel\"].replace(\"Gasoline\", \"Gasolina\")"
      ],
      "metadata": {
        "id": "rnJ14s2s1sTs"
      },
      "execution_count": null,
      "outputs": []
    },
    {
      "cell_type": "code",
      "source": [
        "df2[\"combustivel\"] = df2[\"combustivel\"].replace(\"Alcohol\", \"Alcool\")"
      ],
      "metadata": {
        "id": "rd-JeuR41zpj"
      },
      "execution_count": null,
      "outputs": []
    },
    {
      "cell_type": "code",
      "source": [
        "df2[\"mes_referencia\"] = df2[\"mes_referencia\"].replace(\"January\", \"Janeiro\")"
      ],
      "metadata": {
        "id": "LDNDWAo713-z"
      },
      "execution_count": null,
      "outputs": []
    },
    {
      "cell_type": "code",
      "source": [
        "df2[\"mes_referencia\"] = df2[\"mes_referencia\"].replace(\"February\", \"Fevereiro\")"
      ],
      "metadata": {
        "id": "0rdpOmA419G0"
      },
      "execution_count": null,
      "outputs": []
    },
    {
      "cell_type": "code",
      "source": [
        "df2[\"mes_referencia\"] = df2[\"mes_referencia\"].replace(\"March\", \"Março\")"
      ],
      "metadata": {
        "id": "r8UBibkV2Cvk"
      },
      "execution_count": null,
      "outputs": []
    },
    {
      "cell_type": "code",
      "source": [
        "df2[\"mes_referencia\"] = df2[\"mes_referencia\"].replace(\"April\", \"Abril\")"
      ],
      "metadata": {
        "id": "IGakqc5C2I7k"
      },
      "execution_count": null,
      "outputs": []
    },
    {
      "cell_type": "code",
      "source": [
        "df2[\"mes_referencia\"] = df2[\"mes_referencia\"].replace(\"May\", \"Maio\")"
      ],
      "metadata": {
        "id": "BMlwIBc32OQM"
      },
      "execution_count": null,
      "outputs": []
    },
    {
      "cell_type": "code",
      "source": [
        "df2[\"mes_referencia\"] = df2[\"mes_referencia\"].replace(\"June\", \"Junho\")"
      ],
      "metadata": {
        "id": "cZXaf2_W2SxM"
      },
      "execution_count": null,
      "outputs": []
    },
    {
      "cell_type": "code",
      "source": [
        "df2[\"mes_referencia\"] = df2[\"mes_referencia\"].replace(\"July\", \"Julho\")"
      ],
      "metadata": {
        "id": "tWnp4Chb2Xkk"
      },
      "execution_count": null,
      "outputs": []
    },
    {
      "cell_type": "code",
      "source": [
        "df2[\"mes_referencia\"] = df2[\"mes_referencia\"].replace(\"August\", \"Agosto\")"
      ],
      "metadata": {
        "id": "KhmR9mUg2bst"
      },
      "execution_count": null,
      "outputs": []
    },
    {
      "cell_type": "code",
      "source": [
        "df2[\"mes_referencia\"] = df2[\"mes_referencia\"].replace(\"October\", \"Outubro\")"
      ],
      "metadata": {
        "id": "dCX85NA62kJ1"
      },
      "execution_count": null,
      "outputs": []
    },
    {
      "cell_type": "code",
      "source": [
        "df2[\"mes_referencia\"] = df2[\"mes_referencia\"].replace(\"September\", \"Setembro\")"
      ],
      "metadata": {
        "id": "i123NBxX2oMV"
      },
      "execution_count": null,
      "outputs": []
    },
    {
      "cell_type": "code",
      "source": [
        "df2[\"mes_referencia\"] = df2[\"mes_referencia\"].replace(\"November\", \"Novembro\")"
      ],
      "metadata": {
        "id": "025fE5w92tFn"
      },
      "execution_count": null,
      "outputs": []
    },
    {
      "cell_type": "code",
      "source": [
        "df2[\"mes_referencia\"] = df2[\"mes_referencia\"].replace(\"December\", \"Dezembro\")"
      ],
      "metadata": {
        "id": "TFdEIjl42xX0"
      },
      "execution_count": null,
      "outputs": []
    },
    {
      "cell_type": "code",
      "source": [
        "df2['cambio'] = df2['cambio'].replace('automatic', 'automatico')"
      ],
      "metadata": {
        "id": "Cvws0Y0wKL-A"
      },
      "execution_count": null,
      "outputs": []
    },
    {
      "cell_type": "code",
      "source": [
        "df2"
      ],
      "metadata": {
        "id": "EIYwCxSF21fm"
      },
      "execution_count": null,
      "outputs": []
    },
    {
      "cell_type": "code",
      "source": [
        "df2.head(3)"
      ],
      "metadata": {
        "id": "N6BeKJtD29it"
      },
      "execution_count": null,
      "outputs": []
    },
    {
      "cell_type": "markdown",
      "source": [
        "#Verificando as inconsistências\n",
        "\n",
        "com sorted e unique\n"
      ],
      "metadata": {
        "id": "1l3Lckm63n4_"
      }
    },
    {
      "cell_type": "code",
      "source": [
        "sorted(pd.unique(df2['ano_referencia']))"
      ],
      "metadata": {
        "id": "hqLMYdhW3kCm"
      },
      "execution_count": null,
      "outputs": []
    },
    {
      "cell_type": "code",
      "source": [
        "sorted(pd.unique(df2['mes_referencia']))"
      ],
      "metadata": {
        "id": "--nUUcne38MG"
      },
      "execution_count": null,
      "outputs": []
    },
    {
      "cell_type": "code",
      "source": [
        "sorted(pd.unique(df2['marca']))"
      ],
      "metadata": {
        "id": "3GZm3_0N3_6c"
      },
      "execution_count": null,
      "outputs": []
    },
    {
      "cell_type": "code",
      "source": [
        "sorted(pd.unique(df2['modelo']))"
      ],
      "metadata": {
        "id": "x5o0QxhU4EDO"
      },
      "execution_count": null,
      "outputs": []
    },
    {
      "cell_type": "code",
      "source": [
        "sorted(pd.unique(df2['combustivel']))"
      ],
      "metadata": {
        "id": "4Fz9dH5N4Ihe"
      },
      "execution_count": null,
      "outputs": []
    },
    {
      "cell_type": "code",
      "source": [
        "sorted(pd.unique(df2['cambio']))"
      ],
      "metadata": {
        "id": "zl1mBQmQ4MOG"
      },
      "execution_count": null,
      "outputs": []
    },
    {
      "cell_type": "code",
      "source": [
        "sorted(pd.unique(df2['tamanho_motor']))"
      ],
      "metadata": {
        "id": "dyuCygLA4P5X"
      },
      "execution_count": null,
      "outputs": []
    },
    {
      "cell_type": "code",
      "source": [
        "sorted(pd.unique(df2['ano_modelo']))"
      ],
      "metadata": {
        "id": "dSIhUZ5S4UZ4"
      },
      "execution_count": null,
      "outputs": []
    },
    {
      "cell_type": "code",
      "source": [
        "sorted(pd.unique(df2['preco_medio_reais']))"
      ],
      "metadata": {
        "id": "RN0vpjF04XyY"
      },
      "execution_count": null,
      "outputs": []
    },
    {
      "cell_type": "markdown",
      "source": [
        "\n",
        "\n",
        "## Colunas sem inconsistências"
      ],
      "metadata": {
        "id": "iiijcvOe-MJe"
      }
    },
    {
      "cell_type": "code",
      "source": [
        "pd.unique(df2['ano_referencia'])"
      ],
      "metadata": {
        "id": "cA7CndKo4i_v"
      },
      "execution_count": null,
      "outputs": []
    },
    {
      "cell_type": "code",
      "source": [
        "pd.unique(df2['mes_referencia'])"
      ],
      "metadata": {
        "id": "EE9d8adt4ytf"
      },
      "execution_count": null,
      "outputs": []
    },
    {
      "cell_type": "code",
      "source": [
        "pd.unique(df2['modelo'])"
      ],
      "metadata": {
        "id": "rNdg4s_M41KJ"
      },
      "execution_count": null,
      "outputs": []
    },
    {
      "cell_type": "code",
      "source": [
        "pd.unique(df2['combustivel'])"
      ],
      "metadata": {
        "id": "VJbivt0c5Fo_"
      },
      "execution_count": null,
      "outputs": []
    },
    {
      "cell_type": "code",
      "source": [
        "pd.unique(df2['cambio'])"
      ],
      "metadata": {
        "id": "5hr44EMh5JB3"
      },
      "execution_count": null,
      "outputs": []
    },
    {
      "cell_type": "code",
      "source": [
        "pd.unique(df2['tamanho_motor'])"
      ],
      "metadata": {
        "id": "nqB-Wy8c5MQ_"
      },
      "execution_count": null,
      "outputs": []
    },
    {
      "cell_type": "code",
      "source": [
        "pd.unique(df2['ano_modelo'])"
      ],
      "metadata": {
        "id": "g0LrWWAe5PtP"
      },
      "execution_count": null,
      "outputs": []
    },
    {
      "cell_type": "code",
      "source": [
        "pd.unique(df2['ano_modelo'])"
      ],
      "metadata": {
        "id": "1WKXEKAP5TYn"
      },
      "execution_count": null,
      "outputs": []
    },
    {
      "cell_type": "code",
      "source": [
        "pd.unique(df2['preco_medio_reais'])"
      ],
      "metadata": {
        "id": "CKOaVJmv5Wbg",
        "colab": {
          "base_uri": "https://localhost:8080/"
        },
        "outputId": "51d452db-0e0e-488f-ff4e-c0c3fa2d5925"
      },
      "execution_count": null,
      "outputs": [
        {
          "output_type": "execute_result",
          "data": {
            "text/plain": [
              "array([43779., 42244., 40841., ..., 72474., 67040.,    nan])"
            ]
          },
          "metadata": {},
          "execution_count": 53
        }
      ]
    },
    {
      "cell_type": "markdown",
      "source": [
        "##Dropando as Colunas\n",
        "\n",
        "Bloco com recuo"
      ],
      "metadata": {
        "id": "RUG9sDoyTfJ2"
      }
    },
    {
      "cell_type": "code",
      "source": [
        "#Drop de colunas que não serão utilizadas\n",
        "df2.drop(['codigo_fipe', 'autenticacao'],axis=1,inplace=True)"
      ],
      "metadata": {
        "id": "zYib3TcdTcKo"
      },
      "execution_count": null,
      "outputs": []
    },
    {
      "cell_type": "code",
      "source": [
        "df2.head()"
      ],
      "metadata": {
        "id": "ar3popW4TokM"
      },
      "execution_count": null,
      "outputs": []
    },
    {
      "cell_type": "markdown",
      "source": [
        "#Filtros"
      ],
      "metadata": {
        "id": "NgjmPxRF5eg7"
      }
    },
    {
      "cell_type": "code",
      "source": [
        "df2.head(3)"
      ],
      "metadata": {
        "id": "QrFXCf1G5aHn"
      },
      "execution_count": null,
      "outputs": []
    },
    {
      "cell_type": "code",
      "source": [
        "#Filtro para visualizar a marca dos carros\n",
        "filtrocarros = df2.marca == 'Fiat'\n",
        "df2.loc[filtrocarros]"
      ],
      "metadata": {
        "id": "RBQCQJn96Dmh"
      },
      "execution_count": null,
      "outputs": []
    },
    {
      "cell_type": "code",
      "source": [
        "#Filtro do ano de modelo dos carros\n",
        "ftanomodelo = df2.ano_modelo == 2022\n",
        "df2.loc[ftanomodelo]"
      ],
      "metadata": {
        "id": "kO_9FZK76ICZ"
      },
      "execution_count": null,
      "outputs": []
    },
    {
      "cell_type": "code",
      "source": [
        "#Filtro por ano de referência da tabela Fipe\n",
        "ftanoreferencia = df2.ano_referencia == 2022\n",
        "df2.loc[ftanoreferencia]"
      ],
      "metadata": {
        "id": "MZBZSPbI6MiI"
      },
      "execution_count": null,
      "outputs": []
    },
    {
      "cell_type": "code",
      "source": [
        "#Relacionando os Filtros\n",
        "df2.loc[filtrocarros & ftanomodelo & ftanoreferencia]"
      ],
      "metadata": {
        "id": "gMQe3pK-6QxZ"
      },
      "execution_count": null,
      "outputs": []
    },
    {
      "cell_type": "markdown",
      "source": [
        "#Groupby"
      ],
      "metadata": {
        "id": "72HDCUeZ6Yrq"
      }
    },
    {
      "cell_type": "code",
      "source": [
        "df2.head(3)"
      ],
      "metadata": {
        "id": "l-de6Han6Uwx",
        "colab": {
          "base_uri": "https://localhost:8080/",
          "height": 143
        },
        "outputId": "e6069e96-d501-4cde-be6d-8761b3a1cd30"
      },
      "execution_count": null,
      "outputs": [
        {
          "output_type": "execute_result",
          "data": {
            "text/plain": [
              "   ano_referencia mes_referencia  marca   modelo combustivel  cambio  \\\n",
              "0            2022        Janeiro  Acura  NSX 3.0    Gasolina  manual   \n",
              "1            2022        Janeiro  Acura  NSX 3.0    Gasolina  manual   \n",
              "2            2022        Janeiro  Acura  NSX 3.0    Gasolina  manual   \n",
              "\n",
              "   tamanho_motor  ano_modelo  preco_medio_reais  anos_idade  \n",
              "0            3.0      1995.0            43779.0        28.0  \n",
              "1            3.0      1994.0            42244.0        29.0  \n",
              "2            3.0      1993.0            40841.0        30.0  "
            ],
            "text/html": [
              "\n",
              "  <div id=\"df-a43d9b27-857a-474d-801e-fdbf8bbc3498\">\n",
              "    <div class=\"colab-df-container\">\n",
              "      <div>\n",
              "<style scoped>\n",
              "    .dataframe tbody tr th:only-of-type {\n",
              "        vertical-align: middle;\n",
              "    }\n",
              "\n",
              "    .dataframe tbody tr th {\n",
              "        vertical-align: top;\n",
              "    }\n",
              "\n",
              "    .dataframe thead th {\n",
              "        text-align: right;\n",
              "    }\n",
              "</style>\n",
              "<table border=\"1\" class=\"dataframe\">\n",
              "  <thead>\n",
              "    <tr style=\"text-align: right;\">\n",
              "      <th></th>\n",
              "      <th>ano_referencia</th>\n",
              "      <th>mes_referencia</th>\n",
              "      <th>marca</th>\n",
              "      <th>modelo</th>\n",
              "      <th>combustivel</th>\n",
              "      <th>cambio</th>\n",
              "      <th>tamanho_motor</th>\n",
              "      <th>ano_modelo</th>\n",
              "      <th>preco_medio_reais</th>\n",
              "      <th>anos_idade</th>\n",
              "    </tr>\n",
              "  </thead>\n",
              "  <tbody>\n",
              "    <tr>\n",
              "      <th>0</th>\n",
              "      <td>2022</td>\n",
              "      <td>Janeiro</td>\n",
              "      <td>Acura</td>\n",
              "      <td>NSX 3.0</td>\n",
              "      <td>Gasolina</td>\n",
              "      <td>manual</td>\n",
              "      <td>3.0</td>\n",
              "      <td>1995.0</td>\n",
              "      <td>43779.0</td>\n",
              "      <td>28.0</td>\n",
              "    </tr>\n",
              "    <tr>\n",
              "      <th>1</th>\n",
              "      <td>2022</td>\n",
              "      <td>Janeiro</td>\n",
              "      <td>Acura</td>\n",
              "      <td>NSX 3.0</td>\n",
              "      <td>Gasolina</td>\n",
              "      <td>manual</td>\n",
              "      <td>3.0</td>\n",
              "      <td>1994.0</td>\n",
              "      <td>42244.0</td>\n",
              "      <td>29.0</td>\n",
              "    </tr>\n",
              "    <tr>\n",
              "      <th>2</th>\n",
              "      <td>2022</td>\n",
              "      <td>Janeiro</td>\n",
              "      <td>Acura</td>\n",
              "      <td>NSX 3.0</td>\n",
              "      <td>Gasolina</td>\n",
              "      <td>manual</td>\n",
              "      <td>3.0</td>\n",
              "      <td>1993.0</td>\n",
              "      <td>40841.0</td>\n",
              "      <td>30.0</td>\n",
              "    </tr>\n",
              "  </tbody>\n",
              "</table>\n",
              "</div>\n",
              "      <button class=\"colab-df-convert\" onclick=\"convertToInteractive('df-a43d9b27-857a-474d-801e-fdbf8bbc3498')\"\n",
              "              title=\"Convert this dataframe to an interactive table.\"\n",
              "              style=\"display:none;\">\n",
              "        \n",
              "  <svg xmlns=\"http://www.w3.org/2000/svg\" height=\"24px\"viewBox=\"0 0 24 24\"\n",
              "       width=\"24px\">\n",
              "    <path d=\"M0 0h24v24H0V0z\" fill=\"none\"/>\n",
              "    <path d=\"M18.56 5.44l.94 2.06.94-2.06 2.06-.94-2.06-.94-.94-2.06-.94 2.06-2.06.94zm-11 1L8.5 8.5l.94-2.06 2.06-.94-2.06-.94L8.5 2.5l-.94 2.06-2.06.94zm10 10l.94 2.06.94-2.06 2.06-.94-2.06-.94-.94-2.06-.94 2.06-2.06.94z\"/><path d=\"M17.41 7.96l-1.37-1.37c-.4-.4-.92-.59-1.43-.59-.52 0-1.04.2-1.43.59L10.3 9.45l-7.72 7.72c-.78.78-.78 2.05 0 2.83L4 21.41c.39.39.9.59 1.41.59.51 0 1.02-.2 1.41-.59l7.78-7.78 2.81-2.81c.8-.78.8-2.07 0-2.86zM5.41 20L4 18.59l7.72-7.72 1.47 1.35L5.41 20z\"/>\n",
              "  </svg>\n",
              "      </button>\n",
              "      \n",
              "  <style>\n",
              "    .colab-df-container {\n",
              "      display:flex;\n",
              "      flex-wrap:wrap;\n",
              "      gap: 12px;\n",
              "    }\n",
              "\n",
              "    .colab-df-convert {\n",
              "      background-color: #E8F0FE;\n",
              "      border: none;\n",
              "      border-radius: 50%;\n",
              "      cursor: pointer;\n",
              "      display: none;\n",
              "      fill: #1967D2;\n",
              "      height: 32px;\n",
              "      padding: 0 0 0 0;\n",
              "      width: 32px;\n",
              "    }\n",
              "\n",
              "    .colab-df-convert:hover {\n",
              "      background-color: #E2EBFA;\n",
              "      box-shadow: 0px 1px 2px rgba(60, 64, 67, 0.3), 0px 1px 3px 1px rgba(60, 64, 67, 0.15);\n",
              "      fill: #174EA6;\n",
              "    }\n",
              "\n",
              "    [theme=dark] .colab-df-convert {\n",
              "      background-color: #3B4455;\n",
              "      fill: #D2E3FC;\n",
              "    }\n",
              "\n",
              "    [theme=dark] .colab-df-convert:hover {\n",
              "      background-color: #434B5C;\n",
              "      box-shadow: 0px 1px 3px 1px rgba(0, 0, 0, 0.15);\n",
              "      filter: drop-shadow(0px 1px 2px rgba(0, 0, 0, 0.3));\n",
              "      fill: #FFFFFF;\n",
              "    }\n",
              "  </style>\n",
              "\n",
              "      <script>\n",
              "        const buttonEl =\n",
              "          document.querySelector('#df-a43d9b27-857a-474d-801e-fdbf8bbc3498 button.colab-df-convert');\n",
              "        buttonEl.style.display =\n",
              "          google.colab.kernel.accessAllowed ? 'block' : 'none';\n",
              "\n",
              "        async function convertToInteractive(key) {\n",
              "          const element = document.querySelector('#df-a43d9b27-857a-474d-801e-fdbf8bbc3498');\n",
              "          const dataTable =\n",
              "            await google.colab.kernel.invokeFunction('convertToInteractive',\n",
              "                                                     [key], {});\n",
              "          if (!dataTable) return;\n",
              "\n",
              "          const docLinkHtml = 'Like what you see? Visit the ' +\n",
              "            '<a target=\"_blank\" href=https://colab.research.google.com/notebooks/data_table.ipynb>data table notebook</a>'\n",
              "            + ' to learn more about interactive tables.';\n",
              "          element.innerHTML = '';\n",
              "          dataTable['output_type'] = 'display_data';\n",
              "          await google.colab.output.renderOutput(dataTable, element);\n",
              "          const docLink = document.createElement('div');\n",
              "          docLink.innerHTML = docLinkHtml;\n",
              "          element.appendChild(docLink);\n",
              "        }\n",
              "      </script>\n",
              "    </div>\n",
              "  </div>\n",
              "  "
            ]
          },
          "metadata": {},
          "execution_count": 63
        }
      ]
    },
    {
      "cell_type": "code",
      "source": [
        "#Agrupando por capacidade de motor\n",
        "df2.groupby(['tamanho_motor']).size().sort_values(ascending=False)"
      ],
      "metadata": {
        "id": "OPXe7Org6ccB"
      },
      "execution_count": null,
      "outputs": []
    },
    {
      "cell_type": "code",
      "source": [
        "#Agrupando pelo mês de referência\n",
        "df2.groupby(['mes_referencia']).size().sort_values(ascending=False) "
      ],
      "metadata": {
        "id": "f1wQfxkV6hMy"
      },
      "execution_count": null,
      "outputs": []
    },
    {
      "cell_type": "code",
      "source": [
        "#Agrupando pelas marcas\n",
        "df2.groupby(['marca']).size().sort_values(ascending=False)"
      ],
      "metadata": {
        "id": "XV8ZTxRu6kOJ"
      },
      "execution_count": null,
      "outputs": []
    },
    {
      "cell_type": "markdown",
      "source": [
        "#Plotagem\n"
      ],
      "metadata": {
        "id": "VeRxHTwZ6rYR"
      }
    },
    {
      "cell_type": "code",
      "source": [
        "df2.head(3)"
      ],
      "metadata": {
        "id": "iAb-NVys6oGj",
        "colab": {
          "base_uri": "https://localhost:8080/",
          "height": 143
        },
        "outputId": "42bf5b8c-2dd9-4ad7-ae81-3736e382bf0e"
      },
      "execution_count": null,
      "outputs": [
        {
          "output_type": "execute_result",
          "data": {
            "text/plain": [
              "   ano_referencia mes_referencia  marca   modelo combustivel  cambio  \\\n",
              "0            2022        Janeiro  Acura  NSX 3.0    Gasolina  manual   \n",
              "1            2022        Janeiro  Acura  NSX 3.0    Gasolina  manual   \n",
              "2            2022        Janeiro  Acura  NSX 3.0    Gasolina  manual   \n",
              "\n",
              "   tamanho_motor  ano_modelo  preco_medio_reais  anos_idade  \n",
              "0            3.0      1995.0            43779.0        28.0  \n",
              "1            3.0      1994.0            42244.0        29.0  \n",
              "2            3.0      1993.0            40841.0        30.0  "
            ],
            "text/html": [
              "\n",
              "  <div id=\"df-5e76359a-d5c3-4898-b65d-7f1428b254d5\">\n",
              "    <div class=\"colab-df-container\">\n",
              "      <div>\n",
              "<style scoped>\n",
              "    .dataframe tbody tr th:only-of-type {\n",
              "        vertical-align: middle;\n",
              "    }\n",
              "\n",
              "    .dataframe tbody tr th {\n",
              "        vertical-align: top;\n",
              "    }\n",
              "\n",
              "    .dataframe thead th {\n",
              "        text-align: right;\n",
              "    }\n",
              "</style>\n",
              "<table border=\"1\" class=\"dataframe\">\n",
              "  <thead>\n",
              "    <tr style=\"text-align: right;\">\n",
              "      <th></th>\n",
              "      <th>ano_referencia</th>\n",
              "      <th>mes_referencia</th>\n",
              "      <th>marca</th>\n",
              "      <th>modelo</th>\n",
              "      <th>combustivel</th>\n",
              "      <th>cambio</th>\n",
              "      <th>tamanho_motor</th>\n",
              "      <th>ano_modelo</th>\n",
              "      <th>preco_medio_reais</th>\n",
              "      <th>anos_idade</th>\n",
              "    </tr>\n",
              "  </thead>\n",
              "  <tbody>\n",
              "    <tr>\n",
              "      <th>0</th>\n",
              "      <td>2022</td>\n",
              "      <td>Janeiro</td>\n",
              "      <td>Acura</td>\n",
              "      <td>NSX 3.0</td>\n",
              "      <td>Gasolina</td>\n",
              "      <td>manual</td>\n",
              "      <td>3.0</td>\n",
              "      <td>1995.0</td>\n",
              "      <td>43779.0</td>\n",
              "      <td>28.0</td>\n",
              "    </tr>\n",
              "    <tr>\n",
              "      <th>1</th>\n",
              "      <td>2022</td>\n",
              "      <td>Janeiro</td>\n",
              "      <td>Acura</td>\n",
              "      <td>NSX 3.0</td>\n",
              "      <td>Gasolina</td>\n",
              "      <td>manual</td>\n",
              "      <td>3.0</td>\n",
              "      <td>1994.0</td>\n",
              "      <td>42244.0</td>\n",
              "      <td>29.0</td>\n",
              "    </tr>\n",
              "    <tr>\n",
              "      <th>2</th>\n",
              "      <td>2022</td>\n",
              "      <td>Janeiro</td>\n",
              "      <td>Acura</td>\n",
              "      <td>NSX 3.0</td>\n",
              "      <td>Gasolina</td>\n",
              "      <td>manual</td>\n",
              "      <td>3.0</td>\n",
              "      <td>1993.0</td>\n",
              "      <td>40841.0</td>\n",
              "      <td>30.0</td>\n",
              "    </tr>\n",
              "  </tbody>\n",
              "</table>\n",
              "</div>\n",
              "      <button class=\"colab-df-convert\" onclick=\"convertToInteractive('df-5e76359a-d5c3-4898-b65d-7f1428b254d5')\"\n",
              "              title=\"Convert this dataframe to an interactive table.\"\n",
              "              style=\"display:none;\">\n",
              "        \n",
              "  <svg xmlns=\"http://www.w3.org/2000/svg\" height=\"24px\"viewBox=\"0 0 24 24\"\n",
              "       width=\"24px\">\n",
              "    <path d=\"M0 0h24v24H0V0z\" fill=\"none\"/>\n",
              "    <path d=\"M18.56 5.44l.94 2.06.94-2.06 2.06-.94-2.06-.94-.94-2.06-.94 2.06-2.06.94zm-11 1L8.5 8.5l.94-2.06 2.06-.94-2.06-.94L8.5 2.5l-.94 2.06-2.06.94zm10 10l.94 2.06.94-2.06 2.06-.94-2.06-.94-.94-2.06-.94 2.06-2.06.94z\"/><path d=\"M17.41 7.96l-1.37-1.37c-.4-.4-.92-.59-1.43-.59-.52 0-1.04.2-1.43.59L10.3 9.45l-7.72 7.72c-.78.78-.78 2.05 0 2.83L4 21.41c.39.39.9.59 1.41.59.51 0 1.02-.2 1.41-.59l7.78-7.78 2.81-2.81c.8-.78.8-2.07 0-2.86zM5.41 20L4 18.59l7.72-7.72 1.47 1.35L5.41 20z\"/>\n",
              "  </svg>\n",
              "      </button>\n",
              "      \n",
              "  <style>\n",
              "    .colab-df-container {\n",
              "      display:flex;\n",
              "      flex-wrap:wrap;\n",
              "      gap: 12px;\n",
              "    }\n",
              "\n",
              "    .colab-df-convert {\n",
              "      background-color: #E8F0FE;\n",
              "      border: none;\n",
              "      border-radius: 50%;\n",
              "      cursor: pointer;\n",
              "      display: none;\n",
              "      fill: #1967D2;\n",
              "      height: 32px;\n",
              "      padding: 0 0 0 0;\n",
              "      width: 32px;\n",
              "    }\n",
              "\n",
              "    .colab-df-convert:hover {\n",
              "      background-color: #E2EBFA;\n",
              "      box-shadow: 0px 1px 2px rgba(60, 64, 67, 0.3), 0px 1px 3px 1px rgba(60, 64, 67, 0.15);\n",
              "      fill: #174EA6;\n",
              "    }\n",
              "\n",
              "    [theme=dark] .colab-df-convert {\n",
              "      background-color: #3B4455;\n",
              "      fill: #D2E3FC;\n",
              "    }\n",
              "\n",
              "    [theme=dark] .colab-df-convert:hover {\n",
              "      background-color: #434B5C;\n",
              "      box-shadow: 0px 1px 3px 1px rgba(0, 0, 0, 0.15);\n",
              "      filter: drop-shadow(0px 1px 2px rgba(0, 0, 0, 0.3));\n",
              "      fill: #FFFFFF;\n",
              "    }\n",
              "  </style>\n",
              "\n",
              "      <script>\n",
              "        const buttonEl =\n",
              "          document.querySelector('#df-5e76359a-d5c3-4898-b65d-7f1428b254d5 button.colab-df-convert');\n",
              "        buttonEl.style.display =\n",
              "          google.colab.kernel.accessAllowed ? 'block' : 'none';\n",
              "\n",
              "        async function convertToInteractive(key) {\n",
              "          const element = document.querySelector('#df-5e76359a-d5c3-4898-b65d-7f1428b254d5');\n",
              "          const dataTable =\n",
              "            await google.colab.kernel.invokeFunction('convertToInteractive',\n",
              "                                                     [key], {});\n",
              "          if (!dataTable) return;\n",
              "\n",
              "          const docLinkHtml = 'Like what you see? Visit the ' +\n",
              "            '<a target=\"_blank\" href=https://colab.research.google.com/notebooks/data_table.ipynb>data table notebook</a>'\n",
              "            + ' to learn more about interactive tables.';\n",
              "          element.innerHTML = '';\n",
              "          dataTable['output_type'] = 'display_data';\n",
              "          await google.colab.output.renderOutput(dataTable, element);\n",
              "          const docLink = document.createElement('div');\n",
              "          docLink.innerHTML = docLinkHtml;\n",
              "          element.appendChild(docLink);\n",
              "        }\n",
              "      </script>\n",
              "    </div>\n",
              "  </div>\n",
              "  "
            ]
          },
          "metadata": {},
          "execution_count": 60
        }
      ]
    },
    {
      "cell_type": "code",
      "source": [
        "#Combustível mais utilizado\n",
        "df2.groupby(['combustivel'],dropna=False).size().sort_values(ascending=False).head(5).plot.bar(figsize=(8,8)) "
      ],
      "metadata": {
        "id": "14hfghaX6yok",
        "colab": {
          "base_uri": "https://localhost:8080/",
          "height": 547
        },
        "outputId": "c59b7eec-0b6a-45b9-f008-1861d2b13109"
      },
      "execution_count": null,
      "outputs": [
        {
          "output_type": "execute_result",
          "data": {
            "text/plain": [
              "<matplotlib.axes._subplots.AxesSubplot at 0x7ff75ccf6040>"
            ]
          },
          "metadata": {},
          "execution_count": 61
        },
        {
          "output_type": "display_data",
          "data": {
            "text/plain": [
              "<Figure size 576x576 with 1 Axes>"
            ],
            "image/png": "[encoded data removed]"
          },
          "metadata": {
            "needs_background": "light"
          }
        }
      ]
    },
    {
      "cell_type": "code",
      "source": [
        "#Número maior de carros com câmbio manual\n",
        "df2.groupby(['cambio'],dropna=False).size().sort_values(ascending=False).plot.pie(figsize=(8,8))"
      ],
      "metadata": {
        "id": "oVikNAB265Bq",
        "colab": {
          "base_uri": "https://localhost:8080/",
          "height": 483
        },
        "outputId": "80116423-bd1a-4e88-d62c-9cca67be0086"
      },
      "execution_count": null,
      "outputs": [
        {
          "output_type": "execute_result",
          "data": {
            "text/plain": [
              "<matplotlib.axes._subplots.AxesSubplot at 0x7ff75cc2f7f0>"
            ]
          },
          "metadata": {},
          "execution_count": 62
        },
        {
          "output_type": "display_data",
          "data": {
            "text/plain": [
              "<Figure size 576x576 with 1 Axes>"
            ],
            "image/png": "[encoded data removed]"
          },
          "metadata": {}
        }
      ]
    },
    {
      "cell_type": "markdown",
      "source": [
        "# Dataset fipe_2022 tratado enviando para bucket"
      ],
      "metadata": {
        "id": "xpC5SwCDLULl"
      }
    },
    {
      "cell_type": "code",
      "source": [
        "#Upload\n",
        "client = storage.Client()             \n",
        "bucket = client.get_bucket('')\n",
        "\n",
        "blob = bucket.blob('')\n",
        "blob.upload_from_filename('')  "
      ],
      "metadata": {
        "id": "P8GNKiWHLTEg"
      },
      "execution_count": null,
      "outputs": []
    },
    {
      "cell_type": "code",
      "source": [
        "dados_fipe_final = df2"
      ],
      "metadata": {
        "id": "88fmKkCQMh20"
      },
      "execution_count": null,
      "outputs": []
    },
    {
      "cell_type": "code",
      "source": [
        "dados_fipe_final"
      ],
      "metadata": {
        "id": "6wtJfXAmMrOU"
      },
      "execution_count": null,
      "outputs": []
    },
    {
      "cell_type": "code",
      "source": [
        "dados_fipe_final.to_csv('dadoss_finais.csv')"
      ],
      "metadata": {
        "id": "kdq85piWNCkC"
      },
      "execution_count": null,
      "outputs": []
    },
    {
      "cell_type": "code",
      "source": [
        "#Carregando arquivos\n",
        "client=storage.Client();\n",
        "bucket=client.get_bucket('bc26_projeto_final');\n",
        "blob=bucket.blob('tratados/dadoss_finais.csv')\n",
        "blob.upload_from_filename('/content/dadoss_finais.csv')"
      ],
      "metadata": {
        "id": "KoVN7n5JNKr-"
      },
      "execution_count": null,
      "outputs": []
    },
    {
      "cell_type": "markdown",
      "source": [
        "#MongoDB"
      ],
      "metadata": {
        "id": "u3ZJkhUzRjCc"
      }
    },
    {
      "cell_type": "code",
      "source": [
        "#conector do mongo atlas\n",
        "uri = \"mongodb://ac-wrb5fxy-shard-00-00.afy6vc5.mongodb.net:27017,ac-wrb5fxy-shard-00-01.afy6vc5.mongodb.net:27017,ac-wrb5fxy-shard-00-02.afy6vc5.mongodb.net:27017/?ssl=true&replicaSet=atlas-atmqzb-shard-0&authSource=%24external&authMechanism=MONGODB-X509&retryWrites=true&w=majority\"\n",
        "client_1 = MongoClient(uri, tls=True, tlsCertificateKeyFile='/content/X509-cert-1524735985430801619.pem')"
      ],
      "metadata": {
        "id": "RPpIA3crRKqA"
      },
      "execution_count": null,
      "outputs": []
    },
    {
      "cell_type": "code",
      "source": [
        "#coleção dados da Fipe\n",
        "db = client_1['Projeto']\n",
        "colecao = db['FIPE-2022']"
      ],
      "metadata": {
        "id": "2Y1NIY7mRnvP"
      },
      "execution_count": null,
      "outputs": []
    },
    {
      "cell_type": "code",
      "source": [
        "doc_count = colecao.count_documents({})\n",
        "print(doc_count)"
      ],
      "metadata": {
        "id": "SBmU2yWJTsSi"
      },
      "execution_count": null,
      "outputs": []
    },
    {
      "cell_type": "code",
      "source": [
        "# enviar o DF para colecao selecionada no mongo\n",
        "df2_dict = df2.to_dict(\"records\")\n",
        "colecao.insert_many(df2_dict)"
      ],
      "metadata": {
        "id": "gkh7dg8DT0hr"
      },
      "execution_count": null,
      "outputs": []
    },
    {
      "cell_type": "code",
      "source": [
        "# escolha/crie o database e colecao\n",
        "db = client_1['Projeto']\n",
        "colecao = db['dadoss_finais']"
      ],
      "metadata": {
        "id": "QT3gDKX4t3Qz"
      },
      "execution_count": null,
      "outputs": []
    },
    {
      "cell_type": "code",
      "source": [
        "dados_fipe_final_dict = dados_fipe_final.to_dict(\"records\")\n",
        "colecao.insert_many(dados_fipe_final_dict)"
      ],
      "metadata": {
        "id": "QNo1AOaPiGRs"
      },
      "execution_count": null,
      "outputs": []
    },
    {
      "cell_type": "code",
      "source": [
        "colec = colecao.find({})\n",
        "dados_fipe = pd.DataFrame(list(colec))"
      ],
      "metadata": {
        "id": "2GvL4glXxHON"
      },
      "execution_count": null,
      "outputs": []
    },
    {
      "cell_type": "code",
      "source": [
        "colecao.count_documents({})"
      ],
      "metadata": {
        "id": "lsp138MwxPOo"
      },
      "execution_count": null,
      "outputs": []
    },
    {
      "cell_type": "code",
      "source": [
        "dados_fipe"
      ],
      "metadata": {
        "id": "HsyIQPawxW-2"
      },
      "execution_count": null,
      "outputs": []
    },
    {
      "cell_type": "code",
      "source": [
        "df3 = pd.read_csv('/content/dados_brasil_consolidado.csv')"
      ],
      "metadata": {
        "id": "JfUXCIk4JTRN"
      },
      "execution_count": null,
      "outputs": []
    },
    {
      "cell_type": "code",
      "source": [
        "#coleção dados dataframe Brasil\n",
        "db2 = client_1['Projeto']\n",
        "colecao2 = db2['dados_brasil_consolidado']"
      ],
      "metadata": {
        "id": "HzGbV3chDqtL"
      },
      "execution_count": null,
      "outputs": []
    },
    {
      "cell_type": "code",
      "source": [
        "doc_count = colecao2.count_documents({})\n",
        "print(doc_count)"
      ],
      "metadata": {
        "colab": {
          "base_uri": "https://localhost:8080/"
        },
        "id": "IRPzcK7OD26z",
        "outputId": "cf09fe10-9bab-46b2-f01e-f9d300edc17f"
      },
      "execution_count": null,
      "outputs": [
        {
          "output_type": "stream",
          "name": "stdout",
          "text": [
            "0\n"
          ]
        }
      ]
    },
    {
      "cell_type": "code",
      "source": [
        "# enviar o DF para colecao selecionada no mongo\n",
        "df3_dict = df3.to_dict('records')\n",
        "colecao2.insert_many(df3_dict)"
      ],
      "metadata": {
        "colab": {
          "base_uri": "https://localhost:8080/"
        },
        "id": "Vpz1lhcJD3wt",
        "outputId": "be36ef6b-1215-4f03-9e22-8f40902b9cca"
      },
      "execution_count": null,
      "outputs": [
        {
          "output_type": "execute_result",
          "data": {
            "text/plain": [
              "<pymongo.results.InsertManyResult at 0x7fa30eb5b9a0>"
            ]
          },
          "metadata": {},
          "execution_count": 21
        }
      ]
    },
    {
      "cell_type": "code",
      "source": [
        "colec_2 = colecao2.find({})\n",
        "dados_brasil = pd.DataFrame(list(colec_2))"
      ],
      "metadata": {
        "id": "-7jXTDvMEAoT"
      },
      "execution_count": null,
      "outputs": []
    },
    {
      "cell_type": "code",
      "source": [
        "colecao2.count_documents({})"
      ],
      "metadata": {
        "id": "iQxERHlTEG37",
        "colab": {
          "base_uri": "https://localhost:8080/"
        },
        "outputId": "c381e54a-43bb-45f7-9c58-20c21561ac7d"
      },
      "execution_count": null,
      "outputs": [
        {
          "output_type": "execute_result",
          "data": {
            "text/plain": [
              "59"
            ]
          },
          "metadata": {},
          "execution_count": 27
        }
      ]
    },
    {
      "cell_type": "code",
      "source": [
        "dados_brasil"
      ],
      "metadata": {
        "id": "nssKhKYGEJsH",
        "colab": {
          "base_uri": "https://localhost:8080/",
          "height": 1000
        },
        "outputId": "d308358e-0bb9-44b6-b8f3-3c9aa60b8dbf"
      },
      "execution_count": null,
      "outputs": [
        {
          "output_type": "execute_result",
          "data": {
            "text/plain": [
              "                         _id        data  vendas_saz  vendas_saz_preco_mes  \\\n",
              "0   63c6b388557ee47cb29f0341  2021-08-01    141804.0                 -4.51   \n",
              "1   63c6b388557ee47cb29f0342  2018-02-01    175386.0                 -0.52   \n",
              "2   63c6b388557ee47cb29f0343  2018-10-01    210175.0                  6.30   \n",
              "3   63c6b388557ee47cb29f0344  2022-09-01    162401.0                 -2.98   \n",
              "4   63c6b388557ee47cb29f0345  2018-06-01    181826.0                  8.65   \n",
              "5   63c6b388557ee47cb29f0346  2020-12-01    190310.0                 -1.48   \n",
              "6   63c6b388557ee47cb29f0347  2021-01-01    190624.0                  0.16   \n",
              "7   63c6b388557ee47cb29f0348  2021-06-01    160445.0                 -4.65   \n",
              "8   63c6b388557ee47cb29f0349  2018-04-01    201206.0                 10.42   \n",
              "9   63c6b388557ee47cb29f034a  2018-07-01    190135.0                  4.57   \n",
              "10  63c6b388557ee47cb29f034b  2020-07-01    146363.0                 24.76   \n",
              "11  63c6b388557ee47cb29f034c  2020-08-01    164849.0                 12.63   \n",
              "12  63c6b388557ee47cb29f034d  2021-04-01    169849.0                  1.76   \n",
              "13  63c6b388557ee47cb29f034e  2019-04-01    205401.0                 -2.11   \n",
              "14  63c6b388557ee47cb29f034f  2020-02-01    207985.0                  9.60   \n",
              "15  63c6b388557ee47cb29f0350  2018-03-01    182211.0                  3.89   \n",
              "16  63c6b388557ee47cb29f0351  2020-09-01    181578.0                 10.15   \n",
              "17  63c6b388557ee47cb29f0352  2019-11-01    207351.0                  1.31   \n",
              "18  63c6b388557ee47cb29f0353  2018-05-01    167350.0                -16.83   \n",
              "19  63c6b388557ee47cb29f0354  2021-02-01    184474.0                 -3.23   \n",
              "20  63c6b388557ee47cb29f0355  2019-05-01    210196.0                  2.33   \n",
              "21  63c6b388557ee47cb29f0356  2020-10-01    187050.0                  3.01   \n",
              "22  63c6b388557ee47cb29f0357  2022-02-01    143411.0                  4.93   \n",
              "23  63c6b388557ee47cb29f0358  2021-12-01    137217.0                  1.13   \n",
              "24  63c6b388557ee47cb29f0359  2018-08-01    199209.0                  4.77   \n",
              "25  63c6b388557ee47cb29f035a  2019-08-01    205576.0                 -1.68   \n",
              "26  63c6b388557ee47cb29f035b  2019-12-01    211491.0                  2.00   \n",
              "27  63c6b388557ee47cb29f035c  2019-07-01    209080.0                 -4.19   \n",
              "28  63c6b388557ee47cb29f035d  2021-03-01    166908.0                 -9.52   \n",
              "29  63c6b388557ee47cb29f035e  2020-01-01    189767.0                -10.27   \n",
              "30  63c6b388557ee47cb29f035f  2018-01-01    176310.0                  1.64   \n",
              "31  63c6b388557ee47cb29f0360  2019-03-01    209819.0                  6.49   \n",
              "32  63c6b388557ee47cb29f0361  2022-11-01    161038.0                  0.81   \n",
              "33  63c6b388557ee47cb29f0362  2018-11-01    194441.0                 -7.49   \n",
              "34  63c6b388557ee47cb29f0363  2022-06-01    153964.0                  0.49   \n",
              "35  63c6b388557ee47cb29f0364  2020-03-01    149899.0                -27.93   \n",
              "36  63c6b388557ee47cb29f0365  2022-10-01    159738.0                 -1.64   \n",
              "37  63c6b388557ee47cb29f0366  2022-05-01    153207.0                  3.55   \n",
              "38  63c6b388557ee47cb29f0367  2020-05-01     58694.0                  0.45   \n",
              "39  63c6b388557ee47cb29f0368  2019-09-01    205547.0                 -0.01   \n",
              "40  63c6b388557ee47cb29f0369  2020-11-01    193177.0                  3.28   \n",
              "41  63c6b388557ee47cb29f036a  2019-10-01    204666.0                 -0.43   \n",
              "42  63c6b388557ee47cb29f036b  2021-05-01    168261.0                 -0.93   \n",
              "43  63c6b388557ee47cb29f036c  2021-07-01    148508.0                 -7.44   \n",
              "44  63c6b388557ee47cb29f036d  2021-09-01    126709.0                -10.64   \n",
              "45  63c6b388557ee47cb29f036e  2018-12-01    192403.0                 -1.05   \n",
              "46  63c6b388557ee47cb29f036f  2018-09-01    197719.0                 -0.75   \n",
              "47  63c6b388557ee47cb29f0370  2021-10-01    141351.0                 11.56   \n",
              "48  63c6b388557ee47cb29f0371  2022-07-01    166566.0                  8.19   \n",
              "49  63c6b388557ee47cb29f0372  2022-04-01    147958.0                 15.33   \n",
              "50  63c6b388557ee47cb29f0373  2019-01-01    193728.0                  0.69   \n",
              "51  63c6b388557ee47cb29f0374  2020-06-01    117316.0                 99.88   \n",
              "52  63c6b388557ee47cb29f0375  2019-06-01    218233.0                  3.82   \n",
              "53  63c6b388557ee47cb29f0376  2022-03-01    128295.0                -10.54   \n",
              "54  63c6b388557ee47cb29f0377  2020-04-01     58431.0                -61.02   \n",
              "55  63c6b388557ee47cb29f0378  2019-02-01    197030.0                  1.70   \n",
              "56  63c6b388557ee47cb29f0379  2021-11-01    135688.0                 -4.01   \n",
              "57  63c6b388557ee47cb29f037a  2022-01-01    136669.0                 -0.40   \n",
              "58  63c6b388557ee47cb29f037b  2022-08-01    167392.0                  0.50   \n",
              "\n",
              "    vendas_saz_preco_ano  prod_auto_leve  prod_auto_leve_preco_atual_mes  \\\n",
              "0                 -13.98        148857.0                            0.70   \n",
              "1                   8.93        203610.0                           -3.30   \n",
              "2                  18.64        250018.0                           18.09   \n",
              "3                  28.17        189007.0                          -12.97   \n",
              "4                   4.62        244732.0                           20.51   \n",
              "5                 -10.02        197802.0                          -12.10   \n",
              "6                   0.45        190156.0                           -3.87   \n",
              "7                  36.76        151286.0                          -14.66   \n",
              "8                  23.75        254154.0                           -0.24   \n",
              "9                  11.64        234222.0                           -4.29   \n",
              "10                -30.00        162230.0                           77.33   \n",
              "11                -19.81        201572.0                           24.25   \n",
              "12                190.68        175942.0                           -5.26   \n",
              "13                  2.08        255351.0                           10.65   \n",
              "14                  5.56        192519.0                            5.12   \n",
              "15                 13.26        254759.0                           25.12   \n",
              "16                -11.66        208773.0                            3.57   \n",
              "17                  6.64        216645.0                          -21.10   \n",
              "18                  0.60        203081.0                          -20.10   \n",
              "19                -11.30        183641.0                           -3.43   \n",
              "20                 25.60        261742.0                            2.50   \n",
              "21                 -8.61        223759.0                            7.18   \n",
              "22                -22.26        152590.0                           13.34   \n",
              "23                -27.90        197101.0                            3.87   \n",
              "24                 14.58        278414.0                           18.87   \n",
              "25                  3.20        256360.0                            1.15   \n",
              "26                  9.92        163338.0                          -24.61   \n",
              "27                  9.96        253434.0                           14.79   \n",
              "28                 11.35        185718.0                            1.13   \n",
              "29                 -2.04        183136.0                           12.12   \n",
              "30                 23.19        210565.0                           -0.18   \n",
              "31                 15.15        230773.0                           -6.11   \n",
              "32                 18.68        197706.0                            5.54   \n",
              "33                 13.17        232659.0                           -6.94   \n",
              "34                 -4.04        187237.0                           -0.91   \n",
              "35                -28.56        179560.0                           -6.73   \n",
              "36                 13.01        187336.0                           -0.88   \n",
              "37                 -8.95        188956.0                            8.38   \n",
              "38                -72.08         37807.0                         3507.54   \n",
              "39                  3.96        234636.0                           -8.47   \n",
              "40                 -6.84        225021.0                            0.56   \n",
              "41                 -2.62        274583.0                           17.03   \n",
              "42                186.67        177281.0                            0.76   \n",
              "43                  1.47        147822.0                           -2.29   \n",
              "44                -30.22        159073.0                            6.86   \n",
              "45                 10.91        169018.0                          -27.35   \n",
              "46                  9.33        211716.0                          -23.96   \n",
              "47                -24.43        163928.0                            3.05   \n",
              "48                 12.16        203096.0                            8.47   \n",
              "49                -12.89        174340.0                            3.26   \n",
              "50                  9.88        190415.0                           12.66   \n",
              "51                -46.24         91487.0                          141.98   \n",
              "52                 20.02        220782.0                          -15.65   \n",
              "53                -23.13        168834.0                           10.65   \n",
              "54                -71.55          1048.0                          -99.42   \n",
              "55                 12.34        245782.0                           29.08   \n",
              "56                -29.76        189757.0                           15.76   \n",
              "57                -28.30        134629.0                          -31.70   \n",
              "58                 18.04        217174.0                            6.93   \n",
              "\n",
              "    prod_auto-leve_ano  expo_saz  expo_saz_preço_mes  ...  vendas_preco_ano  \\\n",
              "0               -26.15   28721.0               23.26  ...             -9.71   \n",
              "1                 4.37   62857.0                2.02  ...             14.19   \n",
              "2                 2.41   41340.0               -4.34  ...             24.07   \n",
              "3                18.82   31770.0              -31.20  ...             26.76   \n",
              "4                18.91   60070.0               10.73  ...              0.80   \n",
              "5                21.10   40656.0               -8.33  ...             -4.35   \n",
              "6                 3.83   36744.0               -9.62  ...             -9.45   \n",
              "7                65.36   29905.0               -6.44  ...             36.58   \n",
              "8                38.01   72381.0               13.69  ...             36.71   \n",
              "9                 8.20   47921.0              -20.22  ...             15.92   \n",
              "10              -35.99   28370.0               85.39  ...            -28.74   \n",
              "11              -21.37   27102.0               -4.47  ...            -23.67   \n",
              "12            16688.36   30772.0              -12.66  ...            233.51   \n",
              "13                0.47   33228.0               -7.37  ...              8.01   \n",
              "14              -21.67   33953.0                3.29  ...              1.83   \n",
              "15               11.28   63663.0                1.28  ...              8.73   \n",
              "16              -11.02   33648.0               24.15  ...            -10.24   \n",
              "17               -6.88   31442.0               -2.91  ...              6.64   \n",
              "18              -16.66   54250.0              -25.05  ...              0.68   \n",
              "19               -4.61   29583.0              -19.49  ...            -14.60   \n",
              "20               28.89   36406.0                9.56  ...             25.17   \n",
              "21              -18.51   36831.0                9.46  ...            -14.08   \n",
              "22              -16.91   38102.0                0.42  ...            -23.78   \n",
              "23               -0.35   43563.0               53.04  ...            -20.21   \n",
              "24                8.84   55676.0               16.18  ...             13.03   \n",
              "25               -7.92   36096.0              -11.53  ...             -0.62   \n",
              "26               -3.36   31209.0               -0.74  ...             13.09   \n",
              "27                8.20   40799.0               14.05  ...             14.90   \n",
              "28                3.43   35234.0               19.10  ...             17.45   \n",
              "29               -3.82   32873.0                5.33  ...             -2.67   \n",
              "30               21.14   61613.0               -0.87  ...             22.91   \n",
              "31               -9.42   35872.0               -2.47  ...              1.79   \n",
              "32                4.19   43528.0               -1.21  ...             17.33   \n",
              "33               -4.74   33643.0              -18.62  ...             12.31   \n",
              "34               23.76   44226.0                7.87  ...             -4.34   \n",
              "35              -22.19   28275.0              -16.72  ...            -21.34   \n",
              "36               14.28   44059.0               38.68  ...             13.17   \n",
              "37                6.59   40998.0               -0.89  ...             -2.96   \n",
              "38              -85.56   -1462.0             -129.91  ...            -76.17   \n",
              "39               10.83   40170.0               11.29  ...             12.31   \n",
              "40                3.87   44351.0               20.42  ...             -6.23   \n",
              "41                9.83   32386.0              -19.38  ...              1.10   \n",
              "42              368.91   31965.0                3.88  ...            223.00   \n",
              "43               -8.88   23302.0              -22.08  ...             -3.03   \n",
              "44              -23.81   26769.0               -6.80  ...            -29.36   \n",
              "45              -19.87   33381.0               -0.78  ...             10.29   \n",
              "46               -8.14   43215.0              -22.38  ...              4.53   \n",
              "47              -26.74   31332.0               17.05  ...            -28.40   \n",
              "48               37.39   41522.0               -6.11  ...              5.49   \n",
              "49               -0.91   41368.0                9.28  ...            -18.75   \n",
              "50               -9.57   44255.0               32.58  ...              9.72   \n",
              "51              -58.56   15303.0            -1146.72  ...            -42.28   \n",
              "52               -9.79   35772.0               -1.74  ...             14.04   \n",
              "53               -9.09   37855.0               -0.65  ...            -24.98   \n",
              "54              -99.59    4888.0              -82.71  ...            -76.98   \n",
              "55               20.71   36781.0              -16.89  ...             27.57   \n",
              "56              -15.67   28466.0               -9.15  ...            -27.69   \n",
              "57              -29.20   37941.0              -12.91  ...            -30.06   \n",
              "58               45.89   46175.0               11.21  ...             23.45   \n",
              "\n",
              "    vendas_sa  vendas_sa_mes  expo_auto  expo_preco_mes  expo_preco_ano  \\\n",
              "0   133875.44          -8.56    29444.0           23.89            5.55   \n",
              "1   170416.27          -7.74    66321.0           42.94           -1.14   \n",
              "2   219450.02          15.66    38734.0           -1.81          -37.32   \n",
              "3   169495.44           0.26    28544.0          -39.00           20.75   \n",
              "4   179651.48           3.46    64918.0            6.85           -4.37   \n",
              "5   189255.95          -2.27    38405.0          -12.73           32.40   \n",
              "6   182779.56          -3.42    25918.0          -32.51           26.13   \n",
              "7   162147.72           0.11    33512.0           -9.39           72.62   \n",
              "8   191948.38           3.40    72975.0            8.13           19.24   \n",
              "9   184850.20           2.89    49705.0          -23.43          -24.21   \n",
              "10  151287.61          25.71    29126.0           50.03          -30.80   \n",
              "11  150352.60          -0.62    27897.0           -4.22          -24.08   \n",
              "12  166234.47          -8.52    33877.0           -7.89          369.73   \n",
              "13  208688.67           8.70    34905.0          -10.72          -52.17   \n",
              "14  208333.60           5.50    37677.0           83.35           -6.99   \n",
              "15  185641.81           8.93    67488.0            1.76           -2.59   \n",
              "16  190618.84          26.78    30519.0            9.40          -16.71   \n",
              "17  207708.60          -6.26    31735.0            5.90           -7.86   \n",
              "18  173650.16          -9.53    60754.0          -16.75          -17.26   \n",
              "19  180144.20          -1.44    33064.0           27.57          -12.24   \n",
              "20  216307.94           3.65    42126.0           20.69          -30.66   \n",
              "21  189738.00          -0.46    34882.0           14.30           16.41   \n",
              "22  142574.73           3.83    41449.0           49.59           25.36   \n",
              "23  142831.34           4.62    41581.0           48.41            8.27   \n",
              "24  203302.28           9.98    56104.0           12.87          -16.60   \n",
              "25  200909.56          -6.09    36743.0          -12.70          -34.51   \n",
              "26  201199.53          -3.13    29006.0           -8.60           -8.52   \n",
              "27  213941.60           4.26    42089.0            4.10          -15.32   \n",
              "28  181722.42           0.88    36777.0           11.23           19.51   \n",
              "29  197471.30          -1.85    20549.0          -29.16          -32.09   \n",
              "30  184705.00          17.60    46398.0          -24.11           21.70   \n",
              "31  191992.27          -7.26    39098.0           -3.49          -42.07   \n",
              "32  162584.20           4.16    43437.0            1.57           55.03   \n",
              "33  195202.80         -11.05    34441.0          -11.08          -52.87   \n",
              "34  154084.72          -1.11    47315.0            2.70           41.19   \n",
              "35  154695.81         -25.75    30772.0          -18.33          -21.30   \n",
              "36  156086.30          -7.91    42765.0           49.82           43.49   \n",
              "37  155816.86          12.17    46069.0            2.78           24.56   \n",
              "38   46601.49         -11.74     3870.0          -46.34          -90.81   \n",
              "39  212841.56           5.94    36640.0           -0.28           -7.12   \n",
              "40  193659.44           2.07    44007.0           26.16           38.67   \n",
              "41  221579.10           4.11    29966.0          -18.22          -22.64   \n",
              "42  161964.23          -2.57    36984.0            9.17          855.66   \n",
              "43  146412.25          -9.70    23766.0          -29.08          -18.40   \n",
              "44  134617.94           0.55    23639.0          -19.72          -22.54   \n",
              "45  175697.36          -9.99    31709.0           -7.93          -48.14   \n",
              "46  189735.16          -6.67    39449.0          -29.69          -34.46   \n",
              "47  136064.94           1.07    29803.0           26.08          -14.56   \n",
              "48  154971.80           0.58    41906.0          -11.43           76.33   \n",
              "49  138907.78           0.10    44821.0           15.23           32.31   \n",
              "50  200651.83          14.20    30261.0           -4.57          -34.78   \n",
              "51  120351.06         158.26    19414.0          401.65          -51.98   \n",
              "52  205201.84          -5.13    40433.0           -4.02          -37.72   \n",
              "53  138762.45          -2.67    38898.0           -6.15            5.77   \n",
              "54   52801.91         -65.87     7212.0          -76.56          -79.34   \n",
              "55  207031.78           3.18    40510.0           33.87          -38.92   \n",
              "56  136530.44           0.34    28018.0           -5.99          -36.33   \n",
              "57  137311.31          -3.86    27708.0          -33.36            6.91   \n",
              "58  169060.33           9.09    46793.0           11.66           58.92   \n",
              "\n",
              "    vendas_total  vendas_total_preco_mes  vendas_total_sa_mes   ano  \n",
              "0       178900.0                    2.38                -5.31  2021  \n",
              "1       204831.0                   -0.89                -5.11  2018  \n",
              "2       264434.0                   16.78                10.98  2018  \n",
              "3       197346.0                  -14.68                -3.30  2022  \n",
              "4       240714.0                    1.83                 4.25  2018  \n",
              "5       261321.0                    4.90                -4.28  2020  \n",
              "6       180904.0                  -30.77                -3.41  2021  \n",
              "7       191571.0                   -7.10                -2.15  2021  \n",
              "8       263490.0                    5.22                 7.14  2018  \n",
              "9       239856.0                   -0.36                -1.33  2018  \n",
              "10      184818.0                   36.76                34.43  2020  \n",
              "11      193421.0                    4.65                -2.48  2020  \n",
              "12      191853.0                   -8.12                -8.53  2021  \n",
              "13      240679.0                    6.83                 7.47  2019  \n",
              "14      217602.0                   13.51                 5.16  2020  \n",
              "15      250423.0                   22.26                 6.43  2018  \n",
              "16      219033.0                   13.24                29.57  2020  \n",
              "17      250458.0                   -2.98                -5.01  2019  \n",
              "18      236388.0                  -10.29               -14.46  2018  \n",
              "19      186718.0                    3.21                -4.55  2021  \n",
              "20      261975.0                    8.85                 3.68  2019  \n",
              "21      230927.0                    5.43                -0.51  2020  \n",
              "22      158570.0                   16.51                 3.18  2022  \n",
              "23      219446.0                   24.46                12.00  2021  \n",
              "24      274312.0                   14.37                 9.71  2018  \n",
              "25      253601.0                   -2.68                -8.05  2019  \n",
              "26      262069.0                    4.64                -3.86  2019  \n",
              "27      260581.0                    8.16                 6.80  2019  \n",
              "28      208801.0                   11.83                 2.02  2021  \n",
              "29      191704.0                  -26.85                 0.16  2020  \n",
              "30      206675.0                  -16.66                13.83  2018  \n",
              "31      225302.0                    3.73                -7.17  2019  \n",
              "32      217446.0                    7.84                 3.05  2022  \n",
              "33      239547.0                   -9.41               -11.51  2018  \n",
              "34      198518.0                   -5.60                -0.40  2022  \n",
              "35      177232.0                  -18.55               -25.30  2020  \n",
              "36      201632.0                    2.17                -2.68  2022  \n",
              "37      210297.0                   21.43                 9.93  2022  \n",
              "38       56266.0                    3.09               -22.83  2020  \n",
              "39      246657.0                   -2.74                 8.57  2019  \n",
              "40      249104.0                    7.87                 5.74  2020  \n",
              "41      258149.0                    4.66                -0.84  2019  \n",
              "42      206221.0                    7.49                -1.34  2021  \n",
              "43      174739.0                   -8.79               -10.85  2021  \n",
              "44      156803.0                  -12.35                 3.22  2021  \n",
              "45      237798.0                   -0.73                -9.79  2018  \n",
              "46      226447.0                  -17.45                -9.11  2018  \n",
              "47      170178.0                    8.53                 1.08  2021  \n",
              "48      201165.0                    1.33                 0.15  2022  \n",
              "49      173183.0                    3.11                 2.83  2022  \n",
              "50      206117.0                  -13.32                18.52  2019  \n",
              "51      135140.0                  140.18               195.56  2020  \n",
              "52      240912.0                   -8.04                -5.38  2019  \n",
              "53      167958.0                    5.92                -4.31  2022  \n",
              "54       54580.0                  -69.20               -67.73  2020  \n",
              "55      217205.0                    5.38                -0.50  2019  \n",
              "56      176322.0                    3.61                -1.06  2021  \n",
              "57      136105.0                  -37.98                -4.80  2022  \n",
              "58      231299.0                   14.98                 8.40  2022  \n",
              "\n",
              "[59 rows x 36 columns]"
            ],
            "text/html": [
              "\n",
              "  <div id=\"df-783a464f-bfc5-4d42-bdb9-1f2fd589f2e7\">\n",
              "    <div class=\"colab-df-container\">\n",
              "      <div>\n",
              "<style scoped>\n",
              "    .dataframe tbody tr th:only-of-type {\n",
              "        vertical-align: middle;\n",
              "    }\n",
              "\n",
              "    .dataframe tbody tr th {\n",
              "        vertical-align: top;\n",
              "    }\n",
              "\n",
              "    .dataframe thead th {\n",
              "        text-align: right;\n",
              "    }\n",
              "</style>\n",
              "<table border=\"1\" class=\"dataframe\">\n",
              "  <thead>\n",
              "    <tr style=\"text-align: right;\">\n",
              "      <th></th>\n",
              "      <th>_id</th>\n",
              "      <th>data</th>\n",
              "      <th>vendas_saz</th>\n",
              "      <th>vendas_saz_preco_mes</th>\n",
              "      <th>vendas_saz_preco_ano</th>\n",
              "      <th>prod_auto_leve</th>\n",
              "      <th>prod_auto_leve_preco_atual_mes</th>\n",
              "      <th>prod_auto-leve_ano</th>\n",
              "      <th>expo_saz</th>\n",
              "      <th>expo_saz_preço_mes</th>\n",
              "      <th>...</th>\n",
              "      <th>vendas_preco_ano</th>\n",
              "      <th>vendas_sa</th>\n",
              "      <th>vendas_sa_mes</th>\n",
              "      <th>expo_auto</th>\n",
              "      <th>expo_preco_mes</th>\n",
              "      <th>expo_preco_ano</th>\n",
              "      <th>vendas_total</th>\n",
              "      <th>vendas_total_preco_mes</th>\n",
              "      <th>vendas_total_sa_mes</th>\n",
              "      <th>ano</th>\n",
              "    </tr>\n",
              "  </thead>\n",
              "  <tbody>\n",
              "    <tr>\n",
              "      <th>0</th>\n",
              "      <td>63c6b388557ee47cb29f0341</td>\n",
              "      <td>2021-08-01</td>\n",
              "      <td>141804.0</td>\n",
              "      <td>-4.51</td>\n",
              "      <td>-13.98</td>\n",
              "      <td>148857.0</td>\n",
              "      <td>0.70</td>\n",
              "      <td>-26.15</td>\n",
              "      <td>28721.0</td>\n",
              "      <td>23.26</td>\n",
              "      <td>...</td>\n",
              "      <td>-9.71</td>\n",
              "      <td>133875.44</td>\n",
              "      <td>-8.56</td>\n",
              "      <td>29444.0</td>\n",
              "      <td>23.89</td>\n",
              "      <td>5.55</td>\n",
              "      <td>178900.0</td>\n",
              "      <td>2.38</td>\n",
              "      <td>-5.31</td>\n",
              "      <td>2021</td>\n",
              "    </tr>\n",
              "    <tr>\n",
              "      <th>1</th>\n",
              "      <td>63c6b388557ee47cb29f0342</td>\n",
              "      <td>2018-02-01</td>\n",
              "      <td>175386.0</td>\n",
              "      <td>-0.52</td>\n",
              "      <td>8.93</td>\n",
              "      <td>203610.0</td>\n",
              "      <td>-3.30</td>\n",
              "      <td>4.37</td>\n",
              "      <td>62857.0</td>\n",
              "      <td>2.02</td>\n",
              "      <td>...</td>\n",
              "      <td>14.19</td>\n",
              "      <td>170416.27</td>\n",
              "      <td>-7.74</td>\n",
              "      <td>66321.0</td>\n",
              "      <td>42.94</td>\n",
              "      <td>-1.14</td>\n",
              "      <td>204831.0</td>\n",
              "      <td>-0.89</td>\n",
              "      <td>-5.11</td>\n",
              "      <td>2018</td>\n",
              "    </tr>\n",
              "    <tr>\n",
              "      <th>2</th>\n",
              "      <td>63c6b388557ee47cb29f0343</td>\n",
              "      <td>2018-10-01</td>\n",
              "      <td>210175.0</td>\n",
              "      <td>6.30</td>\n",
              "      <td>18.64</td>\n",
              "      <td>250018.0</td>\n",
              "      <td>18.09</td>\n",
              "      <td>2.41</td>\n",
              "      <td>41340.0</td>\n",
              "      <td>-4.34</td>\n",
              "      <td>...</td>\n",
              "      <td>24.07</td>\n",
              "      <td>219450.02</td>\n",
              "      <td>15.66</td>\n",
              "      <td>38734.0</td>\n",
              "      <td>-1.81</td>\n",
              "      <td>-37.32</td>\n",
              "      <td>264434.0</td>\n",
              "      <td>16.78</td>\n",
              "      <td>10.98</td>\n",
              "      <td>2018</td>\n",
              "    </tr>\n",
              "    <tr>\n",
              "      <th>3</th>\n",
              "      <td>63c6b388557ee47cb29f0344</td>\n",
              "      <td>2022-09-01</td>\n",
              "      <td>162401.0</td>\n",
              "      <td>-2.98</td>\n",
              "      <td>28.17</td>\n",
              "      <td>189007.0</td>\n",
              "      <td>-12.97</td>\n",
              "      <td>18.82</td>\n",
              "      <td>31770.0</td>\n",
              "      <td>-31.20</td>\n",
              "      <td>...</td>\n",
              "      <td>26.76</td>\n",
              "      <td>169495.44</td>\n",
              "      <td>0.26</td>\n",
              "      <td>28544.0</td>\n",
              "      <td>-39.00</td>\n",
              "      <td>20.75</td>\n",
              "      <td>197346.0</td>\n",
              "      <td>-14.68</td>\n",
              "      <td>-3.30</td>\n",
              "      <td>2022</td>\n",
              "    </tr>\n",
              "    <tr>\n",
              "      <th>4</th>\n",
              "      <td>63c6b388557ee47cb29f0345</td>\n",
              "      <td>2018-06-01</td>\n",
              "      <td>181826.0</td>\n",
              "      <td>8.65</td>\n",
              "      <td>4.62</td>\n",
              "      <td>244732.0</td>\n",
              "      <td>20.51</td>\n",
              "      <td>18.91</td>\n",
              "      <td>60070.0</td>\n",
              "      <td>10.73</td>\n",
              "      <td>...</td>\n",
              "      <td>0.80</td>\n",
              "      <td>179651.48</td>\n",
              "      <td>3.46</td>\n",
              "      <td>64918.0</td>\n",
              "      <td>6.85</td>\n",
              "      <td>-4.37</td>\n",
              "      <td>240714.0</td>\n",
              "      <td>1.83</td>\n",
              "      <td>4.25</td>\n",
              "      <td>2018</td>\n",
              "    </tr>\n",
              "    <tr>\n",
              "      <th>5</th>\n",
              "      <td>63c6b388557ee47cb29f0346</td>\n",
              "      <td>2020-12-01</td>\n",
              "      <td>190310.0</td>\n",
              "      <td>-1.48</td>\n",
              "      <td>-10.02</td>\n",
              "      <td>197802.0</td>\n",
              "      <td>-12.10</td>\n",
              "      <td>21.10</td>\n",
              "      <td>40656.0</td>\n",
              "      <td>-8.33</td>\n",
              "      <td>...</td>\n",
              "      <td>-4.35</td>\n",
              "      <td>189255.95</td>\n",
              "      <td>-2.27</td>\n",
              "      <td>38405.0</td>\n",
              "      <td>-12.73</td>\n",
              "      <td>32.40</td>\n",
              "      <td>261321.0</td>\n",
              "      <td>4.90</td>\n",
              "      <td>-4.28</td>\n",
              "      <td>2020</td>\n",
              "    </tr>\n",
              "    <tr>\n",
              "      <th>6</th>\n",
              "      <td>63c6b388557ee47cb29f0347</td>\n",
              "      <td>2021-01-01</td>\n",
              "      <td>190624.0</td>\n",
              "      <td>0.16</td>\n",
              "      <td>0.45</td>\n",
              "      <td>190156.0</td>\n",
              "      <td>-3.87</td>\n",
              "      <td>3.83</td>\n",
              "      <td>36744.0</td>\n",
              "      <td>-9.62</td>\n",
              "      <td>...</td>\n",
              "      <td>-9.45</td>\n",
              "      <td>182779.56</td>\n",
              "      <td>-3.42</td>\n",
              "      <td>25918.0</td>\n",
              "      <td>-32.51</td>\n",
              "      <td>26.13</td>\n",
              "      <td>180904.0</td>\n",
              "      <td>-30.77</td>\n",
              "      <td>-3.41</td>\n",
              "      <td>2021</td>\n",
              "    </tr>\n",
              "    <tr>\n",
              "      <th>7</th>\n",
              "      <td>63c6b388557ee47cb29f0348</td>\n",
              "      <td>2021-06-01</td>\n",
              "      <td>160445.0</td>\n",
              "      <td>-4.65</td>\n",
              "      <td>36.76</td>\n",
              "      <td>151286.0</td>\n",
              "      <td>-14.66</td>\n",
              "      <td>65.36</td>\n",
              "      <td>29905.0</td>\n",
              "      <td>-6.44</td>\n",
              "      <td>...</td>\n",
              "      <td>36.58</td>\n",
              "      <td>162147.72</td>\n",
              "      <td>0.11</td>\n",
              "      <td>33512.0</td>\n",
              "      <td>-9.39</td>\n",
              "      <td>72.62</td>\n",
              "      <td>191571.0</td>\n",
              "      <td>-7.10</td>\n",
              "      <td>-2.15</td>\n",
              "      <td>2021</td>\n",
              "    </tr>\n",
              "    <tr>\n",
              "      <th>8</th>\n",
              "      <td>63c6b388557ee47cb29f0349</td>\n",
              "      <td>2018-04-01</td>\n",
              "      <td>201206.0</td>\n",
              "      <td>10.42</td>\n",
              "      <td>23.75</td>\n",
              "      <td>254154.0</td>\n",
              "      <td>-0.24</td>\n",
              "      <td>38.01</td>\n",
              "      <td>72381.0</td>\n",
              "      <td>13.69</td>\n",
              "      <td>...</td>\n",
              "      <td>36.71</td>\n",
              "      <td>191948.38</td>\n",
              "      <td>3.40</td>\n",
              "      <td>72975.0</td>\n",
              "      <td>8.13</td>\n",
              "      <td>19.24</td>\n",
              "      <td>263490.0</td>\n",
              "      <td>5.22</td>\n",
              "      <td>7.14</td>\n",
              "      <td>2018</td>\n",
              "    </tr>\n",
              "    <tr>\n",
              "      <th>9</th>\n",
              "      <td>63c6b388557ee47cb29f034a</td>\n",
              "      <td>2018-07-01</td>\n",
              "      <td>190135.0</td>\n",
              "      <td>4.57</td>\n",
              "      <td>11.64</td>\n",
              "      <td>234222.0</td>\n",
              "      <td>-4.29</td>\n",
              "      <td>8.20</td>\n",
              "      <td>47921.0</td>\n",
              "      <td>-20.22</td>\n",
              "      <td>...</td>\n",
              "      <td>15.92</td>\n",
              "      <td>184850.20</td>\n",
              "      <td>2.89</td>\n",
              "      <td>49705.0</td>\n",
              "      <td>-23.43</td>\n",
              "      <td>-24.21</td>\n",
              "      <td>239856.0</td>\n",
              "      <td>-0.36</td>\n",
              "      <td>-1.33</td>\n",
              "      <td>2018</td>\n",
              "    </tr>\n",
              "    <tr>\n",
              "      <th>10</th>\n",
              "      <td>63c6b388557ee47cb29f034b</td>\n",
              "      <td>2020-07-01</td>\n",
              "      <td>146363.0</td>\n",
              "      <td>24.76</td>\n",
              "      <td>-30.00</td>\n",
              "      <td>162230.0</td>\n",
              "      <td>77.33</td>\n",
              "      <td>-35.99</td>\n",
              "      <td>28370.0</td>\n",
              "      <td>85.39</td>\n",
              "      <td>...</td>\n",
              "      <td>-28.74</td>\n",
              "      <td>151287.61</td>\n",
              "      <td>25.71</td>\n",
              "      <td>29126.0</td>\n",
              "      <td>50.03</td>\n",
              "      <td>-30.80</td>\n",
              "      <td>184818.0</td>\n",
              "      <td>36.76</td>\n",
              "      <td>34.43</td>\n",
              "      <td>2020</td>\n",
              "    </tr>\n",
              "    <tr>\n",
              "      <th>11</th>\n",
              "      <td>63c6b388557ee47cb29f034c</td>\n",
              "      <td>2020-08-01</td>\n",
              "      <td>164849.0</td>\n",
              "      <td>12.63</td>\n",
              "      <td>-19.81</td>\n",
              "      <td>201572.0</td>\n",
              "      <td>24.25</td>\n",
              "      <td>-21.37</td>\n",
              "      <td>27102.0</td>\n",
              "      <td>-4.47</td>\n",
              "      <td>...</td>\n",
              "      <td>-23.67</td>\n",
              "      <td>150352.60</td>\n",
              "      <td>-0.62</td>\n",
              "      <td>27897.0</td>\n",
              "      <td>-4.22</td>\n",
              "      <td>-24.08</td>\n",
              "      <td>193421.0</td>\n",
              "      <td>4.65</td>\n",
              "      <td>-2.48</td>\n",
              "      <td>2020</td>\n",
              "    </tr>\n",
              "    <tr>\n",
              "      <th>12</th>\n",
              "      <td>63c6b388557ee47cb29f034d</td>\n",
              "      <td>2021-04-01</td>\n",
              "      <td>169849.0</td>\n",
              "      <td>1.76</td>\n",
              "      <td>190.68</td>\n",
              "      <td>175942.0</td>\n",
              "      <td>-5.26</td>\n",
              "      <td>16688.36</td>\n",
              "      <td>30772.0</td>\n",
              "      <td>-12.66</td>\n",
              "      <td>...</td>\n",
              "      <td>233.51</td>\n",
              "      <td>166234.47</td>\n",
              "      <td>-8.52</td>\n",
              "      <td>33877.0</td>\n",
              "      <td>-7.89</td>\n",
              "      <td>369.73</td>\n",
              "      <td>191853.0</td>\n",
              "      <td>-8.12</td>\n",
              "      <td>-8.53</td>\n",
              "      <td>2021</td>\n",
              "    </tr>\n",
              "    <tr>\n",
              "      <th>13</th>\n",
              "      <td>63c6b388557ee47cb29f034e</td>\n",
              "      <td>2019-04-01</td>\n",
              "      <td>205401.0</td>\n",
              "      <td>-2.11</td>\n",
              "      <td>2.08</td>\n",
              "      <td>255351.0</td>\n",
              "      <td>10.65</td>\n",
              "      <td>0.47</td>\n",
              "      <td>33228.0</td>\n",
              "      <td>-7.37</td>\n",
              "      <td>...</td>\n",
              "      <td>8.01</td>\n",
              "      <td>208688.67</td>\n",
              "      <td>8.70</td>\n",
              "      <td>34905.0</td>\n",
              "      <td>-10.72</td>\n",
              "      <td>-52.17</td>\n",
              "      <td>240679.0</td>\n",
              "      <td>6.83</td>\n",
              "      <td>7.47</td>\n",
              "      <td>2019</td>\n",
              "    </tr>\n",
              "    <tr>\n",
              "      <th>14</th>\n",
              "      <td>63c6b388557ee47cb29f034f</td>\n",
              "      <td>2020-02-01</td>\n",
              "      <td>207985.0</td>\n",
              "      <td>9.60</td>\n",
              "      <td>5.56</td>\n",
              "      <td>192519.0</td>\n",
              "      <td>5.12</td>\n",
              "      <td>-21.67</td>\n",
              "      <td>33953.0</td>\n",
              "      <td>3.29</td>\n",
              "      <td>...</td>\n",
              "      <td>1.83</td>\n",
              "      <td>208333.60</td>\n",
              "      <td>5.50</td>\n",
              "      <td>37677.0</td>\n",
              "      <td>83.35</td>\n",
              "      <td>-6.99</td>\n",
              "      <td>217602.0</td>\n",
              "      <td>13.51</td>\n",
              "      <td>5.16</td>\n",
              "      <td>2020</td>\n",
              "    </tr>\n",
              "    <tr>\n",
              "      <th>15</th>\n",
              "      <td>63c6b388557ee47cb29f0350</td>\n",
              "      <td>2018-03-01</td>\n",
              "      <td>182211.0</td>\n",
              "      <td>3.89</td>\n",
              "      <td>13.26</td>\n",
              "      <td>254759.0</td>\n",
              "      <td>25.12</td>\n",
              "      <td>11.28</td>\n",
              "      <td>63663.0</td>\n",
              "      <td>1.28</td>\n",
              "      <td>...</td>\n",
              "      <td>8.73</td>\n",
              "      <td>185641.81</td>\n",
              "      <td>8.93</td>\n",
              "      <td>67488.0</td>\n",
              "      <td>1.76</td>\n",
              "      <td>-2.59</td>\n",
              "      <td>250423.0</td>\n",
              "      <td>22.26</td>\n",
              "      <td>6.43</td>\n",
              "      <td>2018</td>\n",
              "    </tr>\n",
              "    <tr>\n",
              "      <th>16</th>\n",
              "      <td>63c6b388557ee47cb29f0351</td>\n",
              "      <td>2020-09-01</td>\n",
              "      <td>181578.0</td>\n",
              "      <td>10.15</td>\n",
              "      <td>-11.66</td>\n",
              "      <td>208773.0</td>\n",
              "      <td>3.57</td>\n",
              "      <td>-11.02</td>\n",
              "      <td>33648.0</td>\n",
              "      <td>24.15</td>\n",
              "      <td>...</td>\n",
              "      <td>-10.24</td>\n",
              "      <td>190618.84</td>\n",
              "      <td>26.78</td>\n",
              "      <td>30519.0</td>\n",
              "      <td>9.40</td>\n",
              "      <td>-16.71</td>\n",
              "      <td>219033.0</td>\n",
              "      <td>13.24</td>\n",
              "      <td>29.57</td>\n",
              "      <td>2020</td>\n",
              "    </tr>\n",
              "    <tr>\n",
              "      <th>17</th>\n",
              "      <td>63c6b388557ee47cb29f0352</td>\n",
              "      <td>2019-11-01</td>\n",
              "      <td>207351.0</td>\n",
              "      <td>1.31</td>\n",
              "      <td>6.64</td>\n",
              "      <td>216645.0</td>\n",
              "      <td>-21.10</td>\n",
              "      <td>-6.88</td>\n",
              "      <td>31442.0</td>\n",
              "      <td>-2.91</td>\n",
              "      <td>...</td>\n",
              "      <td>6.64</td>\n",
              "      <td>207708.60</td>\n",
              "      <td>-6.26</td>\n",
              "      <td>31735.0</td>\n",
              "      <td>5.90</td>\n",
              "      <td>-7.86</td>\n",
              "      <td>250458.0</td>\n",
              "      <td>-2.98</td>\n",
              "      <td>-5.01</td>\n",
              "      <td>2019</td>\n",
              "    </tr>\n",
              "    <tr>\n",
              "      <th>18</th>\n",
              "      <td>63c6b388557ee47cb29f0353</td>\n",
              "      <td>2018-05-01</td>\n",
              "      <td>167350.0</td>\n",
              "      <td>-16.83</td>\n",
              "      <td>0.60</td>\n",
              "      <td>203081.0</td>\n",
              "      <td>-20.10</td>\n",
              "      <td>-16.66</td>\n",
              "      <td>54250.0</td>\n",
              "      <td>-25.05</td>\n",
              "      <td>...</td>\n",
              "      <td>0.68</td>\n",
              "      <td>173650.16</td>\n",
              "      <td>-9.53</td>\n",
              "      <td>60754.0</td>\n",
              "      <td>-16.75</td>\n",
              "      <td>-17.26</td>\n",
              "      <td>236388.0</td>\n",
              "      <td>-10.29</td>\n",
              "      <td>-14.46</td>\n",
              "      <td>2018</td>\n",
              "    </tr>\n",
              "    <tr>\n",
              "      <th>19</th>\n",
              "      <td>63c6b388557ee47cb29f0354</td>\n",
              "      <td>2021-02-01</td>\n",
              "      <td>184474.0</td>\n",
              "      <td>-3.23</td>\n",
              "      <td>-11.30</td>\n",
              "      <td>183641.0</td>\n",
              "      <td>-3.43</td>\n",
              "      <td>-4.61</td>\n",
              "      <td>29583.0</td>\n",
              "      <td>-19.49</td>\n",
              "      <td>...</td>\n",
              "      <td>-14.60</td>\n",
              "      <td>180144.20</td>\n",
              "      <td>-1.44</td>\n",
              "      <td>33064.0</td>\n",
              "      <td>27.57</td>\n",
              "      <td>-12.24</td>\n",
              "      <td>186718.0</td>\n",
              "      <td>3.21</td>\n",
              "      <td>-4.55</td>\n",
              "      <td>2021</td>\n",
              "    </tr>\n",
              "    <tr>\n",
              "      <th>20</th>\n",
              "      <td>63c6b388557ee47cb29f0355</td>\n",
              "      <td>2019-05-01</td>\n",
              "      <td>210196.0</td>\n",
              "      <td>2.33</td>\n",
              "      <td>25.60</td>\n",
              "      <td>261742.0</td>\n",
              "      <td>2.50</td>\n",
              "      <td>28.89</td>\n",
              "      <td>36406.0</td>\n",
              "      <td>9.56</td>\n",
              "      <td>...</td>\n",
              "      <td>25.17</td>\n",
              "      <td>216307.94</td>\n",
              "      <td>3.65</td>\n",
              "      <td>42126.0</td>\n",
              "      <td>20.69</td>\n",
              "      <td>-30.66</td>\n",
              "      <td>261975.0</td>\n",
              "      <td>8.85</td>\n",
              "      <td>3.68</td>\n",
              "      <td>2019</td>\n",
              "    </tr>\n",
              "    <tr>\n",
              "      <th>21</th>\n",
              "      <td>63c6b388557ee47cb29f0356</td>\n",
              "      <td>2020-10-01</td>\n",
              "      <td>187050.0</td>\n",
              "      <td>3.01</td>\n",
              "      <td>-8.61</td>\n",
              "      <td>223759.0</td>\n",
              "      <td>7.18</td>\n",
              "      <td>-18.51</td>\n",
              "      <td>36831.0</td>\n",
              "      <td>9.46</td>\n",
              "      <td>...</td>\n",
              "      <td>-14.08</td>\n",
              "      <td>189738.00</td>\n",
              "      <td>-0.46</td>\n",
              "      <td>34882.0</td>\n",
              "      <td>14.30</td>\n",
              "      <td>16.41</td>\n",
              "      <td>230927.0</td>\n",
              "      <td>5.43</td>\n",
              "      <td>-0.51</td>\n",
              "      <td>2020</td>\n",
              "    </tr>\n",
              "    <tr>\n",
              "      <th>22</th>\n",
              "      <td>63c6b388557ee47cb29f0357</td>\n",
              "      <td>2022-02-01</td>\n",
              "      <td>143411.0</td>\n",
              "      <td>4.93</td>\n",
              "      <td>-22.26</td>\n",
              "      <td>152590.0</td>\n",
              "      <td>13.34</td>\n",
              "      <td>-16.91</td>\n",
              "      <td>38102.0</td>\n",
              "      <td>0.42</td>\n",
              "      <td>...</td>\n",
              "      <td>-23.78</td>\n",
              "      <td>142574.73</td>\n",
              "      <td>3.83</td>\n",
              "      <td>41449.0</td>\n",
              "      <td>49.59</td>\n",
              "      <td>25.36</td>\n",
              "      <td>158570.0</td>\n",
              "      <td>16.51</td>\n",
              "      <td>3.18</td>\n",
              "      <td>2022</td>\n",
              "    </tr>\n",
              "    <tr>\n",
              "      <th>23</th>\n",
              "      <td>63c6b388557ee47cb29f0358</td>\n",
              "      <td>2021-12-01</td>\n",
              "      <td>137217.0</td>\n",
              "      <td>1.13</td>\n",
              "      <td>-27.90</td>\n",
              "      <td>197101.0</td>\n",
              "      <td>3.87</td>\n",
              "      <td>-0.35</td>\n",
              "      <td>43563.0</td>\n",
              "      <td>53.04</td>\n",
              "      <td>...</td>\n",
              "      <td>-20.21</td>\n",
              "      <td>142831.34</td>\n",
              "      <td>4.62</td>\n",
              "      <td>41581.0</td>\n",
              "      <td>48.41</td>\n",
              "      <td>8.27</td>\n",
              "      <td>219446.0</td>\n",
              "      <td>24.46</td>\n",
              "      <td>12.00</td>\n",
              "      <td>2021</td>\n",
              "    </tr>\n",
              "    <tr>\n",
              "      <th>24</th>\n",
              "      <td>63c6b388557ee47cb29f0359</td>\n",
              "      <td>2018-08-01</td>\n",
              "      <td>199209.0</td>\n",
              "      <td>4.77</td>\n",
              "      <td>14.58</td>\n",
              "      <td>278414.0</td>\n",
              "      <td>18.87</td>\n",
              "      <td>8.84</td>\n",
              "      <td>55676.0</td>\n",
              "      <td>16.18</td>\n",
              "      <td>...</td>\n",
              "      <td>13.03</td>\n",
              "      <td>203302.28</td>\n",
              "      <td>9.98</td>\n",
              "      <td>56104.0</td>\n",
              "      <td>12.87</td>\n",
              "      <td>-16.60</td>\n",
              "      <td>274312.0</td>\n",
              "      <td>14.37</td>\n",
              "      <td>9.71</td>\n",
              "      <td>2018</td>\n",
              "    </tr>\n",
              "    <tr>\n",
              "      <th>25</th>\n",
              "      <td>63c6b388557ee47cb29f035a</td>\n",
              "      <td>2019-08-01</td>\n",
              "      <td>205576.0</td>\n",
              "      <td>-1.68</td>\n",
              "      <td>3.20</td>\n",
              "      <td>256360.0</td>\n",
              "      <td>1.15</td>\n",
              "      <td>-7.92</td>\n",
              "      <td>36096.0</td>\n",
              "      <td>-11.53</td>\n",
              "      <td>...</td>\n",
              "      <td>-0.62</td>\n",
              "      <td>200909.56</td>\n",
              "      <td>-6.09</td>\n",
              "      <td>36743.0</td>\n",
              "      <td>-12.70</td>\n",
              "      <td>-34.51</td>\n",
              "      <td>253601.0</td>\n",
              "      <td>-2.68</td>\n",
              "      <td>-8.05</td>\n",
              "      <td>2019</td>\n",
              "    </tr>\n",
              "    <tr>\n",
              "      <th>26</th>\n",
              "      <td>63c6b388557ee47cb29f035b</td>\n",
              "      <td>2019-12-01</td>\n",
              "      <td>211491.0</td>\n",
              "      <td>2.00</td>\n",
              "      <td>9.92</td>\n",
              "      <td>163338.0</td>\n",
              "      <td>-24.61</td>\n",
              "      <td>-3.36</td>\n",
              "      <td>31209.0</td>\n",
              "      <td>-0.74</td>\n",
              "      <td>...</td>\n",
              "      <td>13.09</td>\n",
              "      <td>201199.53</td>\n",
              "      <td>-3.13</td>\n",
              "      <td>29006.0</td>\n",
              "      <td>-8.60</td>\n",
              "      <td>-8.52</td>\n",
              "      <td>262069.0</td>\n",
              "      <td>4.64</td>\n",
              "      <td>-3.86</td>\n",
              "      <td>2019</td>\n",
              "    </tr>\n",
              "    <tr>\n",
              "      <th>27</th>\n",
              "      <td>63c6b388557ee47cb29f035c</td>\n",
              "      <td>2019-07-01</td>\n",
              "      <td>209080.0</td>\n",
              "      <td>-4.19</td>\n",
              "      <td>9.96</td>\n",
              "      <td>253434.0</td>\n",
              "      <td>14.79</td>\n",
              "      <td>8.20</td>\n",
              "      <td>40799.0</td>\n",
              "      <td>14.05</td>\n",
              "      <td>...</td>\n",
              "      <td>14.90</td>\n",
              "      <td>213941.60</td>\n",
              "      <td>4.26</td>\n",
              "      <td>42089.0</td>\n",
              "      <td>4.10</td>\n",
              "      <td>-15.32</td>\n",
              "      <td>260581.0</td>\n",
              "      <td>8.16</td>\n",
              "      <td>6.80</td>\n",
              "      <td>2019</td>\n",
              "    </tr>\n",
              "    <tr>\n",
              "      <th>28</th>\n",
              "      <td>63c6b388557ee47cb29f035d</td>\n",
              "      <td>2021-03-01</td>\n",
              "      <td>166908.0</td>\n",
              "      <td>-9.52</td>\n",
              "      <td>11.35</td>\n",
              "      <td>185718.0</td>\n",
              "      <td>1.13</td>\n",
              "      <td>3.43</td>\n",
              "      <td>35234.0</td>\n",
              "      <td>19.10</td>\n",
              "      <td>...</td>\n",
              "      <td>17.45</td>\n",
              "      <td>181722.42</td>\n",
              "      <td>0.88</td>\n",
              "      <td>36777.0</td>\n",
              "      <td>11.23</td>\n",
              "      <td>19.51</td>\n",
              "      <td>208801.0</td>\n",
              "      <td>11.83</td>\n",
              "      <td>2.02</td>\n",
              "      <td>2021</td>\n",
              "    </tr>\n",
              "    <tr>\n",
              "      <th>29</th>\n",
              "      <td>63c6b388557ee47cb29f035e</td>\n",
              "      <td>2020-01-01</td>\n",
              "      <td>189767.0</td>\n",
              "      <td>-10.27</td>\n",
              "      <td>-2.04</td>\n",
              "      <td>183136.0</td>\n",
              "      <td>12.12</td>\n",
              "      <td>-3.82</td>\n",
              "      <td>32873.0</td>\n",
              "      <td>5.33</td>\n",
              "      <td>...</td>\n",
              "      <td>-2.67</td>\n",
              "      <td>197471.30</td>\n",
              "      <td>-1.85</td>\n",
              "      <td>20549.0</td>\n",
              "      <td>-29.16</td>\n",
              "      <td>-32.09</td>\n",
              "      <td>191704.0</td>\n",
              "      <td>-26.85</td>\n",
              "      <td>0.16</td>\n",
              "      <td>2020</td>\n",
              "    </tr>\n",
              "    <tr>\n",
              "      <th>30</th>\n",
              "      <td>63c6b388557ee47cb29f035f</td>\n",
              "      <td>2018-01-01</td>\n",
              "      <td>176310.0</td>\n",
              "      <td>1.64</td>\n",
              "      <td>23.19</td>\n",
              "      <td>210565.0</td>\n",
              "      <td>-0.18</td>\n",
              "      <td>21.14</td>\n",
              "      <td>61613.0</td>\n",
              "      <td>-0.87</td>\n",
              "      <td>...</td>\n",
              "      <td>22.91</td>\n",
              "      <td>184705.00</td>\n",
              "      <td>17.60</td>\n",
              "      <td>46398.0</td>\n",
              "      <td>-24.11</td>\n",
              "      <td>21.70</td>\n",
              "      <td>206675.0</td>\n",
              "      <td>-16.66</td>\n",
              "      <td>13.83</td>\n",
              "      <td>2018</td>\n",
              "    </tr>\n",
              "    <tr>\n",
              "      <th>31</th>\n",
              "      <td>63c6b388557ee47cb29f0360</td>\n",
              "      <td>2019-03-01</td>\n",
              "      <td>209819.0</td>\n",
              "      <td>6.49</td>\n",
              "      <td>15.15</td>\n",
              "      <td>230773.0</td>\n",
              "      <td>-6.11</td>\n",
              "      <td>-9.42</td>\n",
              "      <td>35872.0</td>\n",
              "      <td>-2.47</td>\n",
              "      <td>...</td>\n",
              "      <td>1.79</td>\n",
              "      <td>191992.27</td>\n",
              "      <td>-7.26</td>\n",
              "      <td>39098.0</td>\n",
              "      <td>-3.49</td>\n",
              "      <td>-42.07</td>\n",
              "      <td>225302.0</td>\n",
              "      <td>3.73</td>\n",
              "      <td>-7.17</td>\n",
              "      <td>2019</td>\n",
              "    </tr>\n",
              "    <tr>\n",
              "      <th>32</th>\n",
              "      <td>63c6b388557ee47cb29f0361</td>\n",
              "      <td>2022-11-01</td>\n",
              "      <td>161038.0</td>\n",
              "      <td>0.81</td>\n",
              "      <td>18.68</td>\n",
              "      <td>197706.0</td>\n",
              "      <td>5.54</td>\n",
              "      <td>4.19</td>\n",
              "      <td>43528.0</td>\n",
              "      <td>-1.21</td>\n",
              "      <td>...</td>\n",
              "      <td>17.33</td>\n",
              "      <td>162584.20</td>\n",
              "      <td>4.16</td>\n",
              "      <td>43437.0</td>\n",
              "      <td>1.57</td>\n",
              "      <td>55.03</td>\n",
              "      <td>217446.0</td>\n",
              "      <td>7.84</td>\n",
              "      <td>3.05</td>\n",
              "      <td>2022</td>\n",
              "    </tr>\n",
              "    <tr>\n",
              "      <th>33</th>\n",
              "      <td>63c6b388557ee47cb29f0362</td>\n",
              "      <td>2018-11-01</td>\n",
              "      <td>194441.0</td>\n",
              "      <td>-7.49</td>\n",
              "      <td>13.17</td>\n",
              "      <td>232659.0</td>\n",
              "      <td>-6.94</td>\n",
              "      <td>-4.74</td>\n",
              "      <td>33643.0</td>\n",
              "      <td>-18.62</td>\n",
              "      <td>...</td>\n",
              "      <td>12.31</td>\n",
              "      <td>195202.80</td>\n",
              "      <td>-11.05</td>\n",
              "      <td>34441.0</td>\n",
              "      <td>-11.08</td>\n",
              "      <td>-52.87</td>\n",
              "      <td>239547.0</td>\n",
              "      <td>-9.41</td>\n",
              "      <td>-11.51</td>\n",
              "      <td>2018</td>\n",
              "    </tr>\n",
              "    <tr>\n",
              "      <th>34</th>\n",
              "      <td>63c6b388557ee47cb29f0363</td>\n",
              "      <td>2022-06-01</td>\n",
              "      <td>153964.0</td>\n",
              "      <td>0.49</td>\n",
              "      <td>-4.04</td>\n",
              "      <td>187237.0</td>\n",
              "      <td>-0.91</td>\n",
              "      <td>23.76</td>\n",
              "      <td>44226.0</td>\n",
              "      <td>7.87</td>\n",
              "      <td>...</td>\n",
              "      <td>-4.34</td>\n",
              "      <td>154084.72</td>\n",
              "      <td>-1.11</td>\n",
              "      <td>47315.0</td>\n",
              "      <td>2.70</td>\n",
              "      <td>41.19</td>\n",
              "      <td>198518.0</td>\n",
              "      <td>-5.60</td>\n",
              "      <td>-0.40</td>\n",
              "      <td>2022</td>\n",
              "    </tr>\n",
              "    <tr>\n",
              "      <th>35</th>\n",
              "      <td>63c6b388557ee47cb29f0364</td>\n",
              "      <td>2020-03-01</td>\n",
              "      <td>149899.0</td>\n",
              "      <td>-27.93</td>\n",
              "      <td>-28.56</td>\n",
              "      <td>179560.0</td>\n",
              "      <td>-6.73</td>\n",
              "      <td>-22.19</td>\n",
              "      <td>28275.0</td>\n",
              "      <td>-16.72</td>\n",
              "      <td>...</td>\n",
              "      <td>-21.34</td>\n",
              "      <td>154695.81</td>\n",
              "      <td>-25.75</td>\n",
              "      <td>30772.0</td>\n",
              "      <td>-18.33</td>\n",
              "      <td>-21.30</td>\n",
              "      <td>177232.0</td>\n",
              "      <td>-18.55</td>\n",
              "      <td>-25.30</td>\n",
              "      <td>2020</td>\n",
              "    </tr>\n",
              "    <tr>\n",
              "      <th>36</th>\n",
              "      <td>63c6b388557ee47cb29f0365</td>\n",
              "      <td>2022-10-01</td>\n",
              "      <td>159738.0</td>\n",
              "      <td>-1.64</td>\n",
              "      <td>13.01</td>\n",
              "      <td>187336.0</td>\n",
              "      <td>-0.88</td>\n",
              "      <td>14.28</td>\n",
              "      <td>44059.0</td>\n",
              "      <td>38.68</td>\n",
              "      <td>...</td>\n",
              "      <td>13.17</td>\n",
              "      <td>156086.30</td>\n",
              "      <td>-7.91</td>\n",
              "      <td>42765.0</td>\n",
              "      <td>49.82</td>\n",
              "      <td>43.49</td>\n",
              "      <td>201632.0</td>\n",
              "      <td>2.17</td>\n",
              "      <td>-2.68</td>\n",
              "      <td>2022</td>\n",
              "    </tr>\n",
              "    <tr>\n",
              "      <th>37</th>\n",
              "      <td>63c6b388557ee47cb29f0366</td>\n",
              "      <td>2022-05-01</td>\n",
              "      <td>153207.0</td>\n",
              "      <td>3.55</td>\n",
              "      <td>-8.95</td>\n",
              "      <td>188956.0</td>\n",
              "      <td>8.38</td>\n",
              "      <td>6.59</td>\n",
              "      <td>40998.0</td>\n",
              "      <td>-0.89</td>\n",
              "      <td>...</td>\n",
              "      <td>-2.96</td>\n",
              "      <td>155816.86</td>\n",
              "      <td>12.17</td>\n",
              "      <td>46069.0</td>\n",
              "      <td>2.78</td>\n",
              "      <td>24.56</td>\n",
              "      <td>210297.0</td>\n",
              "      <td>21.43</td>\n",
              "      <td>9.93</td>\n",
              "      <td>2022</td>\n",
              "    </tr>\n",
              "    <tr>\n",
              "      <th>38</th>\n",
              "      <td>63c6b388557ee47cb29f0367</td>\n",
              "      <td>2020-05-01</td>\n",
              "      <td>58694.0</td>\n",
              "      <td>0.45</td>\n",
              "      <td>-72.08</td>\n",
              "      <td>37807.0</td>\n",
              "      <td>3507.54</td>\n",
              "      <td>-85.56</td>\n",
              "      <td>-1462.0</td>\n",
              "      <td>-129.91</td>\n",
              "      <td>...</td>\n",
              "      <td>-76.17</td>\n",
              "      <td>46601.49</td>\n",
              "      <td>-11.74</td>\n",
              "      <td>3870.0</td>\n",
              "      <td>-46.34</td>\n",
              "      <td>-90.81</td>\n",
              "      <td>56266.0</td>\n",
              "      <td>3.09</td>\n",
              "      <td>-22.83</td>\n",
              "      <td>2020</td>\n",
              "    </tr>\n",
              "    <tr>\n",
              "      <th>39</th>\n",
              "      <td>63c6b388557ee47cb29f0368</td>\n",
              "      <td>2019-09-01</td>\n",
              "      <td>205547.0</td>\n",
              "      <td>-0.01</td>\n",
              "      <td>3.96</td>\n",
              "      <td>234636.0</td>\n",
              "      <td>-8.47</td>\n",
              "      <td>10.83</td>\n",
              "      <td>40170.0</td>\n",
              "      <td>11.29</td>\n",
              "      <td>...</td>\n",
              "      <td>12.31</td>\n",
              "      <td>212841.56</td>\n",
              "      <td>5.94</td>\n",
              "      <td>36640.0</td>\n",
              "      <td>-0.28</td>\n",
              "      <td>-7.12</td>\n",
              "      <td>246657.0</td>\n",
              "      <td>-2.74</td>\n",
              "      <td>8.57</td>\n",
              "      <td>2019</td>\n",
              "    </tr>\n",
              "    <tr>\n",
              "      <th>40</th>\n",
              "      <td>63c6b388557ee47cb29f0369</td>\n",
              "      <td>2020-11-01</td>\n",
              "      <td>193177.0</td>\n",
              "      <td>3.28</td>\n",
              "      <td>-6.84</td>\n",
              "      <td>225021.0</td>\n",
              "      <td>0.56</td>\n",
              "      <td>3.87</td>\n",
              "      <td>44351.0</td>\n",
              "      <td>20.42</td>\n",
              "      <td>...</td>\n",
              "      <td>-6.23</td>\n",
              "      <td>193659.44</td>\n",
              "      <td>2.07</td>\n",
              "      <td>44007.0</td>\n",
              "      <td>26.16</td>\n",
              "      <td>38.67</td>\n",
              "      <td>249104.0</td>\n",
              "      <td>7.87</td>\n",
              "      <td>5.74</td>\n",
              "      <td>2020</td>\n",
              "    </tr>\n",
              "    <tr>\n",
              "      <th>41</th>\n",
              "      <td>63c6b388557ee47cb29f036a</td>\n",
              "      <td>2019-10-01</td>\n",
              "      <td>204666.0</td>\n",
              "      <td>-0.43</td>\n",
              "      <td>-2.62</td>\n",
              "      <td>274583.0</td>\n",
              "      <td>17.03</td>\n",
              "      <td>9.83</td>\n",
              "      <td>32386.0</td>\n",
              "      <td>-19.38</td>\n",
              "      <td>...</td>\n",
              "      <td>1.10</td>\n",
              "      <td>221579.10</td>\n",
              "      <td>4.11</td>\n",
              "      <td>29966.0</td>\n",
              "      <td>-18.22</td>\n",
              "      <td>-22.64</td>\n",
              "      <td>258149.0</td>\n",
              "      <td>4.66</td>\n",
              "      <td>-0.84</td>\n",
              "      <td>2019</td>\n",
              "    </tr>\n",
              "    <tr>\n",
              "      <th>42</th>\n",
              "      <td>63c6b388557ee47cb29f036b</td>\n",
              "      <td>2021-05-01</td>\n",
              "      <td>168261.0</td>\n",
              "      <td>-0.93</td>\n",
              "      <td>186.67</td>\n",
              "      <td>177281.0</td>\n",
              "      <td>0.76</td>\n",
              "      <td>368.91</td>\n",
              "      <td>31965.0</td>\n",
              "      <td>3.88</td>\n",
              "      <td>...</td>\n",
              "      <td>223.00</td>\n",
              "      <td>161964.23</td>\n",
              "      <td>-2.57</td>\n",
              "      <td>36984.0</td>\n",
              "      <td>9.17</td>\n",
              "      <td>855.66</td>\n",
              "      <td>206221.0</td>\n",
              "      <td>7.49</td>\n",
              "      <td>-1.34</td>\n",
              "      <td>2021</td>\n",
              "    </tr>\n",
              "    <tr>\n",
              "      <th>43</th>\n",
              "      <td>63c6b388557ee47cb29f036c</td>\n",
              "      <td>2021-07-01</td>\n",
              "      <td>148508.0</td>\n",
              "      <td>-7.44</td>\n",
              "      <td>1.47</td>\n",
              "      <td>147822.0</td>\n",
              "      <td>-2.29</td>\n",
              "      <td>-8.88</td>\n",
              "      <td>23302.0</td>\n",
              "      <td>-22.08</td>\n",
              "      <td>...</td>\n",
              "      <td>-3.03</td>\n",
              "      <td>146412.25</td>\n",
              "      <td>-9.70</td>\n",
              "      <td>23766.0</td>\n",
              "      <td>-29.08</td>\n",
              "      <td>-18.40</td>\n",
              "      <td>174739.0</td>\n",
              "      <td>-8.79</td>\n",
              "      <td>-10.85</td>\n",
              "      <td>2021</td>\n",
              "    </tr>\n",
              "    <tr>\n",
              "      <th>44</th>\n",
              "      <td>63c6b388557ee47cb29f036d</td>\n",
              "      <td>2021-09-01</td>\n",
              "      <td>126709.0</td>\n",
              "      <td>-10.64</td>\n",
              "      <td>-30.22</td>\n",
              "      <td>159073.0</td>\n",
              "      <td>6.86</td>\n",
              "      <td>-23.81</td>\n",
              "      <td>26769.0</td>\n",
              "      <td>-6.80</td>\n",
              "      <td>...</td>\n",
              "      <td>-29.36</td>\n",
              "      <td>134617.94</td>\n",
              "      <td>0.55</td>\n",
              "      <td>23639.0</td>\n",
              "      <td>-19.72</td>\n",
              "      <td>-22.54</td>\n",
              "      <td>156803.0</td>\n",
              "      <td>-12.35</td>\n",
              "      <td>3.22</td>\n",
              "      <td>2021</td>\n",
              "    </tr>\n",
              "    <tr>\n",
              "      <th>45</th>\n",
              "      <td>63c6b388557ee47cb29f036e</td>\n",
              "      <td>2018-12-01</td>\n",
              "      <td>192403.0</td>\n",
              "      <td>-1.05</td>\n",
              "      <td>10.91</td>\n",
              "      <td>169018.0</td>\n",
              "      <td>-27.35</td>\n",
              "      <td>-19.87</td>\n",
              "      <td>33381.0</td>\n",
              "      <td>-0.78</td>\n",
              "      <td>...</td>\n",
              "      <td>10.29</td>\n",
              "      <td>175697.36</td>\n",
              "      <td>-9.99</td>\n",
              "      <td>31709.0</td>\n",
              "      <td>-7.93</td>\n",
              "      <td>-48.14</td>\n",
              "      <td>237798.0</td>\n",
              "      <td>-0.73</td>\n",
              "      <td>-9.79</td>\n",
              "      <td>2018</td>\n",
              "    </tr>\n",
              "    <tr>\n",
              "      <th>46</th>\n",
              "      <td>63c6b388557ee47cb29f036f</td>\n",
              "      <td>2018-09-01</td>\n",
              "      <td>197719.0</td>\n",
              "      <td>-0.75</td>\n",
              "      <td>9.33</td>\n",
              "      <td>211716.0</td>\n",
              "      <td>-23.96</td>\n",
              "      <td>-8.14</td>\n",
              "      <td>43215.0</td>\n",
              "      <td>-22.38</td>\n",
              "      <td>...</td>\n",
              "      <td>4.53</td>\n",
              "      <td>189735.16</td>\n",
              "      <td>-6.67</td>\n",
              "      <td>39449.0</td>\n",
              "      <td>-29.69</td>\n",
              "      <td>-34.46</td>\n",
              "      <td>226447.0</td>\n",
              "      <td>-17.45</td>\n",
              "      <td>-9.11</td>\n",
              "      <td>2018</td>\n",
              "    </tr>\n",
              "    <tr>\n",
              "      <th>47</th>\n",
              "      <td>63c6b388557ee47cb29f0370</td>\n",
              "      <td>2021-10-01</td>\n",
              "      <td>141351.0</td>\n",
              "      <td>11.56</td>\n",
              "      <td>-24.43</td>\n",
              "      <td>163928.0</td>\n",
              "      <td>3.05</td>\n",
              "      <td>-26.74</td>\n",
              "      <td>31332.0</td>\n",
              "      <td>17.05</td>\n",
              "      <td>...</td>\n",
              "      <td>-28.40</td>\n",
              "      <td>136064.94</td>\n",
              "      <td>1.07</td>\n",
              "      <td>29803.0</td>\n",
              "      <td>26.08</td>\n",
              "      <td>-14.56</td>\n",
              "      <td>170178.0</td>\n",
              "      <td>8.53</td>\n",
              "      <td>1.08</td>\n",
              "      <td>2021</td>\n",
              "    </tr>\n",
              "    <tr>\n",
              "      <th>48</th>\n",
              "      <td>63c6b388557ee47cb29f0371</td>\n",
              "      <td>2022-07-01</td>\n",
              "      <td>166566.0</td>\n",
              "      <td>8.19</td>\n",
              "      <td>12.16</td>\n",
              "      <td>203096.0</td>\n",
              "      <td>8.47</td>\n",
              "      <td>37.39</td>\n",
              "      <td>41522.0</td>\n",
              "      <td>-6.11</td>\n",
              "      <td>...</td>\n",
              "      <td>5.49</td>\n",
              "      <td>154971.80</td>\n",
              "      <td>0.58</td>\n",
              "      <td>41906.0</td>\n",
              "      <td>-11.43</td>\n",
              "      <td>76.33</td>\n",
              "      <td>201165.0</td>\n",
              "      <td>1.33</td>\n",
              "      <td>0.15</td>\n",
              "      <td>2022</td>\n",
              "    </tr>\n",
              "    <tr>\n",
              "      <th>49</th>\n",
              "      <td>63c6b388557ee47cb29f0372</td>\n",
              "      <td>2022-04-01</td>\n",
              "      <td>147958.0</td>\n",
              "      <td>15.33</td>\n",
              "      <td>-12.89</td>\n",
              "      <td>174340.0</td>\n",
              "      <td>3.26</td>\n",
              "      <td>-0.91</td>\n",
              "      <td>41368.0</td>\n",
              "      <td>9.28</td>\n",
              "      <td>...</td>\n",
              "      <td>-18.75</td>\n",
              "      <td>138907.78</td>\n",
              "      <td>0.10</td>\n",
              "      <td>44821.0</td>\n",
              "      <td>15.23</td>\n",
              "      <td>32.31</td>\n",
              "      <td>173183.0</td>\n",
              "      <td>3.11</td>\n",
              "      <td>2.83</td>\n",
              "      <td>2022</td>\n",
              "    </tr>\n",
              "    <tr>\n",
              "      <th>50</th>\n",
              "      <td>63c6b388557ee47cb29f0373</td>\n",
              "      <td>2019-01-01</td>\n",
              "      <td>193728.0</td>\n",
              "      <td>0.69</td>\n",
              "      <td>9.88</td>\n",
              "      <td>190415.0</td>\n",
              "      <td>12.66</td>\n",
              "      <td>-9.57</td>\n",
              "      <td>44255.0</td>\n",
              "      <td>32.58</td>\n",
              "      <td>...</td>\n",
              "      <td>9.72</td>\n",
              "      <td>200651.83</td>\n",
              "      <td>14.20</td>\n",
              "      <td>30261.0</td>\n",
              "      <td>-4.57</td>\n",
              "      <td>-34.78</td>\n",
              "      <td>206117.0</td>\n",
              "      <td>-13.32</td>\n",
              "      <td>18.52</td>\n",
              "      <td>2019</td>\n",
              "    </tr>\n",
              "    <tr>\n",
              "      <th>51</th>\n",
              "      <td>63c6b388557ee47cb29f0374</td>\n",
              "      <td>2020-06-01</td>\n",
              "      <td>117316.0</td>\n",
              "      <td>99.88</td>\n",
              "      <td>-46.24</td>\n",
              "      <td>91487.0</td>\n",
              "      <td>141.98</td>\n",
              "      <td>-58.56</td>\n",
              "      <td>15303.0</td>\n",
              "      <td>-1146.72</td>\n",
              "      <td>...</td>\n",
              "      <td>-42.28</td>\n",
              "      <td>120351.06</td>\n",
              "      <td>158.26</td>\n",
              "      <td>19414.0</td>\n",
              "      <td>401.65</td>\n",
              "      <td>-51.98</td>\n",
              "      <td>135140.0</td>\n",
              "      <td>140.18</td>\n",
              "      <td>195.56</td>\n",
              "      <td>2020</td>\n",
              "    </tr>\n",
              "    <tr>\n",
              "      <th>52</th>\n",
              "      <td>63c6b388557ee47cb29f0375</td>\n",
              "      <td>2019-06-01</td>\n",
              "      <td>218233.0</td>\n",
              "      <td>3.82</td>\n",
              "      <td>20.02</td>\n",
              "      <td>220782.0</td>\n",
              "      <td>-15.65</td>\n",
              "      <td>-9.79</td>\n",
              "      <td>35772.0</td>\n",
              "      <td>-1.74</td>\n",
              "      <td>...</td>\n",
              "      <td>14.04</td>\n",
              "      <td>205201.84</td>\n",
              "      <td>-5.13</td>\n",
              "      <td>40433.0</td>\n",
              "      <td>-4.02</td>\n",
              "      <td>-37.72</td>\n",
              "      <td>240912.0</td>\n",
              "      <td>-8.04</td>\n",
              "      <td>-5.38</td>\n",
              "      <td>2019</td>\n",
              "    </tr>\n",
              "    <tr>\n",
              "      <th>53</th>\n",
              "      <td>63c6b388557ee47cb29f0376</td>\n",
              "      <td>2022-03-01</td>\n",
              "      <td>128295.0</td>\n",
              "      <td>-10.54</td>\n",
              "      <td>-23.13</td>\n",
              "      <td>168834.0</td>\n",
              "      <td>10.65</td>\n",
              "      <td>-9.09</td>\n",
              "      <td>37855.0</td>\n",
              "      <td>-0.65</td>\n",
              "      <td>...</td>\n",
              "      <td>-24.98</td>\n",
              "      <td>138762.45</td>\n",
              "      <td>-2.67</td>\n",
              "      <td>38898.0</td>\n",
              "      <td>-6.15</td>\n",
              "      <td>5.77</td>\n",
              "      <td>167958.0</td>\n",
              "      <td>5.92</td>\n",
              "      <td>-4.31</td>\n",
              "      <td>2022</td>\n",
              "    </tr>\n",
              "    <tr>\n",
              "      <th>54</th>\n",
              "      <td>63c6b388557ee47cb29f0377</td>\n",
              "      <td>2020-04-01</td>\n",
              "      <td>58431.0</td>\n",
              "      <td>-61.02</td>\n",
              "      <td>-71.55</td>\n",
              "      <td>1048.0</td>\n",
              "      <td>-99.42</td>\n",
              "      <td>-99.59</td>\n",
              "      <td>4888.0</td>\n",
              "      <td>-82.71</td>\n",
              "      <td>...</td>\n",
              "      <td>-76.98</td>\n",
              "      <td>52801.91</td>\n",
              "      <td>-65.87</td>\n",
              "      <td>7212.0</td>\n",
              "      <td>-76.56</td>\n",
              "      <td>-79.34</td>\n",
              "      <td>54580.0</td>\n",
              "      <td>-69.20</td>\n",
              "      <td>-67.73</td>\n",
              "      <td>2020</td>\n",
              "    </tr>\n",
              "    <tr>\n",
              "      <th>55</th>\n",
              "      <td>63c6b388557ee47cb29f0378</td>\n",
              "      <td>2019-02-01</td>\n",
              "      <td>197030.0</td>\n",
              "      <td>1.70</td>\n",
              "      <td>12.34</td>\n",
              "      <td>245782.0</td>\n",
              "      <td>29.08</td>\n",
              "      <td>20.71</td>\n",
              "      <td>36781.0</td>\n",
              "      <td>-16.89</td>\n",
              "      <td>...</td>\n",
              "      <td>27.57</td>\n",
              "      <td>207031.78</td>\n",
              "      <td>3.18</td>\n",
              "      <td>40510.0</td>\n",
              "      <td>33.87</td>\n",
              "      <td>-38.92</td>\n",
              "      <td>217205.0</td>\n",
              "      <td>5.38</td>\n",
              "      <td>-0.50</td>\n",
              "      <td>2019</td>\n",
              "    </tr>\n",
              "    <tr>\n",
              "      <th>56</th>\n",
              "      <td>63c6b388557ee47cb29f0379</td>\n",
              "      <td>2021-11-01</td>\n",
              "      <td>135688.0</td>\n",
              "      <td>-4.01</td>\n",
              "      <td>-29.76</td>\n",
              "      <td>189757.0</td>\n",
              "      <td>15.76</td>\n",
              "      <td>-15.67</td>\n",
              "      <td>28466.0</td>\n",
              "      <td>-9.15</td>\n",
              "      <td>...</td>\n",
              "      <td>-27.69</td>\n",
              "      <td>136530.44</td>\n",
              "      <td>0.34</td>\n",
              "      <td>28018.0</td>\n",
              "      <td>-5.99</td>\n",
              "      <td>-36.33</td>\n",
              "      <td>176322.0</td>\n",
              "      <td>3.61</td>\n",
              "      <td>-1.06</td>\n",
              "      <td>2021</td>\n",
              "    </tr>\n",
              "    <tr>\n",
              "      <th>57</th>\n",
              "      <td>63c6b388557ee47cb29f037a</td>\n",
              "      <td>2022-01-01</td>\n",
              "      <td>136669.0</td>\n",
              "      <td>-0.40</td>\n",
              "      <td>-28.30</td>\n",
              "      <td>134629.0</td>\n",
              "      <td>-31.70</td>\n",
              "      <td>-29.20</td>\n",
              "      <td>37941.0</td>\n",
              "      <td>-12.91</td>\n",
              "      <td>...</td>\n",
              "      <td>-30.06</td>\n",
              "      <td>137311.31</td>\n",
              "      <td>-3.86</td>\n",
              "      <td>27708.0</td>\n",
              "      <td>-33.36</td>\n",
              "      <td>6.91</td>\n",
              "      <td>136105.0</td>\n",
              "      <td>-37.98</td>\n",
              "      <td>-4.80</td>\n",
              "      <td>2022</td>\n",
              "    </tr>\n",
              "    <tr>\n",
              "      <th>58</th>\n",
              "      <td>63c6b388557ee47cb29f037b</td>\n",
              "      <td>2022-08-01</td>\n",
              "      <td>167392.0</td>\n",
              "      <td>0.50</td>\n",
              "      <td>18.04</td>\n",
              "      <td>217174.0</td>\n",
              "      <td>6.93</td>\n",
              "      <td>45.89</td>\n",
              "      <td>46175.0</td>\n",
              "      <td>11.21</td>\n",
              "      <td>...</td>\n",
              "      <td>23.45</td>\n",
              "      <td>169060.33</td>\n",
              "      <td>9.09</td>\n",
              "      <td>46793.0</td>\n",
              "      <td>11.66</td>\n",
              "      <td>58.92</td>\n",
              "      <td>231299.0</td>\n",
              "      <td>14.98</td>\n",
              "      <td>8.40</td>\n",
              "      <td>2022</td>\n",
              "    </tr>\n",
              "  </tbody>\n",
              "</table>\n",
              "<p>59 rows × 36 columns</p>\n",
              "</div>\n",
              "      <button class=\"colab-df-convert\" onclick=\"convertToInteractive('df-783a464f-bfc5-4d42-bdb9-1f2fd589f2e7')\"\n",
              "              title=\"Convert this dataframe to an interactive table.\"\n",
              "              style=\"display:none;\">\n",
              "        \n",
              "  <svg xmlns=\"http://www.w3.org/2000/svg\" height=\"24px\"viewBox=\"0 0 24 24\"\n",
              "       width=\"24px\">\n",
              "    <path d=\"M0 0h24v24H0V0z\" fill=\"none\"/>\n",
              "    <path d=\"M18.56 5.44l.94 2.06.94-2.06 2.06-.94-2.06-.94-.94-2.06-.94 2.06-2.06.94zm-11 1L8.5 8.5l.94-2.06 2.06-.94-2.06-.94L8.5 2.5l-.94 2.06-2.06.94zm10 10l.94 2.06.94-2.06 2.06-.94-2.06-.94-.94-2.06-.94 2.06-2.06.94z\"/><path d=\"M17.41 7.96l-1.37-1.37c-.4-.4-.92-.59-1.43-.59-.52 0-1.04.2-1.43.59L10.3 9.45l-7.72 7.72c-.78.78-.78 2.05 0 2.83L4 21.41c.39.39.9.59 1.41.59.51 0 1.02-.2 1.41-.59l7.78-7.78 2.81-2.81c.8-.78.8-2.07 0-2.86zM5.41 20L4 18.59l7.72-7.72 1.47 1.35L5.41 20z\"/>\n",
              "  </svg>\n",
              "      </button>\n",
              "      \n",
              "  <style>\n",
              "    .colab-df-container {\n",
              "      display:flex;\n",
              "      flex-wrap:wrap;\n",
              "      gap: 12px;\n",
              "    }\n",
              "\n",
              "    .colab-df-convert {\n",
              "      background-color: #E8F0FE;\n",
              "      border: none;\n",
              "      border-radius: 50%;\n",
              "      cursor: pointer;\n",
              "      display: none;\n",
              "      fill: #1967D2;\n",
              "      height: 32px;\n",
              "      padding: 0 0 0 0;\n",
              "      width: 32px;\n",
              "    }\n",
              "\n",
              "    .colab-df-convert:hover {\n",
              "      background-color: #E2EBFA;\n",
              "      box-shadow: 0px 1px 2px rgba(60, 64, 67, 0.3), 0px 1px 3px 1px rgba(60, 64, 67, 0.15);\n",
              "      fill: #174EA6;\n",
              "    }\n",
              "\n",
              "    [theme=dark] .colab-df-convert {\n",
              "      background-color: #3B4455;\n",
              "      fill: #D2E3FC;\n",
              "    }\n",
              "\n",
              "    [theme=dark] .colab-df-convert:hover {\n",
              "      background-color: #434B5C;\n",
              "      box-shadow: 0px 1px 3px 1px rgba(0, 0, 0, 0.15);\n",
              "      filter: drop-shadow(0px 1px 2px rgba(0, 0, 0, 0.3));\n",
              "      fill: #FFFFFF;\n",
              "    }\n",
              "  </style>\n",
              "\n",
              "      <script>\n",
              "        const buttonEl =\n",
              "          document.querySelector('#df-783a464f-bfc5-4d42-bdb9-1f2fd589f2e7 button.colab-df-convert');\n",
              "        buttonEl.style.display =\n",
              "          google.colab.kernel.accessAllowed ? 'block' : 'none';\n",
              "\n",
              "        async function convertToInteractive(key) {\n",
              "          const element = document.querySelector('#df-783a464f-bfc5-4d42-bdb9-1f2fd589f2e7');\n",
              "          const dataTable =\n",
              "            await google.colab.kernel.invokeFunction('convertToInteractive',\n",
              "                                                     [key], {});\n",
              "          if (!dataTable) return;\n",
              "\n",
              "          const docLinkHtml = 'Like what you see? Visit the ' +\n",
              "            '<a target=\"_blank\" href=https://colab.research.google.com/notebooks/data_table.ipynb>data table notebook</a>'\n",
              "            + ' to learn more about interactive tables.';\n",
              "          element.innerHTML = '';\n",
              "          dataTable['output_type'] = 'display_data';\n",
              "          await google.colab.output.renderOutput(dataTable, element);\n",
              "          const docLink = document.createElement('div');\n",
              "          docLink.innerHTML = docLinkHtml;\n",
              "          element.appendChild(docLink);\n",
              "        }\n",
              "      </script>\n",
              "    </div>\n",
              "  </div>\n",
              "  "
            ]
          },
          "metadata": {},
          "execution_count": 28
        }
      ]
    },
    {
      "cell_type": "markdown",
      "source": [
        "#PySpark\n",
        "\n",
        "\n",
        "### Criando SparkSession"
      ],
      "metadata": {
        "id": "wcrxcaP4BRLv"
      }
    },
    {
      "cell_type": "code",
      "source": [
        "#Configurando a variável do ambiente da sessão spark\n",
        "spark = (\n",
        "    SparkSession.builder\n",
        "                .master('local')\n",
        "                .appName('dataset')\n",
        "                .config('spark.ui.port','4050')\n",
        "                .getOrCreate()\n",
        ")"
      ],
      "metadata": {
        "id": "SUi8VFX-L3Fx"
      },
      "execution_count": null,
      "outputs": []
    },
    {
      "cell_type": "code",
      "source": [
        "spark"
      ],
      "metadata": {
        "id": "OAW7n5g9LbTV",
        "colab": {
          "base_uri": "https://localhost:8080/",
          "height": 219
        },
        "outputId": "fcc4d60f-6c9b-4e95-dbd4-26abbbdbc564"
      },
      "execution_count": null,
      "outputs": [
        {
          "output_type": "execute_result",
          "data": {
            "text/plain": [
              "<pyspark.sql.session.SparkSession at 0x7ff75c7a9b50>"
            ],
            "text/html": [
              "\n",
              "            <div>\n",
              "                <p><b>SparkSession - in-memory</b></p>\n",
              "                \n",
              "        <div>\n",
              "            <p><b>SparkContext</b></p>\n",
              "\n",
              "            <p><a href=\"http://6ba2da49d5ff:4050\">Spark UI</a></p>\n",
              "\n",
              "            <dl>\n",
              "              <dt>Version</dt>\n",
              "                <dd><code>v3.3.1</code></dd>\n",
              "              <dt>Master</dt>\n",
              "                <dd><code>local</code></dd>\n",
              "              <dt>AppName</dt>\n",
              "                <dd><code>dataset</code></dd>\n",
              "            </dl>\n",
              "        </div>\n",
              "        \n",
              "            </div>\n",
              "        "
            ]
          },
          "metadata": {},
          "execution_count": 97
        }
      ]
    },
    {
      "cell_type": "code",
      "source": [
        "# Criando dataframe \n",
        "df = (\n",
        "    spark.createDataFrame(pd.read_excel('/content/dados_brasil.xlsx'))\n",
        "         \n",
        ")\n",
        "#Passamos para o Pandas para tratar as colunas tipo float, arredondando para \n",
        "#duas casas decimais\n",
        "df = df.toPandas() \n",
        "df = df.round(2)\n",
        "#Visualizando o df\n",
        "df1 = spark.createDataFrame(df)\n",
        "df1.show()"
      ],
      "metadata": {
        "id": "cuCDEL8VFKpg",
        "colab": {
          "base_uri": "https://localhost:8080/"
        },
        "outputId": "dcabec2c-f19e-4fac-8bf5-8bbdac52b644"
      },
      "execution_count": null,
      "outputs": [
        {
          "output_type": "stream",
          "name": "stdout",
          "text": [
            "+-------------------+------+--------------+--------------------------+--------------------------------------+-----------------------------------+-----------------------------------+-------------------+-----------------------+--------------------------------------------+--------------------------------------------------------+--------------------------------------------------------------------+-----------------------------------------------------------------+-----------------------------------------------------------------+-------------------------------------------------+-----------------------------------------------------+-----------------------------+-----------------------------------------+-----------------------------------------------------+--------------------------------------------------+--------------------------------------------------+----------------------------------+--------------------------------------+----------------------------+----------------------------------------+----------------------------------------------------+-------------------------------------------------+-------------------------------------------------+---------------------------------+-------------------------------------+-------------------------------------------------------+-------------------------------------------------------------------+-------------------------------------------------------------------------------+----------------------------------------------------------------------------+----------------------------------------------------------------------------+------------------------------------------------------------+----------------------------------------------------------------+--------------------------------------------+--------------------------------------------------------+--------------------------------------------------------------------+-----------------------------------------------------------------+-----------------------------------------------------------------+-------------------------------------------------+-----------------------------------------------------+---------------------------------+---------------------------------------------+---------------------------------------------------------+------------------------------------------------------+------------------------------------------------------+--------------------------------------+------------------------------------------+--------------------------------+--------------------------------------------+--------------------------------------------------------+-----------------------------------------------------+-----------------------------------------------------+-------------------------------------+-----------------------------------------+------------------------------------+------------------------------------------------+------------------------------------------------------------+---------------------------------------------------------+---------------------------------------------------------+-----------------------------------------+---------------------------------------------+-------------------------------+-------------------------------------------+-------------------------------------------------------+----------------------------------------------------+----------------------------------------------------+------------------------------------+----------------------------------------+----------------+----------------------------+----------------------------------------+-------------------------------------+-------------------------------------+---------------------+-------------------------+-------------------------------------+-------------------------------------------------+-------------------------------------------------------------+----------------------------------------------------------+----------------------------------------------------------+------------------------------------------+----------------------------------------------+-------------------------------------------+-------------------------------------------------------+-------------------------------------------------------------------+----------------------------------------------------------------+----------------------------------------------------------------+------------------------------------------------+----------------------------------------------------+---------------------------+---------------------------------------+---------------------------------------------------+------------------------------------------------+------------------------------------------------+--------------------------------+------------------------------------+-------------------------------------------------+-------------------------------------------------------------+-------------------------------------------------------------------------+----------------------------------------------------------------------+----------------------------------------------------------------------+------------------------------------------------------+----------------------------------------------------------+----------------------+----------------------------------+----------------------------------------------+-------------------------------------------+-------------------------------------------+---------------------------+-------------------------------+---------------+---------------------------+---------------------------------------+------------------------------------+------------------------------------+--------------------+------------------------+---------------------+---------------------------------+---------------------------------------------+------------------------------------------+------------------------------------------+--------------------------+------------------------------+\n",
            "|               Date|Entity|Bus production|Bus production - cumsum_12|Bus production - current_prices_3m_yoy|Bus production - current_prices_mom|Bus production - current_prices_yoy|Bus production - sa|Bus production - sa_MoM|Domestic vehicle sales - Seasonally Adjusted|Domestic vehicle sales - Seasonally Adjusted - cumsum_12|Domestic vehicle sales - Seasonally Adjusted - current_prices_3m_yoy|Domestic vehicle sales - Seasonally Adjusted - current_prices_mom|Domestic vehicle sales - Seasonally Adjusted - current_prices_yoy|Domestic vehicle sales - Seasonally Adjusted - sa|Domestic vehicle sales - Seasonally Adjusted - sa_MoM|Four wheel tractor production|Four wheel tractor production - cumsum_12|Four wheel tractor production - current_prices_3m_yoy|Four wheel tractor production - current_prices_mom|Four wheel tractor production - current_prices_yoy|Four wheel tractor production - sa|Four wheel tractor production - sa_MoM|Other agricultural machinery|Other agricultural machinery - cumsum_12|Other agricultural machinery - current_prices_3m_yoy|Other agricultural machinery - current_prices_mom|Other agricultural machinery - current_prices_yoy|Other agricultural machinery - sa|Other agricultural machinery - sa_MoM|Passenger cars and light commercial vehicles production|Passenger cars and light commercial vehicles production - cumsum_12|Passenger cars and light commercial vehicles production - current_prices_3m_yoy|Passenger cars and light commercial vehicles production - current_prices_mom|Passenger cars and light commercial vehicles production - current_prices_yoy|Passenger cars and light commercial vehicles production - sa|Passenger cars and light commercial vehicles production - sa_MoM|Production of agricultural machinery (total)|Production of agricultural machinery (total) - cumsum_12|Production of agricultural machinery (total) - current_prices_3m_yoy|Production of agricultural machinery (total) - current_prices_mom|Production of agricultural machinery (total) - current_prices_yoy|Production of agricultural machinery (total) - sa|Production of agricultural machinery (total) - sa_MoM|Production of combined harvesters|Production of combined harvesters - cumsum_12|Production of combined harvesters - current_prices_3m_yoy|Production of combined harvesters - current_prices_mom|Production of combined harvesters - current_prices_yoy|Production of combined harvesters - sa|Production of combined harvesters - sa_MoM|Production of mechanical diggers|Production of mechanical diggers - cumsum_12|Production of mechanical diggers - current_prices_3m_yoy|Production of mechanical diggers - current_prices_mom|Production of mechanical diggers - current_prices_yoy|Production of mechanical diggers - sa|Production of mechanical diggers - sa_MoM|Production of mechanised cultivators|Production of mechanised cultivators - cumsum_12|Production of mechanised cultivators - current_prices_3m_yoy|Production of mechanised cultivators - current_prices_mom|Production of mechanised cultivators - current_prices_yoy|Production of mechanised cultivators - sa|Production of mechanised cultivators - sa_MoM|Track driven tractor production|Track driven tractor production - cumsum_12|Track driven tractor production - current_prices_3m_yoy|Track driven tractor production - current_prices_mom|Track driven tractor production - current_prices_yoy|Track driven tractor production - sa|Track driven tractor production - sa_MoM|Truck production|Truck production - cumsum_12|Truck production - current_prices_3m_yoy|Truck production - current_prices_mom|Truck production - current_prices_yoy|Truck production - sa|Truck production - sa_MoM|Vehicle exports - Seasonally Adjusted|Vehicle exports - Seasonally Adjusted - cumsum_12|Vehicle exports - Seasonally Adjusted - current_prices_3m_yoy|Vehicle exports - Seasonally Adjusted - current_prices_mom|Vehicle exports - Seasonally Adjusted - current_prices_yoy|Vehicle exports - Seasonally Adjusted - sa|Vehicle exports - Seasonally Adjusted - sa_MoM|Vehicle sales (total) - Seasonally Adjusted|Vehicle sales (total) - Seasonally Adjusted - cumsum_12|Vehicle sales (total) - Seasonally Adjusted - current_prices_3m_yoy|Vehicle sales (total) - Seasonally Adjusted - current_prices_mom|Vehicle sales (total) - Seasonally Adjusted - current_prices_yoy|Vehicle sales (total) - Seasonally Adjusted - sa|Vehicle sales (total) - Seasonally Adjusted - sa_MoM|Vehicles production (total)|Vehicles production (total) - cumsum_12|Vehicles production (total) - current_prices_3m_yoy|Vehicles production (total) - current_prices_mom|Vehicles production (total) - current_prices_yoy|Vehicles production (total) - sa|Vehicles production (total) - sa_MoM|Vehicles production (total) - Seasonally Adjusted|Vehicles production (total) - Seasonally Adjusted - cumsum_12|Vehicles production (total) - Seasonally Adjusted - current_prices_3m_yoy|Vehicles production (total) - Seasonally Adjusted - current_prices_mom|Vehicles production (total) - Seasonally Adjusted - current_prices_yoy|Vehicles production (total) - Seasonally Adjusted - sa|Vehicles production (total) - Seasonally Adjusted - sa_MoM|Domestic vehicle sales|Domestic vehicle sales - cumsum_12|Domestic vehicle sales - current_prices_3m_yoy|Domestic vehicle sales - current_prices_mom|Domestic vehicle sales - current_prices_yoy|Domestic vehicle sales - sa|Domestic vehicle sales - sa_MoM|Vehicle exports|Vehicle exports - cumsum_12|Vehicle exports - current_prices_3m_yoy|Vehicle exports - current_prices_mom|Vehicle exports - current_prices_yoy|Vehicle exports - sa|Vehicle exports - sa_MoM|Vehicle sales (total)|Vehicle sales (total) - cumsum_12|Vehicle sales (total) - current_prices_3m_yoy|Vehicle sales (total) - current_prices_mom|Vehicle sales (total) - current_prices_yoy|Vehicle sales (total) - sa|Vehicle sales (total) - sa_MoM|\n",
            "+-------------------+------+--------------+--------------------------+--------------------------------------+-----------------------------------+-----------------------------------+-------------------+-----------------------+--------------------------------------------+--------------------------------------------------------+--------------------------------------------------------------------+-----------------------------------------------------------------+-----------------------------------------------------------------+-------------------------------------------------+-----------------------------------------------------+-----------------------------+-----------------------------------------+-----------------------------------------------------+--------------------------------------------------+--------------------------------------------------+----------------------------------+--------------------------------------+----------------------------+----------------------------------------+----------------------------------------------------+-------------------------------------------------+-------------------------------------------------+---------------------------------+-------------------------------------+-------------------------------------------------------+-------------------------------------------------------------------+-------------------------------------------------------------------------------+----------------------------------------------------------------------------+----------------------------------------------------------------------------+------------------------------------------------------------+----------------------------------------------------------------+--------------------------------------------+--------------------------------------------------------+--------------------------------------------------------------------+-----------------------------------------------------------------+-----------------------------------------------------------------+-------------------------------------------------+-----------------------------------------------------+---------------------------------+---------------------------------------------+---------------------------------------------------------+------------------------------------------------------+------------------------------------------------------+--------------------------------------+------------------------------------------+--------------------------------+--------------------------------------------+--------------------------------------------------------+-----------------------------------------------------+-----------------------------------------------------+-------------------------------------+-----------------------------------------+------------------------------------+------------------------------------------------+------------------------------------------------------------+---------------------------------------------------------+---------------------------------------------------------+-----------------------------------------+---------------------------------------------+-------------------------------+-------------------------------------------+-------------------------------------------------------+----------------------------------------------------+----------------------------------------------------+------------------------------------+----------------------------------------+----------------+----------------------------+----------------------------------------+-------------------------------------+-------------------------------------+---------------------+-------------------------+-------------------------------------+-------------------------------------------------+-------------------------------------------------------------+----------------------------------------------------------+----------------------------------------------------------+------------------------------------------+----------------------------------------------+-------------------------------------------+-------------------------------------------------------+-------------------------------------------------------------------+----------------------------------------------------------------+----------------------------------------------------------------+------------------------------------------------+----------------------------------------------------+---------------------------+---------------------------------------+---------------------------------------------------+------------------------------------------------+------------------------------------------------+--------------------------------+------------------------------------+-------------------------------------------------+-------------------------------------------------------------+-------------------------------------------------------------------------+----------------------------------------------------------------------+----------------------------------------------------------------------+------------------------------------------------------+----------------------------------------------------------+----------------------+----------------------------------+----------------------------------------------+-------------------------------------------+-------------------------------------------+---------------------------+-------------------------------+---------------+---------------------------+---------------------------------------+------------------------------------+------------------------------------+--------------------+------------------------+---------------------+---------------------------------+---------------------------------------------+------------------------------------------+------------------------------------------+--------------------------+------------------------------+\n",
            "|1981-01-01 00:00:00|Brazil|           NaN|                       NaN|                                   NaN|                                NaN|                                NaN|                NaN|                    NaN|                                         NaN|                                                     NaN|                                                                 NaN|                                                              NaN|                                                              NaN|                                              NaN|                                                  NaN|                          NaN|                                      NaN|                                                  NaN|                                               NaN|                                               NaN|                               NaN|                                   NaN|                         NaN|                                     NaN|                                                 NaN|                                              NaN|                                              NaN|                              NaN|                                  NaN|                                                    NaN|                                                                NaN|                                                                            NaN|                                                                         NaN|                                                                         NaN|                                                         NaN|                                                             NaN|                                         NaN|                                                     NaN|                                                                 NaN|                                                              NaN|                                                              NaN|                                              NaN|                                                  NaN|                              NaN|                                          NaN|                                                      NaN|                                                   NaN|                                                   NaN|                                   NaN|                                       NaN|                             NaN|                                         NaN|                                                     NaN|                                                  NaN|                                                  NaN|                                  NaN|                                      NaN|                                 NaN|                                             NaN|                                                         NaN|                                                      NaN|                                                      NaN|                                      NaN|                                          NaN|                            NaN|                                        NaN|                                                    NaN|                                                 NaN|                                                 NaN|                                 NaN|                                     NaN|             NaN|                         NaN|                                     NaN|                                  NaN|                                  NaN|                  NaN|                      NaN|                                  NaN|                                              NaN|                                                          NaN|                                                       NaN|                                                       NaN|                                       NaN|                                           NaN|                                        NaN|                                                    NaN|                                                                NaN|                                                             NaN|                                                             NaN|                                             NaN|                                                 NaN|                        NaN|                                    NaN|                                                NaN|                                             NaN|                                             NaN|                             NaN|                                 NaN|                                              NaN|                                                          NaN|                                                                      NaN|                                                                   NaN|                                                                   NaN|                                                   NaN|                                                       NaN|                 73363|                               NaN|                                           NaN|                                        NaN|                                        NaN|                   76430.95|                            NaN|          14576|                        NaN|                                    NaN|                                 NaN|                                 NaN|            16994.11|                     NaN|                87939|                              NaN|                                          NaN|                                       NaN|                                       NaN|                  92895.74|                           NaN|\n",
            "|1981-02-01 00:00:00|Brazil|           NaN|                       NaN|                                   NaN|                                NaN|                                NaN|                NaN|                    NaN|                                         NaN|                                                     NaN|                                                                 NaN|                                                              NaN|                                                              NaN|                                              NaN|                                                  NaN|                          NaN|                                      NaN|                                                  NaN|                                               NaN|                                               NaN|                               NaN|                                   NaN|                         NaN|                                     NaN|                                                 NaN|                                              NaN|                                              NaN|                              NaN|                                  NaN|                                                    NaN|                                                                NaN|                                                                            NaN|                                                                         NaN|                                                                         NaN|                                                         NaN|                                                             NaN|                                         NaN|                                                     NaN|                                                                 NaN|                                                              NaN|                                                              NaN|                                              NaN|                                                  NaN|                              NaN|                                          NaN|                                                      NaN|                                                   NaN|                                                   NaN|                                   NaN|                                       NaN|                             NaN|                                         NaN|                                                     NaN|                                                  NaN|                                                  NaN|                                  NaN|                                      NaN|                                 NaN|                                             NaN|                                                         NaN|                                                      NaN|                                                      NaN|                                      NaN|                                          NaN|                            NaN|                                        NaN|                                                    NaN|                                                 NaN|                                                 NaN|                                 NaN|                                     NaN|             NaN|                         NaN|                                     NaN|                                  NaN|                                  NaN|                  NaN|                      NaN|                                  NaN|                                              NaN|                                                          NaN|                                                       NaN|                                                       NaN|                                       NaN|                                           NaN|                                        NaN|                                                    NaN|                                                                NaN|                                                             NaN|                                                             NaN|                                             NaN|                                                 NaN|                        NaN|                                    NaN|                                                NaN|                                             NaN|                                             NaN|                             NaN|                                 NaN|                                              NaN|                                                          NaN|                                                                      NaN|                                                                   NaN|                                                                   NaN|                                                   NaN|                                                       NaN|                 48973|                               NaN|                                           NaN|                                     -33.25|                                        NaN|                   50966.25|                         -33.32|          16278|                        NaN|                                    NaN|                               11.68|                                 NaN|            21274.65|                   25.19|                65251|                              NaN|                                          NaN|                                     -25.8|                                       NaN|                  70613.84|                        -23.99|\n",
            "|1981-03-01 00:00:00|Brazil|           NaN|                       NaN|                                   NaN|                                NaN|                                NaN|                NaN|                    NaN|                                         NaN|                                                     NaN|                                                                 NaN|                                                              NaN|                                                              NaN|                                              NaN|                                                  NaN|                          NaN|                                      NaN|                                                  NaN|                                               NaN|                                               NaN|                               NaN|                                   NaN|                         NaN|                                     NaN|                                                 NaN|                                              NaN|                                              NaN|                              NaN|                                  NaN|                                                    NaN|                                                                NaN|                                                                            NaN|                                                                         NaN|                                                                         NaN|                                                         NaN|                                                             NaN|                                         NaN|                                                     NaN|                                                                 NaN|                                                              NaN|                                                              NaN|                                              NaN|                                                  NaN|                              NaN|                                          NaN|                                                      NaN|                                                   NaN|                                                   NaN|                                   NaN|                                       NaN|                             NaN|                                         NaN|                                                     NaN|                                                  NaN|                                                  NaN|                                  NaN|                                      NaN|                                 NaN|                                             NaN|                                                         NaN|                                                      NaN|                                                      NaN|                                      NaN|                                          NaN|                            NaN|                                        NaN|                                                    NaN|                                                 NaN|                                                 NaN|                                 NaN|                                     NaN|             NaN|                         NaN|                                     NaN|                                  NaN|                                  NaN|                  NaN|                      NaN|                                  NaN|                                              NaN|                                                          NaN|                                                       NaN|                                                       NaN|                                       NaN|                                           NaN|                                        NaN|                                                    NaN|                                                                NaN|                                                             NaN|                                                             NaN|                                             NaN|                                                 NaN|                        NaN|                                    NaN|                                                NaN|                                             NaN|                                             NaN|                             NaN|                                 NaN|                                              NaN|                                                          NaN|                                                                      NaN|                                                                   NaN|                                                                   NaN|                                                   NaN|                                                       NaN|                 40523|                               NaN|                                           NaN|                                     -17.25|                                        NaN|                   40321.42|                         -20.89|          23542|                        NaN|                                    NaN|                               44.62|                                 NaN|            21936.26|                    3.11|                64065|                              NaN|                                          NaN|                                     -1.82|                                       NaN|                   62399.8|                        -11.63|\n",
            "|1981-04-01 00:00:00|Brazil|           NaN|                       NaN|                                   NaN|                                NaN|                                NaN|                NaN|                    NaN|                                         NaN|                                                     NaN|                                                                 NaN|                                                              NaN|                                                              NaN|                                              NaN|                                                  NaN|                          NaN|                                      NaN|                                                  NaN|                                               NaN|                                               NaN|                               NaN|                                   NaN|                         NaN|                                     NaN|                                                 NaN|                                              NaN|                                              NaN|                              NaN|                                  NaN|                                                    NaN|                                                                NaN|                                                                            NaN|                                                                         NaN|                                                                         NaN|                                                         NaN|                                                             NaN|                                         NaN|                                                     NaN|                                                                 NaN|                                                              NaN|                                                              NaN|                                              NaN|                                                  NaN|                              NaN|                                          NaN|                                                      NaN|                                                   NaN|                                                   NaN|                                   NaN|                                       NaN|                             NaN|                                         NaN|                                                     NaN|                                                  NaN|                                                  NaN|                                  NaN|                                      NaN|                                 NaN|                                             NaN|                                                         NaN|                                                      NaN|                                                      NaN|                                      NaN|                                          NaN|                            NaN|                                        NaN|                                                    NaN|                                                 NaN|                                                 NaN|                                 NaN|                                     NaN|             NaN|                         NaN|                                     NaN|                                  NaN|                                  NaN|                  NaN|                      NaN|                                  NaN|                                              NaN|                                                          NaN|                                                       NaN|                                                       NaN|                                       NaN|                                           NaN|                                        NaN|                                                    NaN|                                                                NaN|                                                             NaN|                                                             NaN|                                             NaN|                                                 NaN|                        NaN|                                    NaN|                                                NaN|                                             NaN|                                             NaN|                             NaN|                                 NaN|                                              NaN|                                                          NaN|                                                                      NaN|                                                                   NaN|                                                                   NaN|                                                   NaN|                                                       NaN|                 48580|                               NaN|                                           NaN|                                      19.88|                                        NaN|                   47585.11|                          18.01|          20462|                        NaN|                                    NaN|                              -13.08|                                 NaN|            20605.14|                   -6.07|                69042|                              NaN|                                          NaN|                                      7.77|                                       NaN|                  68278.05|                          9.42|\n",
            "|1981-05-01 00:00:00|Brazil|           NaN|                       NaN|                                   NaN|                                NaN|                                NaN|                NaN|                    NaN|                                         NaN|                                                     NaN|                                                                 NaN|                                                              NaN|                                                              NaN|                                              NaN|                                                  NaN|                          NaN|                                      NaN|                                                  NaN|                                               NaN|                                               NaN|                               NaN|                                   NaN|                         NaN|                                     NaN|                                                 NaN|                                              NaN|                                              NaN|                              NaN|                                  NaN|                                                    NaN|                                                                NaN|                                                                            NaN|                                                                         NaN|                                                                         NaN|                                                         NaN|                                                             NaN|                                         NaN|                                                     NaN|                                                                 NaN|                                                              NaN|                                                              NaN|                                              NaN|                                                  NaN|                              NaN|                                          NaN|                                                      NaN|                                                   NaN|                                                   NaN|                                   NaN|                                       NaN|                             NaN|                                         NaN|                                                     NaN|                                                  NaN|                                                  NaN|                                  NaN|                                      NaN|                                 NaN|                                             NaN|                                                         NaN|                                                      NaN|                                                      NaN|                                      NaN|                                          NaN|                            NaN|                                        NaN|                                                    NaN|                                                 NaN|                                                 NaN|                                 NaN|                                     NaN|             NaN|                         NaN|                                     NaN|                                  NaN|                                  NaN|                  NaN|                      NaN|                                  NaN|                                              NaN|                                                          NaN|                                                       NaN|                                                       NaN|                                       NaN|                                           NaN|                                        NaN|                                                    NaN|                                                                NaN|                                                             NaN|                                                             NaN|                                             NaN|                                                 NaN|                        NaN|                                    NaN|                                                NaN|                                             NaN|                                             NaN|                             NaN|                                 NaN|                                              NaN|                                                          NaN|                                                                      NaN|                                                                   NaN|                                                                   NaN|                                                   NaN|                                                       NaN|                 41750|                               NaN|                                           NaN|                                     -14.06|                                        NaN|                   42031.11|                         -11.67|          21216|                        NaN|                                    NaN|                                3.68|                                 NaN|            19734.59|                   -4.22|                62966|                              NaN|                                          NaN|                                      -8.8|                                       NaN|                  61893.72|                         -9.35|\n",
            "|1981-06-01 00:00:00|Brazil|           NaN|                       NaN|                                   NaN|                                NaN|                                NaN|                NaN|                    NaN|                                         NaN|                                                     NaN|                                                                 NaN|                                                              NaN|                                                              NaN|                                              NaN|                                                  NaN|                          NaN|                                      NaN|                                                  NaN|                                               NaN|                                               NaN|                               NaN|                                   NaN|                         NaN|                                     NaN|                                                 NaN|                                              NaN|                                              NaN|                              NaN|                                  NaN|                                                    NaN|                                                                NaN|                                                                            NaN|                                                                         NaN|                                                                         NaN|                                                         NaN|                                                             NaN|                                         NaN|                                                     NaN|                                                                 NaN|                                                              NaN|                                                              NaN|                                              NaN|                                                  NaN|                              NaN|                                          NaN|                                                      NaN|                                                   NaN|                                                   NaN|                                   NaN|                                       NaN|                             NaN|                                         NaN|                                                     NaN|                                                  NaN|                                                  NaN|                                  NaN|                                      NaN|                                 NaN|                                             NaN|                                                         NaN|                                                      NaN|                                                      NaN|                                      NaN|                                          NaN|                            NaN|                                        NaN|                                                    NaN|                                                 NaN|                                                 NaN|                                 NaN|                                     NaN|             NaN|                         NaN|                                     NaN|                                  NaN|                                  NaN|                  NaN|                      NaN|                                  NaN|                                              NaN|                                                          NaN|                                                       NaN|                                                       NaN|                                       NaN|                                           NaN|                                        NaN|                                                    NaN|                                                                NaN|                                                             NaN|                                                             NaN|                                             NaN|                                                 NaN|                        NaN|                                    NaN|                                                NaN|                                             NaN|                                             NaN|                             NaN|                                 NaN|                                              NaN|                                                          NaN|                                                                      NaN|                                                                   NaN|                                                                   NaN|                                                   NaN|                                                       NaN|                 45874|                               NaN|                                           NaN|                                       9.88|                                        NaN|                   48041.94|                           14.3|          15397|                        NaN|                                    NaN|                              -27.43|                                 NaN|            15841.34|                  -19.73|                61271|                              NaN|                                          NaN|                                     -2.69|                                       NaN|                  63896.42|                          3.24|\n",
            "|1981-07-01 00:00:00|Brazil|           NaN|                       NaN|                                   NaN|                                NaN|                                NaN|                NaN|                    NaN|                                         NaN|                                                     NaN|                                                                 NaN|                                                              NaN|                                                              NaN|                                              NaN|                                                  NaN|                          NaN|                                      NaN|                                                  NaN|                                               NaN|                                               NaN|                               NaN|                                   NaN|                         NaN|                                     NaN|                                                 NaN|                                              NaN|                                              NaN|                              NaN|                                  NaN|                                                    NaN|                                                                NaN|                                                                            NaN|                                                                         NaN|                                                                         NaN|                                                         NaN|                                                             NaN|                                         NaN|                                                     NaN|                                                                 NaN|                                                              NaN|                                                              NaN|                                              NaN|                                                  NaN|                              NaN|                                          NaN|                                                      NaN|                                                   NaN|                                                   NaN|                                   NaN|                                       NaN|                             NaN|                                         NaN|                                                     NaN|                                                  NaN|                                                  NaN|                                  NaN|                                      NaN|                                 NaN|                                             NaN|                                                         NaN|                                                      NaN|                                                      NaN|                                      NaN|                                          NaN|                            NaN|                                        NaN|                                                    NaN|                                                 NaN|                                                 NaN|                                 NaN|                                     NaN|             NaN|                         NaN|                                     NaN|                                  NaN|                                  NaN|                  NaN|                      NaN|                                  NaN|                                              NaN|                                                          NaN|                                                       NaN|                                                       NaN|                                       NaN|                                           NaN|                                        NaN|                                                    NaN|                                                                NaN|                                                             NaN|                                                             NaN|                                             NaN|                                                 NaN|                        NaN|                                    NaN|                                                NaN|                                             NaN|                                             NaN|                             NaN|                                 NaN|                                              NaN|                                                          NaN|                                                                      NaN|                                                                   NaN|                                                                   NaN|                                                   NaN|                                                       NaN|                 42017|                               NaN|                                           NaN|                                      -8.41|                                        NaN|                   47617.92|                          -0.88|          18807|                        NaN|                                    NaN|                               22.15|                                 NaN|            16340.08|                    3.15|                60824|                              NaN|                                          NaN|                                     -0.73|                                       NaN|                  65088.74|                          1.87|\n",
            "|1981-08-01 00:00:00|Brazil|           NaN|                       NaN|                                   NaN|                                NaN|                                NaN|                NaN|                    NaN|                                         NaN|                                                     NaN|                                                                 NaN|                                                              NaN|                                                              NaN|                                              NaN|                                                  NaN|                          NaN|                                      NaN|                                                  NaN|                                               NaN|                                               NaN|                               NaN|                                   NaN|                         NaN|                                     NaN|                                                 NaN|                                              NaN|                                              NaN|                              NaN|                                  NaN|                                                    NaN|                                                                NaN|                                                                            NaN|                                                                         NaN|                                                                         NaN|                                                         NaN|                                                             NaN|                                         NaN|                                                     NaN|                                                                 NaN|                                                              NaN|                                                              NaN|                                              NaN|                                                  NaN|                              NaN|                                          NaN|                                                      NaN|                                                   NaN|                                                   NaN|                                   NaN|                                       NaN|                             NaN|                                         NaN|                                                     NaN|                                                  NaN|                                                  NaN|                                  NaN|                                      NaN|                                 NaN|                                             NaN|                                                         NaN|                                                      NaN|                                                      NaN|                                      NaN|                                          NaN|                            NaN|                                        NaN|                                                    NaN|                                                 NaN|                                                 NaN|                                 NaN|                                     NaN|             NaN|                         NaN|                                     NaN|                                  NaN|                                  NaN|                  NaN|                      NaN|                                  NaN|                                              NaN|                                                          NaN|                                                       NaN|                                                       NaN|                                       NaN|                                           NaN|                                        NaN|                                                    NaN|                                                                NaN|                                                             NaN|                                                             NaN|                                             NaN|                                                 NaN|                        NaN|                                    NaN|                                                NaN|                                             NaN|                                             NaN|                             NaN|                                 NaN|                                              NaN|                                                          NaN|                                                                      NaN|                                                                   NaN|                                                                   NaN|                                                   NaN|                                                       NaN|                 44446|                               NaN|                                           NaN|                                       5.78|                                        NaN|                    42362.8|                         -11.04|          19425|                        NaN|                                    NaN|                                3.29|                                 NaN|            15844.23|                   -3.03|                63871|                              NaN|                                          NaN|                                      5.01|                                       NaN|                  58759.15|                         -9.72|\n",
            "|1981-09-01 00:00:00|Brazil|           NaN|                       NaN|                                   NaN|                                NaN|                                NaN|                NaN|                    NaN|                                         NaN|                                                     NaN|                                                                 NaN|                                                              NaN|                                                              NaN|                                              NaN|                                                  NaN|                          NaN|                                      NaN|                                                  NaN|                                               NaN|                                               NaN|                               NaN|                                   NaN|                         NaN|                                     NaN|                                                 NaN|                                              NaN|                                              NaN|                              NaN|                                  NaN|                                                    NaN|                                                                NaN|                                                                            NaN|                                                                         NaN|                                                                         NaN|                                                         NaN|                                                             NaN|                                         NaN|                                                     NaN|                                                                 NaN|                                                              NaN|                                                              NaN|                                              NaN|                                                  NaN|                              NaN|                                          NaN|                                                      NaN|                                                   NaN|                                                   NaN|                                   NaN|                                       NaN|                             NaN|                                         NaN|                                                     NaN|                                                  NaN|                                                  NaN|                                  NaN|                                      NaN|                                 NaN|                                             NaN|                                                         NaN|                                                      NaN|                                                      NaN|                                      NaN|                                          NaN|                            NaN|                                        NaN|                                                    NaN|                                                 NaN|                                                 NaN|                                 NaN|                                     NaN|             NaN|                         NaN|                                     NaN|                                  NaN|                                  NaN|                  NaN|                      NaN|                                  NaN|                                              NaN|                                                          NaN|                                                       NaN|                                                       NaN|                                       NaN|                                           NaN|                                        NaN|                                                    NaN|                                                                NaN|                                                             NaN|                                                             NaN|                                             NaN|                                                 NaN|                        NaN|                                    NaN|                                                NaN|                                             NaN|                                             NaN|                             NaN|                                 NaN|                                              NaN|                                                          NaN|                                                                      NaN|                                                                   NaN|                                                                   NaN|                                                   NaN|                                                       NaN|                 47095|                               NaN|                                           NaN|                                       5.96|                                        NaN|                   46360.89|                           9.44|          17733|                        NaN|                                    NaN|                               -8.71|                                 NaN|            18315.16|                    15.6|                64828|                              NaN|                                          NaN|                                       1.5|                                       NaN|                  65634.95|                          11.7|\n",
            "|1981-10-01 00:00:00|Brazil|           NaN|                       NaN|                                   NaN|                                NaN|                                NaN|                NaN|                    NaN|                                         NaN|                                                     NaN|                                                                 NaN|                                                              NaN|                                                              NaN|                                              NaN|                                                  NaN|                          NaN|                                      NaN|                                                  NaN|                                               NaN|                                               NaN|                               NaN|                                   NaN|                         NaN|                                     NaN|                                                 NaN|                                              NaN|                                              NaN|                              NaN|                                  NaN|                                                    NaN|                                                                NaN|                                                                            NaN|                                                                         NaN|                                                                         NaN|                                                         NaN|                                                             NaN|                                         NaN|                                                     NaN|                                                                 NaN|                                                              NaN|                                                              NaN|                                              NaN|                                                  NaN|                              NaN|                                          NaN|                                                      NaN|                                                   NaN|                                                   NaN|                                   NaN|                                       NaN|                             NaN|                                         NaN|                                                     NaN|                                                  NaN|                                                  NaN|                                  NaN|                                      NaN|                                 NaN|                                             NaN|                                                         NaN|                                                      NaN|                                                      NaN|                                      NaN|                                          NaN|                            NaN|                                        NaN|                                                    NaN|                                                 NaN|                                                 NaN|                                 NaN|                                     NaN|             NaN|                         NaN|                                     NaN|                                  NaN|                                  NaN|                  NaN|                      NaN|                                  NaN|                                              NaN|                                                          NaN|                                                       NaN|                                                       NaN|                                       NaN|                                           NaN|                                        NaN|                                                    NaN|                                                                NaN|                                                             NaN|                                                             NaN|                                             NaN|                                                 NaN|                        NaN|                                    NaN|                                                NaN|                                             NaN|                                             NaN|                             NaN|                                 NaN|                                              NaN|                                                          NaN|                                                                      NaN|                                                                   NaN|                                                                   NaN|                                                   NaN|                                                       NaN|                 48790|                               NaN|                                           NaN|                                        3.6|                                        NaN|                   45023.67|                          -2.88|          14421|                        NaN|                                    NaN|                              -18.68|                                 NaN|            14894.72|                  -18.68|                63211|                              NaN|                                          NaN|                                     -2.49|                                       NaN|                  60770.83|                         -7.41|\n",
            "|1981-11-01 00:00:00|Brazil|           NaN|                       NaN|                                   NaN|                                NaN|                                NaN|                NaN|                    NaN|                                         NaN|                                                     NaN|                                                                 NaN|                                                              NaN|                                                              NaN|                                              NaN|                                                  NaN|                          NaN|                                      NaN|                                                  NaN|                                               NaN|                                               NaN|                               NaN|                                   NaN|                         NaN|                                     NaN|                                                 NaN|                                              NaN|                                              NaN|                              NaN|                                  NaN|                                                    NaN|                                                                NaN|                                                                            NaN|                                                                         NaN|                                                                         NaN|                                                         NaN|                                                             NaN|                                         NaN|                                                     NaN|                                                                 NaN|                                                              NaN|                                                              NaN|                                              NaN|                                                  NaN|                              NaN|                                          NaN|                                                      NaN|                                                   NaN|                                                   NaN|                                   NaN|                                       NaN|                             NaN|                                         NaN|                                                     NaN|                                                  NaN|                                                  NaN|                                  NaN|                                      NaN|                                 NaN|                                             NaN|                                                         NaN|                                                      NaN|                                                      NaN|                                      NaN|                                          NaN|                            NaN|                                        NaN|                                                    NaN|                                                 NaN|                                                 NaN|                                 NaN|                                     NaN|             NaN|                         NaN|                                     NaN|                                  NaN|                                  NaN|                  NaN|                      NaN|                                  NaN|                                              NaN|                                                          NaN|                                                       NaN|                                                       NaN|                                       NaN|                                           NaN|                                        NaN|                                                    NaN|                                                                NaN|                                                             NaN|                                                             NaN|                                             NaN|                                                 NaN|                        NaN|                                    NaN|                                                NaN|                                             NaN|                                             NaN|                             NaN|                                 NaN|                                              NaN|                                                          NaN|                                                                      NaN|                                                                   NaN|                                                                   NaN|                                                   NaN|                                                       NaN|                 47231|                               NaN|                                           NaN|                                       -3.2|                                        NaN|                   46726.15|                           3.78|          13898|                        NaN|                                    NaN|                               -3.63|                                 NaN|             15711.8|                    5.49|                61129|                              NaN|                                          NaN|                                     -3.29|                                       NaN|                  63450.15|                          4.41|\n",
            "|1981-12-01 00:00:00|Brazil|           NaN|                       NaN|                                   NaN|                                NaN|                                NaN|                NaN|                    NaN|                                         NaN|                                                     NaN|                                                                 NaN|                                                              NaN|                                                              NaN|                                              NaN|                                                  NaN|                          NaN|                                      NaN|                                                  NaN|                                               NaN|                                               NaN|                               NaN|                                   NaN|                         NaN|                                     NaN|                                                 NaN|                                              NaN|                                              NaN|                              NaN|                                  NaN|                                                    NaN|                                                                NaN|                                                                            NaN|                                                                         NaN|                                                                         NaN|                                                         NaN|                                                             NaN|                                         NaN|                                                     NaN|                                                                 NaN|                                                              NaN|                                                              NaN|                                              NaN|                                                  NaN|                              NaN|                                          NaN|                                                      NaN|                                                   NaN|                                                   NaN|                                   NaN|                                       NaN|                             NaN|                                         NaN|                                                     NaN|                                                  NaN|                                                  NaN|                                  NaN|                                      NaN|                                 NaN|                                             NaN|                                                         NaN|                                                      NaN|                                                      NaN|                                      NaN|                                          NaN|                            NaN|                                        NaN|                                                    NaN|                                                 NaN|                                                 NaN|                                 NaN|                                     NaN|             NaN|                         NaN|                                     NaN|                                  NaN|                                  NaN|                  NaN|                      NaN|                                  NaN|                                              NaN|                                                          NaN|                                                       NaN|                                                       NaN|                                       NaN|                                           NaN|                                        NaN|                                                    NaN|                                                                NaN|                                                             NaN|                                                             NaN|                                             NaN|                                                 NaN|                        NaN|                                    NaN|                                                NaN|                                             NaN|                                             NaN|                             NaN|                                 NaN|                                              NaN|                                                          NaN|                                                                      NaN|                                                                   NaN|                                                                   NaN|                                                   NaN|                                                       NaN|                 52008|                          580650.0|                                           NaN|                                      10.11|                                        NaN|                   47079.85|                           0.76|          16931|                   212686.0|                                    NaN|                               21.82|                                 NaN|            15095.01|                   -3.93|                68939|                         793336.0|                                          NaN|                                     12.78|                                       NaN|                   59123.9|                         -6.82|\n",
            "|1982-01-01 00:00:00|Brazil|           NaN|                       NaN|                                   NaN|                                NaN|                                NaN|                NaN|                    NaN|                                         NaN|                                                     NaN|                                                                 NaN|                                                              NaN|                                                              NaN|                                              NaN|                                                  NaN|                          NaN|                                      NaN|                                                  NaN|                                               NaN|                                               NaN|                               NaN|                                   NaN|                         NaN|                                     NaN|                                                 NaN|                                              NaN|                                              NaN|                              NaN|                                  NaN|                                                    NaN|                                                                NaN|                                                                            NaN|                                                                         NaN|                                                                         NaN|                                                         NaN|                                                             NaN|                                         NaN|                                                     NaN|                                                                 NaN|                                                              NaN|                                                              NaN|                                              NaN|                                                  NaN|                              NaN|                                          NaN|                                                      NaN|                                                   NaN|                                                   NaN|                                   NaN|                                       NaN|                             NaN|                                         NaN|                                                     NaN|                                                  NaN|                                                  NaN|                                  NaN|                                      NaN|                                 NaN|                                             NaN|                                                         NaN|                                                      NaN|                                                      NaN|                                      NaN|                                          NaN|                            NaN|                                        NaN|                                                    NaN|                                                 NaN|                                                 NaN|                                 NaN|                                     NaN|             NaN|                         NaN|                                     NaN|                                  NaN|                                  NaN|                  NaN|                      NaN|                                  NaN|                                              NaN|                                                          NaN|                                                       NaN|                                                       NaN|                                       NaN|                                           NaN|                                        NaN|                                                    NaN|                                                                NaN|                                                             NaN|                                                             NaN|                                             NaN|                                                 NaN|                        NaN|                                    NaN|                                                NaN|                                             NaN|                                             NaN|                             NaN|                                 NaN|                                              NaN|                                                          NaN|                                                                      NaN|                                                                   NaN|                                                                   NaN|                                                   NaN|                                                       NaN|                 48208|                          555495.0|                                           NaN|                                      -7.31|                                     -34.29|                   51228.43|                           8.81|          14205|                   212315.0|                                    NaN|                               -16.1|                               -2.55|            16787.12|                   11.21|                62413|                         767810.0|                                          NaN|                                     -9.47|                                    -29.03|                  67946.86|                         14.92|\n",
            "|1982-02-01 00:00:00|Brazil|           NaN|                       NaN|                                   NaN|                                NaN|                                NaN|                NaN|                    NaN|                                         NaN|                                                     NaN|                                                                 NaN|                                                              NaN|                                                              NaN|                                              NaN|                                                  NaN|                          NaN|                                      NaN|                                                  NaN|                                               NaN|                                               NaN|                               NaN|                                   NaN|                         NaN|                                     NaN|                                                 NaN|                                              NaN|                                              NaN|                              NaN|                                  NaN|                                                    NaN|                                                                NaN|                                                                            NaN|                                                                         NaN|                                                                         NaN|                                                         NaN|                                                             NaN|                                         NaN|                                                     NaN|                                                                 NaN|                                                              NaN|                                                              NaN|                                              NaN|                                                  NaN|                              NaN|                                          NaN|                                                      NaN|                                                   NaN|                                                   NaN|                                   NaN|                                       NaN|                             NaN|                                         NaN|                                                     NaN|                                                  NaN|                                                  NaN|                                  NaN|                                      NaN|                                 NaN|                                             NaN|                                                         NaN|                                                      NaN|                                                      NaN|                                      NaN|                                          NaN|                            NaN|                                        NaN|                                                    NaN|                                                 NaN|                                                 NaN|                                 NaN|                                     NaN|             NaN|                         NaN|                                     NaN|                                  NaN|                                  NaN|                  NaN|                      NaN|                                  NaN|                                              NaN|                                                          NaN|                                                       NaN|                                                       NaN|                                       NaN|                                           NaN|                                        NaN|                                                    NaN|                                                                NaN|                                                             NaN|                                                             NaN|                                             NaN|                                                 NaN|                        NaN|                                    NaN|                                                NaN|                                             NaN|                                             NaN|                             NaN|                                 NaN|                                              NaN|                                                          NaN|                                                                      NaN|                                                                   NaN|                                                                   NaN|                                                   NaN|                                                       NaN|                 48093|                          554615.0|                                           NaN|                                      -0.24|                                       -1.8|                   49678.71|                          -3.03|          17692|                   213729.0|                                    NaN|                               24.55|                                8.69|            22584.68|                   34.54|                65785|                         768344.0|                                          NaN|                                       5.4|                                      0.82|                  71241.21|                          4.85|\n",
            "|1982-03-01 00:00:00|Brazil|           NaN|                       NaN|                                   NaN|                                NaN|                                NaN|                NaN|                    NaN|                                         NaN|                                                     NaN|                                                                 NaN|                                                              NaN|                                                              NaN|                                              NaN|                                                  NaN|                          NaN|                                      NaN|                                                  NaN|                                               NaN|                                               NaN|                               NaN|                                   NaN|                         NaN|                                     NaN|                                                 NaN|                                              NaN|                                              NaN|                              NaN|                                  NaN|                                                    NaN|                                                                NaN|                                                                            NaN|                                                                         NaN|                                                                         NaN|                                                         NaN|                                                             NaN|                                         NaN|                                                     NaN|                                                                 NaN|                                                              NaN|                                                              NaN|                                              NaN|                                                  NaN|                              NaN|                                          NaN|                                                      NaN|                                                   NaN|                                                   NaN|                                   NaN|                                       NaN|                             NaN|                                         NaN|                                                     NaN|                                                  NaN|                                                  NaN|                                  NaN|                                      NaN|                                 NaN|                                             NaN|                                                         NaN|                                                      NaN|                                                      NaN|                                      NaN|                                          NaN|                            NaN|                                        NaN|                                                    NaN|                                                 NaN|                                                 NaN|                                 NaN|                                     NaN|             NaN|                         NaN|                                     NaN|                                  NaN|                                  NaN|                  NaN|                      NaN|                                  NaN|                                              NaN|                                                          NaN|                                                       NaN|                                                       NaN|                                       NaN|                                           NaN|                                        NaN|                                                    NaN|                                                                NaN|                                                             NaN|                                                             NaN|                                             NaN|                                                 NaN|                        NaN|                                    NaN|                                                NaN|                                             NaN|                                             NaN|                             NaN|                                 NaN|                                              NaN|                                                          NaN|                                                                      NaN|                                                                   NaN|                                                                   NaN|                                                   NaN|                                                       NaN|                 57707|                          571799.0|                                         -5.43|                                      19.99|                                      42.41|                    57651.3|                          16.05|          16726|                   206913.0|                                 -10.61|                               -5.46|                              -28.95|            15153.74|                   -32.9|                74433|                         778712.0|                                        -6.73|                                     13.15|                                     16.18|                  72667.32|                           2.0|\n",
            "|1982-04-01 00:00:00|Brazil|           NaN|                       NaN|                                   NaN|                                NaN|                                NaN|                NaN|                    NaN|                                         NaN|                                                     NaN|                                                                 NaN|                                                              NaN|                                                              NaN|                                              NaN|                                                  NaN|                          NaN|                                      NaN|                                                  NaN|                                               NaN|                                               NaN|                               NaN|                                   NaN|                         NaN|                                     NaN|                                                 NaN|                                              NaN|                                              NaN|                              NaN|                                  NaN|                                                    NaN|                                                                NaN|                                                                            NaN|                                                                         NaN|                                                                         NaN|                                                         NaN|                                                             NaN|                                         NaN|                                                     NaN|                                                                 NaN|                                                              NaN|                                                              NaN|                                              NaN|                                                  NaN|                              NaN|                                          NaN|                                                      NaN|                                                   NaN|                                                   NaN|                                   NaN|                                       NaN|                             NaN|                                         NaN|                                                     NaN|                                                  NaN|                                                  NaN|                                  NaN|                                      NaN|                                 NaN|                                             NaN|                                                         NaN|                                                      NaN|                                                      NaN|                                      NaN|                                          NaN|                            NaN|                                        NaN|                                                    NaN|                                                 NaN|                                                 NaN|                                 NaN|                                     NaN|             NaN|                         NaN|                                     NaN|                                  NaN|                                  NaN|                  NaN|                      NaN|                                  NaN|                                              NaN|                                                          NaN|                                                       NaN|                                                       NaN|                                       NaN|                                           NaN|                                        NaN|                                                    NaN|                                                                NaN|                                                             NaN|                                                             NaN|                                             NaN|                                                 NaN|                        NaN|                                    NaN|                                                NaN|                                             NaN|                                             NaN|                             NaN|                                 NaN|                                              NaN|                                                          NaN|                                                                      NaN|                                                                   NaN|                                                                   NaN|                                                   NaN|                                                       NaN|                 52270|                          575489.0|                                         14.48|                                      -9.42|                                        7.6|                   51957.43|                          -9.88|          15341|                   201792.0|                                 -17.46|                               -8.28|                              -25.03|            15620.19|                    3.08|                67611|                         777281.0|                                         4.77|                                     -9.17|                                     -2.07|                  66970.38|                         -7.84|\n",
            "|1982-05-01 00:00:00|Brazil|           NaN|                       NaN|                                   NaN|                                NaN|                                NaN|                NaN|                    NaN|                                         NaN|                                                     NaN|                                                                 NaN|                                                              NaN|                                                              NaN|                                              NaN|                                                  NaN|                          NaN|                                      NaN|                                                  NaN|                                               NaN|                                               NaN|                               NaN|                                   NaN|                         NaN|                                     NaN|                                                 NaN|                                              NaN|                                              NaN|                              NaN|                                  NaN|                                                    NaN|                                                                NaN|                                                                            NaN|                                                                         NaN|                                                                         NaN|                                                         NaN|                                                             NaN|                                         NaN|                                                     NaN|                                                                 NaN|                                                              NaN|                                                              NaN|                                              NaN|                                                  NaN|                              NaN|                                          NaN|                                                      NaN|                                                   NaN|                                                   NaN|                                   NaN|                                       NaN|                             NaN|                                         NaN|                                                     NaN|                                                  NaN|                                                  NaN|                                  NaN|                                      NaN|                                 NaN|                                             NaN|                                                         NaN|                                                      NaN|                                                      NaN|                                      NaN|                                          NaN|                            NaN|                                        NaN|                                                    NaN|                                                 NaN|                                                 NaN|                                 NaN|                                     NaN|             NaN|                         NaN|                                     NaN|                                  NaN|                                  NaN|                  NaN|                      NaN|                                  NaN|                                              NaN|                                                          NaN|                                                       NaN|                                                       NaN|                                       NaN|                                           NaN|                                        NaN|                                                    NaN|                                                                NaN|                                                             NaN|                                                             NaN|                                             NaN|                                                 NaN|                        NaN|                                    NaN|                                                NaN|                                             NaN|                                             NaN|                             NaN|                                 NaN|                                              NaN|                                                          NaN|                                                                      NaN|                                                                   NaN|                                                                   NaN|                                                   NaN|                                                       NaN|                 50905|                          584644.0|                                         22.95|                                      -2.61|                                      21.93|                   51421.52|                          -1.03|          13153|                   193729.0|                                 -30.67|                              -14.26|                               -38.0|            11754.68|                  -24.75|                64058|                         778373.0|                                         5.11|                                     -5.26|                                      1.73|                  62994.45|                         -5.94|\n",
            "|1982-06-01 00:00:00|Brazil|           NaN|                       NaN|                                   NaN|                                NaN|                                NaN|                NaN|                    NaN|                                         NaN|                                                     NaN|                                                                 NaN|                                                              NaN|                                                              NaN|                                              NaN|                                                  NaN|                          NaN|                                      NaN|                                                  NaN|                                               NaN|                                               NaN|                               NaN|                                   NaN|                         NaN|                                     NaN|                                                 NaN|                                              NaN|                                              NaN|                              NaN|                                  NaN|                                                    NaN|                                                                NaN|                                                                            NaN|                                                                         NaN|                                                                         NaN|                                                         NaN|                                                             NaN|                                         NaN|                                                     NaN|                                                                 NaN|                                                              NaN|                                                              NaN|                                              NaN|                                                  NaN|                              NaN|                                          NaN|                                                      NaN|                                                   NaN|                                                   NaN|                                   NaN|                                       NaN|                             NaN|                                         NaN|                                                     NaN|                                                  NaN|                                                  NaN|                                  NaN|                                      NaN|                                 NaN|                                             NaN|                                                         NaN|                                                      NaN|                                                      NaN|                                      NaN|                                          NaN|                            NaN|                                        NaN|                                                    NaN|                                                 NaN|                                                 NaN|                                 NaN|                                     NaN|             NaN|                         NaN|                                     NaN|                                  NaN|                                  NaN|                  NaN|                      NaN|                                  NaN|                                              NaN|                                                          NaN|                                                       NaN|                                                       NaN|                                       NaN|                                           NaN|                                        NaN|                                                    NaN|                                                                NaN|                                                             NaN|                                                             NaN|                                             NaN|                                                 NaN|                        NaN|                                    NaN|                                                NaN|                                             NaN|                                             NaN|                             NaN|                                 NaN|                                              NaN|                                                          NaN|                                                                      NaN|                                                                   NaN|                                                                   NaN|                                                   NaN|                                                       NaN|                 56510|                          595280.0|                                         17.24|                                      11.01|                                      23.19|                   59151.49|                          15.03|          13309|                   191641.0|                                 -26.76|                                1.19|                              -13.56|            13624.11|                    15.9|                69819|                         786921.0|                                         4.25|                                      8.99|                                     13.95|                   73008.4|                          15.9|\n",
            "|1982-07-01 00:00:00|Brazil|           NaN|                       NaN|                                   NaN|                                NaN|                                NaN|                NaN|                    NaN|                                         NaN|                                                     NaN|                                                                 NaN|                                                              NaN|                                                              NaN|                                              NaN|                                                  NaN|                          NaN|                                      NaN|                                                  NaN|                                               NaN|                                               NaN|                               NaN|                                   NaN|                         NaN|                                     NaN|                                                 NaN|                                              NaN|                                              NaN|                              NaN|                                  NaN|                                                    NaN|                                                                NaN|                                                                            NaN|                                                                         NaN|                                                                         NaN|                                                         NaN|                                                             NaN|                                         NaN|                                                     NaN|                                                                 NaN|                                                              NaN|                                                              NaN|                                              NaN|                                                  NaN|                              NaN|                                          NaN|                                                      NaN|                                                   NaN|                                                   NaN|                                   NaN|                                       NaN|                             NaN|                                         NaN|                                                     NaN|                                                  NaN|                                                  NaN|                                  NaN|                                      NaN|                                 NaN|                                             NaN|                                                         NaN|                                                      NaN|                                                      NaN|                                      NaN|                                          NaN|                            NaN|                                        NaN|                                                    NaN|                                                 NaN|                                                 NaN|                                 NaN|                                     NaN|             NaN|                         NaN|                                     NaN|                                  NaN|                                  NaN|                  NaN|                      NaN|                                  NaN|                                              NaN|                                                          NaN|                                                       NaN|                                                       NaN|                                       NaN|                                           NaN|                                        NaN|                                                    NaN|                                                                NaN|                                                             NaN|                                                             NaN|                                             NaN|                                                 NaN|                        NaN|                                    NaN|                                                NaN|                                             NaN|                                             NaN|                             NaN|                                 NaN|                                              NaN|                                                          NaN|                                                                      NaN|                                                                   NaN|                                                                   NaN|                                                   NaN|                                                       NaN|                 56526|                          609789.0|                                         26.46|                                       0.03|                                      34.53|                   61704.23|                           4.32|          16237|                   189071.0|                                 -22.95|                                22.0|                              -13.67|             13474.2|                    -1.1|                72763|                         798860.0|                                        11.66|                                      4.22|                                     19.63|                   76676.2|                          5.02|\n",
            "|1982-08-01 00:00:00|Brazil|           NaN|                       NaN|                                   NaN|                                NaN|                                NaN|                NaN|                    NaN|                                         NaN|                                                     NaN|                                                                 NaN|                                                              NaN|                                                              NaN|                                              NaN|                                                  NaN|                          NaN|                                      NaN|                                                  NaN|                                               NaN|                                               NaN|                               NaN|                                   NaN|                         NaN|                                     NaN|                                                 NaN|                                              NaN|                                              NaN|                              NaN|                                  NaN|                                                    NaN|                                                                NaN|                                                                            NaN|                                                                         NaN|                                                                         NaN|                                                         NaN|                                                             NaN|                                         NaN|                                                     NaN|                                                                 NaN|                                                              NaN|                                                              NaN|                                              NaN|                                                  NaN|                              NaN|                                          NaN|                                                      NaN|                                                   NaN|                                                   NaN|                                   NaN|                                       NaN|                             NaN|                                         NaN|                                                     NaN|                                                  NaN|                                                  NaN|                                  NaN|                                      NaN|                                 NaN|                                             NaN|                                                         NaN|                                                      NaN|                                                      NaN|                                      NaN|                                          NaN|                            NaN|                                        NaN|                                                    NaN|                                                 NaN|                                                 NaN|                                 NaN|                                     NaN|             NaN|                         NaN|                                     NaN|                                  NaN|                                  NaN|                  NaN|                      NaN|                                  NaN|                                              NaN|                                                          NaN|                                                       NaN|                                                       NaN|                                       NaN|                                           NaN|                                        NaN|                                                    NaN|                                                                NaN|                                                             NaN|                                                             NaN|                                             NaN|                                                 NaN|                        NaN|                                    NaN|                                                NaN|                                             NaN|                                             NaN|                             NaN|                                 NaN|                                              NaN|                                                          NaN|                                                                      NaN|                                                                   NaN|                                                                   NaN|                                                   NaN|                                                       NaN|                 60109|                          625452.0|                                         30.84|                                       6.34|                                      35.24|                   57674.96|                          -6.53|          15512|                   185158.0|                                 -15.98|                               -4.47|                              -20.14|             12077.4|                  -10.37|                75621|                         810610.0|                                        17.33|                                      3.93|                                      18.4|                  70410.73|                         -8.17|\n",
            "+-------------------+------+--------------+--------------------------+--------------------------------------+-----------------------------------+-----------------------------------+-------------------+-----------------------+--------------------------------------------+--------------------------------------------------------+--------------------------------------------------------------------+-----------------------------------------------------------------+-----------------------------------------------------------------+-------------------------------------------------+-----------------------------------------------------+-----------------------------+-----------------------------------------+-----------------------------------------------------+--------------------------------------------------+--------------------------------------------------+----------------------------------+--------------------------------------+----------------------------+----------------------------------------+----------------------------------------------------+-------------------------------------------------+-------------------------------------------------+---------------------------------+-------------------------------------+-------------------------------------------------------+-------------------------------------------------------------------+-------------------------------------------------------------------------------+----------------------------------------------------------------------------+----------------------------------------------------------------------------+------------------------------------------------------------+----------------------------------------------------------------+--------------------------------------------+--------------------------------------------------------+--------------------------------------------------------------------+-----------------------------------------------------------------+-----------------------------------------------------------------+-------------------------------------------------+-----------------------------------------------------+---------------------------------+---------------------------------------------+---------------------------------------------------------+------------------------------------------------------+------------------------------------------------------+--------------------------------------+------------------------------------------+--------------------------------+--------------------------------------------+--------------------------------------------------------+-----------------------------------------------------+-----------------------------------------------------+-------------------------------------+-----------------------------------------+------------------------------------+------------------------------------------------+------------------------------------------------------------+---------------------------------------------------------+---------------------------------------------------------+-----------------------------------------+---------------------------------------------+-------------------------------+-------------------------------------------+-------------------------------------------------------+----------------------------------------------------+----------------------------------------------------+------------------------------------+----------------------------------------+----------------+----------------------------+----------------------------------------+-------------------------------------+-------------------------------------+---------------------+-------------------------+-------------------------------------+-------------------------------------------------+-------------------------------------------------------------+----------------------------------------------------------+----------------------------------------------------------+------------------------------------------+----------------------------------------------+-------------------------------------------+-------------------------------------------------------+-------------------------------------------------------------------+----------------------------------------------------------------+----------------------------------------------------------------+------------------------------------------------+----------------------------------------------------+---------------------------+---------------------------------------+---------------------------------------------------+------------------------------------------------+------------------------------------------------+--------------------------------+------------------------------------+-------------------------------------------------+-------------------------------------------------------------+-------------------------------------------------------------------------+----------------------------------------------------------------------+----------------------------------------------------------------------+------------------------------------------------------+----------------------------------------------------------+----------------------+----------------------------------+----------------------------------------------+-------------------------------------------+-------------------------------------------+---------------------------+-------------------------------+---------------+---------------------------+---------------------------------------+------------------------------------+------------------------------------+--------------------+------------------------+---------------------+---------------------------------+---------------------------------------------+------------------------------------------+------------------------------------------+--------------------------+------------------------------+\n",
            "only showing top 20 rows\n",
            "\n"
          ]
        }
      ]
    },
    {
      "cell_type": "markdown",
      "source": [
        "## Drop das colunas"
      ],
      "metadata": {
        "id": "vDmAVc0cxSSa"
      }
    },
    {
      "cell_type": "code",
      "source": [
        "#Drop de colunas que não serão utilizadas\n",
        "df1 = df1.drop('Bus production',\n",
        "          'Bus production - cumsum_12',\n",
        "          'Bus production - current_prices_3m_yoy',\n",
        "          'Bus production - current_prices_mom',\n",
        "          'Bus production - current_prices_yoy',\n",
        "          'Bus production - sa',\n",
        "          'Bus production - sa_MoM',\n",
        "          'Four wheel tractor production',\n",
        "          'Four wheel tractor production - cumsum_12',\n",
        "          'Four wheel tractor production - current_prices_3m_yoy',\n",
        "          'Four wheel tractor production - current_prices_mom',\n",
        "          'Four wheel tractor production - current_prices_yoy',\n",
        "          'Four wheel tractor production - sa',\n",
        "          'Four wheel tractor production - sa_MoM',\n",
        "          'Other agricultural machinery',\n",
        "          'Other agricultural machinery - cumsum_12',\n",
        "          'Other agricultural machinery - current_prices_3m_yoy',\n",
        "          'Other agricultural machinery - current_prices_mom',\n",
        "          'Other agricultural machinery - current_prices_mom',\n",
        "          'Other agricultural machinery - current_prices_yoy',\n",
        "          'Other agricultural machinery - sa',\n",
        "          'Other agricultural machinery - sa_MoM',\n",
        "          'Production of agricultural machinery (total)',\n",
        "          'Production of agricultural machinery (total) - cumsum_12',\n",
        "          'Production of agricultural machinery (total) - current_prices_3m_yoy',\n",
        "          'Production of agricultural machinery (total) - current_prices_mom',\n",
        "          'Production of agricultural machinery (total) - current_prices_yoy',\n",
        "          'Production of agricultural machinery (total) - sa',\n",
        "          'Production of agricultural machinery (total) - sa_MoM',\n",
        "          'Production of combined harvesters',\n",
        "          'Production of combined harvesters - cumsum_12',\n",
        "          'Production of combined harvesters - current_prices_3m_yoy',\n",
        "          'Production of combined harvesters - current_prices_mom',\n",
        "          'Production of combined harvesters - current_prices_yoy',\n",
        "          'Production of combined harvesters - sa',\n",
        "          'Production of combined harvesters - sa_MoM',\n",
        "          'Production of mechanical diggers',\n",
        "          'Production of mechanical diggers - cumsum_12',\n",
        "          'Production of mechanical diggers - current_prices_3m_yoy',\n",
        "          'Production of mechanical diggers - current_prices_mom',\n",
        "          'Production of mechanical diggers - current_prices_yoy',\n",
        "          'Production of mechanical diggers - sa',\n",
        "          'Production of mechanical diggers - sa_MoM',\n",
        "          'Production of mechanised cultivators',\n",
        "          'Production of mechanised cultivators - cumsum_12',\n",
        "          'Production of mechanised cultivators - current_prices_3m_yoy',\n",
        "          'Production of mechanised cultivators - current_prices_mom',\n",
        "          'Production of mechanised cultivators - current_prices_yoy',\n",
        "          'Production of mechanised cultivators - sa',\n",
        "          'Production of mechanised cultivators - sa_MoM',\n",
        "          'Track driven tractor production',\n",
        "          'Track driven tractor production - cumsum_12',\n",
        "          'Track driven tractor production - current_prices_3m_yoy',\n",
        "          'Track driven tractor production - current_prices_mom',\n",
        "          'Track driven tractor production - current_prices_yoy',\n",
        "          'Track driven tractor production - sa',\n",
        "          'Track driven tractor production - sa_MoM',\n",
        "          'Truck production',\n",
        "          'Truck production - cumsum_12',\n",
        "          'Truck production - current_prices_3m_yoy',\n",
        "          'Truck production - current_prices_mom',\n",
        "          'Truck production - current_prices_yoy',\n",
        "          'Truck production - sa',\n",
        "          'Truck production - sa_MoM',\n",
        "          'Domestic vehicle sales - Seasonally Adjusted - cumsum_12',\n",
        "          'Domestic vehicle sales - Seasonally Adjusted - current_prices_3m_yoy',\n",
        "          'Domestic vehicle sales - Seasonally Adjusted - sa',\n",
        "          'Domestic vehicle sales - Seasonally Adjusted - sa_MoM',\n",
        "          'Passenger cars and light commercial vehicles production - cumsum_12',\n",
        "          'Passenger cars and light commercial vehicles production - current_prices_3m_yoy',\n",
        "          'Passenger cars and light commercial vehicles production - sa',\n",
        "          'Passenger cars and light commercial vehicles production - sa_MoM',\n",
        "          'Vehicle exports - Seasonally Adjusted - cumsum_12',\n",
        "          'Vehicle sales (total) - Seasonally Adjusted - current_prices_3m_yoy',\n",
        "          'Vehicle sales (total) - Seasonally Adjusted - sa',\n",
        "          'Vehicle sales (total) - Seasonally Adjusted - sa_MoM',\n",
        "          'Vehicles production (total) - cumsum_12',\n",
        "          'Vehicles production (total) - current_prices_3m_yoy',\n",
        "          'Vehicles production (total) - Seasonally Adjusted - sa',\n",
        "          'Vehicles production (total) - Seasonally Adjusted - sa_MoM',\n",
        "          'Domestic vehicle sales - cumsum_12',\n",
        "          'Vehicle exports - cumsum_12',\n",
        "          'Vehicle exports - current_prices_3m_yoy',\n",
        "          'Vehicle exports - sa',\n",
        "          'Vehicle exports - sa_MoM',\n",
        "          'Vehicle sales (total) - cumsum_12',\n",
        "          'Vehicle sales (total) - current_prices_yoy',\n",
        "          'Vehicle sales (total) - sa',\n",
        "          'Vehicle sales (total) - current_prices_3m_yoy',\n",
        "          'Vehicle sales (total) - sa',\n",
        "          'Vehicle sales (total) - Seasonally Adjusted - cumsum_12',\n",
        "          'Vehicle exports - Seasonally Adjusted - current_prices_3m_yoy',\n",
        "          'Vehicles production (total) - Seasonally Adjusted - cumsum_12',\n",
        "          'Vehicles production (total) - Seasonally Adjusted - current_prices_3m_yoy',\n",
        "          'Domestic vehicle sales - current_prices_3m_yoy',\n",
        "          'Entity')"
      ],
      "metadata": {
        "id": "3tKiH-QOFk4N"
      },
      "execution_count": null,
      "outputs": []
    },
    {
      "cell_type": "code",
      "source": [
        "df1.show()"
      ],
      "metadata": {
        "id": "Kxn99rCoFUMV",
        "colab": {
          "base_uri": "https://localhost:8080/"
        },
        "outputId": "2d3f50a3-69df-4426-c577-3c76eb14609b"
      },
      "execution_count": null,
      "outputs": [
        {
          "output_type": "stream",
          "name": "stdout",
          "text": [
            "+-------------------+--------------------------------------------+-----------------------------------------------------------------+-----------------------------------------------------------------+-------------------------------------------------------+----------------------------------------------------------------------------+----------------------------------------------------------------------------+-------------------------------------+----------------------------------------------------------+----------------------------------------------------------+------------------------------------------+----------------------------------------------+-------------------------------------------+----------------------------------------------------------------+----------------------------------------------------------------+---------------------------+------------------------------------------------+------------------------------------------------+--------------------------------+------------------------------------+-------------------------------------------------+----------------------------------------------------------------------+----------------------------------------------------------------------+----------------------+-------------------------------------------+-------------------------------------------+---------------------------+-------------------------------+---------------+------------------------------------+------------------------------------+---------------------+------------------------------------------+------------------------------+\n",
            "|               Date|Domestic vehicle sales - Seasonally Adjusted|Domestic vehicle sales - Seasonally Adjusted - current_prices_mom|Domestic vehicle sales - Seasonally Adjusted - current_prices_yoy|Passenger cars and light commercial vehicles production|Passenger cars and light commercial vehicles production - current_prices_mom|Passenger cars and light commercial vehicles production - current_prices_yoy|Vehicle exports - Seasonally Adjusted|Vehicle exports - Seasonally Adjusted - current_prices_mom|Vehicle exports - Seasonally Adjusted - current_prices_yoy|Vehicle exports - Seasonally Adjusted - sa|Vehicle exports - Seasonally Adjusted - sa_MoM|Vehicle sales (total) - Seasonally Adjusted|Vehicle sales (total) - Seasonally Adjusted - current_prices_mom|Vehicle sales (total) - Seasonally Adjusted - current_prices_yoy|Vehicles production (total)|Vehicles production (total) - current_prices_mom|Vehicles production (total) - current_prices_yoy|Vehicles production (total) - sa|Vehicles production (total) - sa_MoM|Vehicles production (total) - Seasonally Adjusted|Vehicles production (total) - Seasonally Adjusted - current_prices_mom|Vehicles production (total) - Seasonally Adjusted - current_prices_yoy|Domestic vehicle sales|Domestic vehicle sales - current_prices_mom|Domestic vehicle sales - current_prices_yoy|Domestic vehicle sales - sa|Domestic vehicle sales - sa_MoM|Vehicle exports|Vehicle exports - current_prices_mom|Vehicle exports - current_prices_yoy|Vehicle sales (total)|Vehicle sales (total) - current_prices_mom|Vehicle sales (total) - sa_MoM|\n",
            "+-------------------+--------------------------------------------+-----------------------------------------------------------------+-----------------------------------------------------------------+-------------------------------------------------------+----------------------------------------------------------------------------+----------------------------------------------------------------------------+-------------------------------------+----------------------------------------------------------+----------------------------------------------------------+------------------------------------------+----------------------------------------------+-------------------------------------------+----------------------------------------------------------------+----------------------------------------------------------------+---------------------------+------------------------------------------------+------------------------------------------------+--------------------------------+------------------------------------+-------------------------------------------------+----------------------------------------------------------------------+----------------------------------------------------------------------+----------------------+-------------------------------------------+-------------------------------------------+---------------------------+-------------------------------+---------------+------------------------------------+------------------------------------+---------------------+------------------------------------------+------------------------------+\n",
            "|1981-01-01 00:00:00|                                         NaN|                                                              NaN|                                                              NaN|                                                    NaN|                                                                         NaN|                                                                         NaN|                                  NaN|                                                       NaN|                                                       NaN|                                       NaN|                                           NaN|                                        NaN|                                                             NaN|                                                             NaN|                        NaN|                                             NaN|                                             NaN|                             NaN|                                 NaN|                                              NaN|                                                                   NaN|                                                                   NaN|                 73363|                                        NaN|                                        NaN|                   76430.95|                            NaN|          14576|                                 NaN|                                 NaN|                87939|                                       NaN|                           NaN|\n",
            "|1981-02-01 00:00:00|                                         NaN|                                                              NaN|                                                              NaN|                                                    NaN|                                                                         NaN|                                                                         NaN|                                  NaN|                                                       NaN|                                                       NaN|                                       NaN|                                           NaN|                                        NaN|                                                             NaN|                                                             NaN|                        NaN|                                             NaN|                                             NaN|                             NaN|                                 NaN|                                              NaN|                                                                   NaN|                                                                   NaN|                 48973|                                     -33.25|                                        NaN|                   50966.25|                         -33.32|          16278|                               11.68|                                 NaN|                65251|                                     -25.8|                        -23.99|\n",
            "|1981-03-01 00:00:00|                                         NaN|                                                              NaN|                                                              NaN|                                                    NaN|                                                                         NaN|                                                                         NaN|                                  NaN|                                                       NaN|                                                       NaN|                                       NaN|                                           NaN|                                        NaN|                                                             NaN|                                                             NaN|                        NaN|                                             NaN|                                             NaN|                             NaN|                                 NaN|                                              NaN|                                                                   NaN|                                                                   NaN|                 40523|                                     -17.25|                                        NaN|                   40321.42|                         -20.89|          23542|                               44.62|                                 NaN|                64065|                                     -1.82|                        -11.63|\n",
            "|1981-04-01 00:00:00|                                         NaN|                                                              NaN|                                                              NaN|                                                    NaN|                                                                         NaN|                                                                         NaN|                                  NaN|                                                       NaN|                                                       NaN|                                       NaN|                                           NaN|                                        NaN|                                                             NaN|                                                             NaN|                        NaN|                                             NaN|                                             NaN|                             NaN|                                 NaN|                                              NaN|                                                                   NaN|                                                                   NaN|                 48580|                                      19.88|                                        NaN|                   47585.11|                          18.01|          20462|                              -13.08|                                 NaN|                69042|                                      7.77|                          9.42|\n",
            "|1981-05-01 00:00:00|                                         NaN|                                                              NaN|                                                              NaN|                                                    NaN|                                                                         NaN|                                                                         NaN|                                  NaN|                                                       NaN|                                                       NaN|                                       NaN|                                           NaN|                                        NaN|                                                             NaN|                                                             NaN|                        NaN|                                             NaN|                                             NaN|                             NaN|                                 NaN|                                              NaN|                                                                   NaN|                                                                   NaN|                 41750|                                     -14.06|                                        NaN|                   42031.11|                         -11.67|          21216|                                3.68|                                 NaN|                62966|                                      -8.8|                         -9.35|\n",
            "|1981-06-01 00:00:00|                                         NaN|                                                              NaN|                                                              NaN|                                                    NaN|                                                                         NaN|                                                                         NaN|                                  NaN|                                                       NaN|                                                       NaN|                                       NaN|                                           NaN|                                        NaN|                                                             NaN|                                                             NaN|                        NaN|                                             NaN|                                             NaN|                             NaN|                                 NaN|                                              NaN|                                                                   NaN|                                                                   NaN|                 45874|                                       9.88|                                        NaN|                   48041.94|                           14.3|          15397|                              -27.43|                                 NaN|                61271|                                     -2.69|                          3.24|\n",
            "|1981-07-01 00:00:00|                                         NaN|                                                              NaN|                                                              NaN|                                                    NaN|                                                                         NaN|                                                                         NaN|                                  NaN|                                                       NaN|                                                       NaN|                                       NaN|                                           NaN|                                        NaN|                                                             NaN|                                                             NaN|                        NaN|                                             NaN|                                             NaN|                             NaN|                                 NaN|                                              NaN|                                                                   NaN|                                                                   NaN|                 42017|                                      -8.41|                                        NaN|                   47617.92|                          -0.88|          18807|                               22.15|                                 NaN|                60824|                                     -0.73|                          1.87|\n",
            "|1981-08-01 00:00:00|                                         NaN|                                                              NaN|                                                              NaN|                                                    NaN|                                                                         NaN|                                                                         NaN|                                  NaN|                                                       NaN|                                                       NaN|                                       NaN|                                           NaN|                                        NaN|                                                             NaN|                                                             NaN|                        NaN|                                             NaN|                                             NaN|                             NaN|                                 NaN|                                              NaN|                                                                   NaN|                                                                   NaN|                 44446|                                       5.78|                                        NaN|                    42362.8|                         -11.04|          19425|                                3.29|                                 NaN|                63871|                                      5.01|                         -9.72|\n",
            "|1981-09-01 00:00:00|                                         NaN|                                                              NaN|                                                              NaN|                                                    NaN|                                                                         NaN|                                                                         NaN|                                  NaN|                                                       NaN|                                                       NaN|                                       NaN|                                           NaN|                                        NaN|                                                             NaN|                                                             NaN|                        NaN|                                             NaN|                                             NaN|                             NaN|                                 NaN|                                              NaN|                                                                   NaN|                                                                   NaN|                 47095|                                       5.96|                                        NaN|                   46360.89|                           9.44|          17733|                               -8.71|                                 NaN|                64828|                                       1.5|                          11.7|\n",
            "|1981-10-01 00:00:00|                                         NaN|                                                              NaN|                                                              NaN|                                                    NaN|                                                                         NaN|                                                                         NaN|                                  NaN|                                                       NaN|                                                       NaN|                                       NaN|                                           NaN|                                        NaN|                                                             NaN|                                                             NaN|                        NaN|                                             NaN|                                             NaN|                             NaN|                                 NaN|                                              NaN|                                                                   NaN|                                                                   NaN|                 48790|                                        3.6|                                        NaN|                   45023.67|                          -2.88|          14421|                              -18.68|                                 NaN|                63211|                                     -2.49|                         -7.41|\n",
            "|1981-11-01 00:00:00|                                         NaN|                                                              NaN|                                                              NaN|                                                    NaN|                                                                         NaN|                                                                         NaN|                                  NaN|                                                       NaN|                                                       NaN|                                       NaN|                                           NaN|                                        NaN|                                                             NaN|                                                             NaN|                        NaN|                                             NaN|                                             NaN|                             NaN|                                 NaN|                                              NaN|                                                                   NaN|                                                                   NaN|                 47231|                                       -3.2|                                        NaN|                   46726.15|                           3.78|          13898|                               -3.63|                                 NaN|                61129|                                     -3.29|                          4.41|\n",
            "|1981-12-01 00:00:00|                                         NaN|                                                              NaN|                                                              NaN|                                                    NaN|                                                                         NaN|                                                                         NaN|                                  NaN|                                                       NaN|                                                       NaN|                                       NaN|                                           NaN|                                        NaN|                                                             NaN|                                                             NaN|                        NaN|                                             NaN|                                             NaN|                             NaN|                                 NaN|                                              NaN|                                                                   NaN|                                                                   NaN|                 52008|                                      10.11|                                        NaN|                   47079.85|                           0.76|          16931|                               21.82|                                 NaN|                68939|                                     12.78|                         -6.82|\n",
            "|1982-01-01 00:00:00|                                         NaN|                                                              NaN|                                                              NaN|                                                    NaN|                                                                         NaN|                                                                         NaN|                                  NaN|                                                       NaN|                                                       NaN|                                       NaN|                                           NaN|                                        NaN|                                                             NaN|                                                             NaN|                        NaN|                                             NaN|                                             NaN|                             NaN|                                 NaN|                                              NaN|                                                                   NaN|                                                                   NaN|                 48208|                                      -7.31|                                     -34.29|                   51228.43|                           8.81|          14205|                               -16.1|                               -2.55|                62413|                                     -9.47|                         14.92|\n",
            "|1982-02-01 00:00:00|                                         NaN|                                                              NaN|                                                              NaN|                                                    NaN|                                                                         NaN|                                                                         NaN|                                  NaN|                                                       NaN|                                                       NaN|                                       NaN|                                           NaN|                                        NaN|                                                             NaN|                                                             NaN|                        NaN|                                             NaN|                                             NaN|                             NaN|                                 NaN|                                              NaN|                                                                   NaN|                                                                   NaN|                 48093|                                      -0.24|                                       -1.8|                   49678.71|                          -3.03|          17692|                               24.55|                                8.69|                65785|                                       5.4|                          4.85|\n",
            "|1982-03-01 00:00:00|                                         NaN|                                                              NaN|                                                              NaN|                                                    NaN|                                                                         NaN|                                                                         NaN|                                  NaN|                                                       NaN|                                                       NaN|                                       NaN|                                           NaN|                                        NaN|                                                             NaN|                                                             NaN|                        NaN|                                             NaN|                                             NaN|                             NaN|                                 NaN|                                              NaN|                                                                   NaN|                                                                   NaN|                 57707|                                      19.99|                                      42.41|                    57651.3|                          16.05|          16726|                               -5.46|                              -28.95|                74433|                                     13.15|                           2.0|\n",
            "|1982-04-01 00:00:00|                                         NaN|                                                              NaN|                                                              NaN|                                                    NaN|                                                                         NaN|                                                                         NaN|                                  NaN|                                                       NaN|                                                       NaN|                                       NaN|                                           NaN|                                        NaN|                                                             NaN|                                                             NaN|                        NaN|                                             NaN|                                             NaN|                             NaN|                                 NaN|                                              NaN|                                                                   NaN|                                                                   NaN|                 52270|                                      -9.42|                                        7.6|                   51957.43|                          -9.88|          15341|                               -8.28|                              -25.03|                67611|                                     -9.17|                         -7.84|\n",
            "|1982-05-01 00:00:00|                                         NaN|                                                              NaN|                                                              NaN|                                                    NaN|                                                                         NaN|                                                                         NaN|                                  NaN|                                                       NaN|                                                       NaN|                                       NaN|                                           NaN|                                        NaN|                                                             NaN|                                                             NaN|                        NaN|                                             NaN|                                             NaN|                             NaN|                                 NaN|                                              NaN|                                                                   NaN|                                                                   NaN|                 50905|                                      -2.61|                                      21.93|                   51421.52|                          -1.03|          13153|                              -14.26|                               -38.0|                64058|                                     -5.26|                         -5.94|\n",
            "|1982-06-01 00:00:00|                                         NaN|                                                              NaN|                                                              NaN|                                                    NaN|                                                                         NaN|                                                                         NaN|                                  NaN|                                                       NaN|                                                       NaN|                                       NaN|                                           NaN|                                        NaN|                                                             NaN|                                                             NaN|                        NaN|                                             NaN|                                             NaN|                             NaN|                                 NaN|                                              NaN|                                                                   NaN|                                                                   NaN|                 56510|                                      11.01|                                      23.19|                   59151.49|                          15.03|          13309|                                1.19|                              -13.56|                69819|                                      8.99|                          15.9|\n",
            "|1982-07-01 00:00:00|                                         NaN|                                                              NaN|                                                              NaN|                                                    NaN|                                                                         NaN|                                                                         NaN|                                  NaN|                                                       NaN|                                                       NaN|                                       NaN|                                           NaN|                                        NaN|                                                             NaN|                                                             NaN|                        NaN|                                             NaN|                                             NaN|                             NaN|                                 NaN|                                              NaN|                                                                   NaN|                                                                   NaN|                 56526|                                       0.03|                                      34.53|                   61704.23|                           4.32|          16237|                                22.0|                              -13.67|                72763|                                      4.22|                          5.02|\n",
            "|1982-08-01 00:00:00|                                         NaN|                                                              NaN|                                                              NaN|                                                    NaN|                                                                         NaN|                                                                         NaN|                                  NaN|                                                       NaN|                                                       NaN|                                       NaN|                                           NaN|                                        NaN|                                                             NaN|                                                             NaN|                        NaN|                                             NaN|                                             NaN|                             NaN|                                 NaN|                                              NaN|                                                                   NaN|                                                                   NaN|                 60109|                                       6.34|                                      35.24|                   57674.96|                          -6.53|          15512|                               -4.47|                              -20.14|                75621|                                      3.93|                         -8.17|\n",
            "+-------------------+--------------------------------------------+-----------------------------------------------------------------+-----------------------------------------------------------------+-------------------------------------------------------+----------------------------------------------------------------------------+----------------------------------------------------------------------------+-------------------------------------+----------------------------------------------------------+----------------------------------------------------------+------------------------------------------+----------------------------------------------+-------------------------------------------+----------------------------------------------------------------+----------------------------------------------------------------+---------------------------+------------------------------------------------+------------------------------------------------+--------------------------------+------------------------------------+-------------------------------------------------+----------------------------------------------------------------------+----------------------------------------------------------------------+----------------------+-------------------------------------------+-------------------------------------------+---------------------------+-------------------------------+---------------+------------------------------------+------------------------------------+---------------------+------------------------------------------+------------------------------+\n",
            "only showing top 20 rows\n",
            "\n"
          ]
        }
      ]
    },
    {
      "cell_type": "markdown",
      "source": [
        "## Criando Schema"
      ],
      "metadata": {
        "id": "eUC7ghq7q9NZ"
      }
    },
    {
      "cell_type": "code",
      "source": [
        "#Esquema\n",
        "esquema = (\n",
        "    StructType([\n",
        "        StructField('Date', DateType()),\n",
        "        StructField('Domestic vehicle sales - Seasonally Adjusted', FloatType()),\n",
        "        StructField('Domestic vehicle sales - Seasonally Adjusted - current_prices_mom', FloatType()),\n",
        "        StructField('Domestic vehicle sales - Seasonally Adjusted - current_prices_yoy', FloatType()),\n",
        "        StructField('Passenger cars and light commercial vehicles production', FloatType()),\n",
        "        StructField('Passenger cars and light commercial vehicles production - current_prices_mom', FloatType()),\n",
        "        StructField('Passenger cars and light commercial vehicles production - current_prices_yoy', FloatType()),\n",
        "        StructField('Vehicle exports - Seasonally Adjusted', FloatType()),\n",
        "        StructField('Vehicle exports - Seasonally Adjusted - current_prices_mom', FloatType()),\n",
        "        StructField('Vehicle exports - Seasonally Adjusted - current_prices_yoy', FloatType()),\n",
        "        StructField('Vehicle exports - Seasonally Adjusted - sa', FloatType()),\n",
        "        StructField('Vehicle exports - Seasonally Adjusted - sa_MoM', FloatType()),\n",
        "        StructField('Vehicle sales (total) - Seasonally Adjusted', FloatType()),\n",
        "        StructField('Vehicle sales (total) - Seasonally Adjusted - current_prices_mom', FloatType()),\n",
        "        StructField('Vehicle sales (total) - Seasonally Adjusted - current_prices_yoy', FloatType()),\n",
        "        StructField('Vehicles production (total)', FloatType()),\n",
        "        StructField('Vehicles production (total) - current_prices_mom', FloatType()),\n",
        "        StructField('Vehicles production (total) - current_prices_yoy', FloatType()),\n",
        "        StructField('Vehicles production (total) - sa', FloatType()),\n",
        "        StructField('Vehicles production (total) - sa_MoM', FloatType()),\n",
        "        StructField('Vehicles production (total) - Seasonally Adjusted', FloatType()),\n",
        "        StructField('Vehicles production (total) - Seasonally Adjusted - current_prices_mom', FloatType()),\n",
        "        StructField('Vehicles production (total) - Seasonally Adjusted - current_prices_yoy', FloatType()),\n",
        "        StructField('Domestic vehicle sales', FloatType()),\n",
        "        StructField('Domestic vehicle sales - current_prices_mom', FloatType()),\n",
        "        StructField('Domestic vehicle sales - current_prices_yoy', FloatType()),\n",
        "        StructField('Domestic vehicle sales - sa', FloatType()),\n",
        "        StructField('Domestic vehicle sales - sa_MoM', FloatType()),\n",
        "        StructField('Vehicle exports', FloatType()), \n",
        "        StructField('Vehicle exports - current_prices_mom', FloatType()), \n",
        "        StructField('Vehicle exports - current_prices_yoy', FloatType()), \n",
        "        StructField('Vehicle sales (total)', FloatType()),\n",
        "        StructField('Vehicle sales (total) - current_prices_mom', FloatType()),\n",
        "        StructField('Vehicle sales (total) - sa_MoM', FloatType())\n",
        "                ])\n",
        ")"
      ],
      "metadata": {
        "id": "fuGHGgYV9qYZ"
      },
      "execution_count": null,
      "outputs": []
    },
    {
      "cell_type": "code",
      "source": [
        "#Alteração para csv\n",
        "df1.write.format('csv').mode('overwrite').save('/content/projeto_final_brasil.csv')"
      ],
      "metadata": {
        "id": "Oehp6Uq3G7DD"
      },
      "execution_count": null,
      "outputs": []
    },
    {
      "cell_type": "code",
      "source": [
        "df2 = (\n",
        "    spark.read.format('csv')\n",
        "              .option('header', 'true')\n",
        "              .option('inferschema', 'true')\n",
        "              .option('delimiter', ',')\n",
        "              .load('/content/projeto_final_brasil.csv', schema = esquema)\n",
        ")"
      ],
      "metadata": {
        "id": "RKbDeJjrG80v"
      },
      "execution_count": null,
      "outputs": []
    },
    {
      "cell_type": "code",
      "source": [
        "df2.printSchema()"
      ],
      "metadata": {
        "id": "D_lHnISSHsgY",
        "colab": {
          "base_uri": "https://localhost:8080/"
        },
        "outputId": "9a0bc816-0f05-4fea-de33-0900c5b0edf9"
      },
      "execution_count": null,
      "outputs": [
        {
          "output_type": "stream",
          "name": "stdout",
          "text": [
            "root\n",
            " |-- Date: date (nullable = true)\n",
            " |-- Domestic vehicle sales - Seasonally Adjusted: float (nullable = true)\n",
            " |-- Domestic vehicle sales - Seasonally Adjusted - current_prices_mom: float (nullable = true)\n",
            " |-- Domestic vehicle sales - Seasonally Adjusted - current_prices_yoy: float (nullable = true)\n",
            " |-- Passenger cars and light commercial vehicles production: float (nullable = true)\n",
            " |-- Passenger cars and light commercial vehicles production - current_prices_mom: float (nullable = true)\n",
            " |-- Passenger cars and light commercial vehicles production - current_prices_yoy: float (nullable = true)\n",
            " |-- Vehicle exports - Seasonally Adjusted: float (nullable = true)\n",
            " |-- Vehicle exports - Seasonally Adjusted - current_prices_mom: float (nullable = true)\n",
            " |-- Vehicle exports - Seasonally Adjusted - current_prices_yoy: float (nullable = true)\n",
            " |-- Vehicle exports - Seasonally Adjusted - sa: float (nullable = true)\n",
            " |-- Vehicle exports - Seasonally Adjusted - sa_MoM: float (nullable = true)\n",
            " |-- Vehicle sales (total) - Seasonally Adjusted: float (nullable = true)\n",
            " |-- Vehicle sales (total) - Seasonally Adjusted - current_prices_mom: float (nullable = true)\n",
            " |-- Vehicle sales (total) - Seasonally Adjusted - current_prices_yoy: float (nullable = true)\n",
            " |-- Vehicles production (total): float (nullable = true)\n",
            " |-- Vehicles production (total) - current_prices_mom: float (nullable = true)\n",
            " |-- Vehicles production (total) - current_prices_yoy: float (nullable = true)\n",
            " |-- Vehicles production (total) - sa: float (nullable = true)\n",
            " |-- Vehicles production (total) - sa_MoM: float (nullable = true)\n",
            " |-- Vehicles production (total) - Seasonally Adjusted: float (nullable = true)\n",
            " |-- Vehicles production (total) - Seasonally Adjusted - current_prices_mom: float (nullable = true)\n",
            " |-- Vehicles production (total) - Seasonally Adjusted - current_prices_yoy: float (nullable = true)\n",
            " |-- Domestic vehicle sales: float (nullable = true)\n",
            " |-- Domestic vehicle sales - current_prices_mom: float (nullable = true)\n",
            " |-- Domestic vehicle sales - current_prices_yoy: float (nullable = true)\n",
            " |-- Domestic vehicle sales - sa: float (nullable = true)\n",
            " |-- Domestic vehicle sales - sa_MoM: float (nullable = true)\n",
            " |-- Vehicle exports: float (nullable = true)\n",
            " |-- Vehicle exports - current_prices_mom: float (nullable = true)\n",
            " |-- Vehicle exports - current_prices_yoy: float (nullable = true)\n",
            " |-- Vehicle sales (total): float (nullable = true)\n",
            " |-- Vehicle sales (total) - current_prices_mom: float (nullable = true)\n",
            " |-- Vehicle sales (total) - sa_MoM: float (nullable = true)\n",
            "\n"
          ]
        }
      ]
    },
    {
      "cell_type": "markdown",
      "source": [
        "## Renomear e Traduzir as colunas"
      ],
      "metadata": {
        "id": "aG8KNfjFtE-3"
      }
    },
    {
      "cell_type": "code",
      "source": [
        "#Colunas traduzidas e renomeadas\n",
        "df3 = ( df2.withColumnRenamed('Date','data')\n",
        "           .withColumnRenamed('Domestic vehicle sales - Seasonally Adjusted','vendas_saz')\n",
        "           .withColumnRenamed('Domestic vehicle sales - Seasonally Adjusted - current_prices_mom','vendas_saz_preco_mes')\n",
        "           .withColumnRenamed('Domestic vehicle sales - Seasonally Adjusted - current_prices_yoy','vendas_saz_preco_ano')\n",
        "           .withColumnRenamed('Passenger cars and light commercial vehicles production','prod_auto_leve')\n",
        "           .withColumnRenamed('Passenger cars and light commercial vehicles production - current_prices_mom','prod_auto_leve_preco_atual_mes')\n",
        "           .withColumnRenamed('Passenger cars and light commercial vehicles production - current_prices_yoy','prod_auto-leve_ano')\n",
        "           .withColumnRenamed('Vehicle exports - Seasonally Adjusted','expo_saz')\n",
        "           .withColumnRenamed('Vehicle exports - Seasonally Adjusted - current_prices_mom','expo_saz_preço_mes')\n",
        "           .withColumnRenamed('Vehicle exports - Seasonally Adjusted - current_prices_yoy','expo__saz_preco_ano')\n",
        "           .withColumnRenamed('Vehicle exports - Seasonally Adjusted - sa','expo_saz_sa')\n",
        "           .withColumnRenamed('Vehicle exports - Seasonally Adjusted - sa_MoM ','expo_saz_sa_mes')\n",
        "           .withColumnRenamed('Vehicle sales (total) - Seasonally Adjusted','vendas_total_saz')\n",
        "           .withColumnRenamed('Vehicle sales (total) - Seasonally Adjusted - current_prices_mom','vendas_total_saz_preco_mes')\n",
        "           .withColumnRenamed('Vehicle exports - Seasonally Adjusted - sa_MoM ','expo_sa_mes')\n",
        "           .withColumnRenamed('Vehicle sales (total) - Seasonally Adjusted - current_prices_yoy','vendas_total_saz_preco_ano')\n",
        "           .withColumnRenamed('Vehicles production (total)','prod_total')\n",
        "           .withColumnRenamed('Vehicles production (total) - current_prices_mom','prod_total_preco_mes')\n",
        "           .withColumnRenamed('Vehicles production (total) - current_prices_yoy','prod_total_preco_ano')\n",
        "           .withColumnRenamed('Vehicles production (total) - sa','prod_total_sa')\n",
        "           .withColumnRenamed('Vehicles production (total) - sa_MoM','prod_total_sa_mes')\n",
        "           .withColumnRenamed('Vehicles production (total) - Seasonally Adjusted','prod_total_saz')\n",
        "           .withColumnRenamed('Vehicle sales (total) - Seasonally Adjusted ','vendas_total_saz')\n",
        "           .withColumnRenamed('Vehicle sales (total) - Seasonally Adjusted - current_prices_mom','vendas_total_saz_preco_mes')\n",
        "           .withColumnRenamed('Vehicle exports - Seasonally Adjusted - sa_MoM ','expo_sa_mes')\n",
        "           .withColumnRenamed('Vehicle sales (total) - Seasonally Adjusted - current_prices_yoy','vendas_total_saz_preco_ano')\n",
        "           .withColumnRenamed('Vehicles production (total)','prod_total')\n",
        "           .withColumnRenamed('Vehicles production (total) - current_prices_mom','prod_total_preco_mes')\n",
        "           .withColumnRenamed('Vehicles production (total) - current_prices_yoy','prod_total_preco_ano')\n",
        "           .withColumnRenamed('Vehicles production (total) - sa','prod_total_sa')\n",
        "           .withColumnRenamed('Vehicles production (total) - sa_MoM','prod_total_sa_mes')\n",
        "           .withColumnRenamed('Vehicles production (total) - Seasonally Adjusted','prod_total_saz')\n",
        "           .withColumnRenamed('Vehicle sales (total) - Seasonally Adjusted - current_prices_mom','vendas_total_saz_preco_mes')\n",
        "           .withColumnRenamed('Vehicle exports - Seasonally Adjusted - sa_MoM','expo_saz_sa_mes')\n",
        "           .withColumnRenamed('Vehicle sales (total) - Seasonally Adjusted - current_prices_yoy','vendas_total_saz_preco_ano')\n",
        "           .withColumnRenamed('Vehicles production (total)','producao_total')\n",
        "           .withColumnRenamed('Vehicles production (total) - current_prices_mom','prod_total_preco_mes')\n",
        "           .withColumnRenamed('Vehicles production (total) - current_prices_yoy','prod_total_preco_ano')\n",
        "           .withColumnRenamed('Vehicles production (total) - Seasonally Adjusted - current_prices_mom','prod_total_saz_preco_mes')\n",
        "           .withColumnRenamed('Vehicles production (total) - Seasonally Adjusted - current_prices_yoy','prod_total_saz_preco_ano')\n",
        "           .withColumnRenamed('Domestic vehicle sales','vendas')\n",
        "           .withColumnRenamed('Domestic vehicle sales - current_prices_mom','vendas_preco_mes')\n",
        "           .withColumnRenamed('Domestic vehicle sales - current_prices_yoy','vendas_preco_ano')\n",
        "           .withColumnRenamed('Domestic vehicle sales - sa','vendas_sa')\n",
        "           .withColumnRenamed('Domestic vehicle sales - sa_MoM','vendas_sa_mes')\n",
        "           .withColumnRenamed('Vehicle exports','expo_auto')\n",
        "           .withColumnRenamed('Vehicle exports - current_prices_mom','expo_preco_mes')\n",
        "           .withColumnRenamed('Vehicle exports - current_prices_yoy','expo_preco_ano')   \n",
        "           .withColumnRenamed('Vehicles production (total) - sa','prod_total_sa')\n",
        "           .withColumnRenamed('Vehicles production (total) - sa_MoM','prod_total_sa_mes')\n",
        "           .withColumnRenamed('Vehicles production (total) - Seasonally Adjusted','prod_total_saz')\n",
        "           .withColumnRenamed('Vehicle sales (total)','vendas_total')\n",
        "           .withColumnRenamed('Vehicle sales (total) - current_prices_mom','vendas_total_preco_mes')\n",
        "           .withColumnRenamed('Vehicle sales (total) - sa_MoM','vendas_total_sa_mes')\n",
        ")"
      ],
      "metadata": {
        "id": "ph32u-HBSofp"
      },
      "execution_count": null,
      "outputs": []
    },
    {
      "cell_type": "code",
      "source": [
        "df3.printSchema()"
      ],
      "metadata": {
        "id": "H5RxwHzdhJiO"
      },
      "execution_count": null,
      "outputs": []
    },
    {
      "cell_type": "code",
      "source": [
        "df3.show()"
      ],
      "metadata": {
        "id": "gfERlprVYFrG"
      },
      "execution_count": null,
      "outputs": []
    },
    {
      "cell_type": "code",
      "source": [
        "df3.printSchema()"
      ],
      "metadata": {
        "id": "hSuoPOjuIEc4"
      },
      "execution_count": null,
      "outputs": []
    },
    {
      "cell_type": "code",
      "source": [
        "df3.show()"
      ],
      "metadata": {
        "id": "071dbwVCIR4l"
      },
      "execution_count": null,
      "outputs": []
    },
    {
      "cell_type": "code",
      "source": [
        "#Contar linhas\n",
        "df3.count()"
      ],
      "metadata": {
        "id": "HnxHiPsrIR0C"
      },
      "execution_count": null,
      "outputs": []
    },
    {
      "cell_type": "code",
      "source": [
        "#Não há duplicatas\n",
        "df4 = df3.dropDuplicates()\n",
        "df4.count()"
      ],
      "metadata": {
        "id": "cXCsoPk4IRmY"
      },
      "execution_count": null,
      "outputs": []
    },
    {
      "cell_type": "code",
      "source": [
        "#Separação por '-'\n",
        "split_cols = pyspark.sql.functions.split(df4['data'], '-')"
      ],
      "metadata": {
        "id": "htsY_YAOBlyb"
      },
      "execution_count": null,
      "outputs": []
    },
    {
      "cell_type": "code",
      "source": [
        "#Criando uma nova coluna 'ano'\n",
        "df5 = df4.withColumn('ano', split_cols.getItem(0))\n",
        "df5.show()"
      ],
      "metadata": {
        "id": "krq8dUchBlfq",
        "colab": {
          "base_uri": "https://localhost:8080/"
        },
        "outputId": "4b71497f-6692-4579-9f92-5ba4e9ea29fe"
      },
      "execution_count": null,
      "outputs": [
        {
          "output_type": "stream",
          "name": "stdout",
          "text": [
            "+----------+----------+--------------------+--------------------+--------------+------------------------------+------------------+--------+------------------+-------------------+-----------+---------------+----------------+--------------------------+--------------------------+----------+--------------------+--------------------+-------------+-----------------+--------------+------------------------+------------------------+--------+----------------+----------------+---------+-------------+---------+--------------+--------------+------------+----------------------+-------------------+----+\n",
            "|      data|vendas_saz|vendas_saz_preco_mes|vendas_saz_preco_ano|prod_auto_leve|prod_auto_leve_preco_atual_mes|prod_auto-leve_ano|expo_saz|expo_saz_preço_mes|expo__saz_preco_ano|expo_saz_sa|expo_saz_sa_mes|vendas_total_saz|vendas_total_saz_preco_mes|vendas_total_saz_preco_ano|prod_total|prod_total_preco_mes|prod_total_preco_ano|prod_total_sa|prod_total_sa_mes|prod_total_saz|prod_total_saz_preco_mes|prod_total_saz_preco_ano|  vendas|vendas_preco_mes|vendas_preco_ano|vendas_sa|vendas_sa_mes|expo_auto|expo_preco_mes|expo_preco_ano|vendas_total|vendas_total_preco_mes|vendas_total_sa_mes| ano|\n",
            "+----------+----------+--------------------+--------------------+--------------+------------------------------+------------------+--------+------------------+-------------------+-----------+---------------+----------------+--------------------------+--------------------------+----------+--------------------+--------------------+-------------+-----------------+--------------+------------------------+------------------------+--------+----------------+----------------+---------+-------------+---------+--------------+--------------+------------+----------------------+-------------------+----+\n",
            "|1982-11-01|       NaN|                 NaN|                 NaN|           NaN|                           NaN|               NaN|     NaN|               NaN|                NaN|        NaN|            NaN|             NaN|                       NaN|                       NaN|       NaN|                 NaN|                 NaN|          NaN|              NaN|           NaN|                     NaN|                     NaN| 63322.0|           -6.08|           34.07| 62062.05|        -1.11|  11215.0|         -0.15|         -19.3|     74537.0|                 -5.24|               1.15|1982|\n",
            "|1994-09-01|       NaN|                 NaN|                 NaN|       97492.0|                        -18.51|             -2.69|     NaN|               NaN|                NaN|        NaN|            NaN|             NaN|                       NaN|                       NaN|  103372.0|              -18.63|               -3.38|    102235.09|            -5.48|           NaN|                     NaN|                     NaN| 97558.0|          -15.63|           -0.79|  95027.3|        -7.53|   9046.0|         -24.5|          9.13|    106604.0|                -16.46|              -8.41|1994|\n",
            "|2004-04-01|       NaN|                 NaN|                 NaN|      152649.0|                        -12.35|             24.46|     NaN|               NaN|                NaN|        NaN|            NaN|             NaN|                       NaN|                       NaN|  163375.0|              -11.93|               24.92|    166428.95|            -2.25|      168420.0|                    1.21|                   24.43|110845.0|          -18.64|            7.74| 115928.2|        -9.41|  37587.0|        -19.41|         34.62|    148432.0|                -18.83|              -11.6|2004|\n",
            "|2009-08-01|  220798.0|                0.81|                4.35|      272807.0|                          5.24|             -2.49| 32918.0|             24.49|             -35.07|   32914.78|          22.23|        253715.0|                      3.36|                     -3.27|  284904.0|                4.98|               -4.89|     256608.1|             1.19|      265006.0|                    5.11|                   -6.26|220616.0|           -8.86|            5.02|207712.89|        -6.98|  35373.0|         39.02|        -32.83|    255989.0|                  -4.3|              -1.47|2009|\n",
            "|2005-02-01|  134240.0|                5.42|                 NaN|      166673.0|                         14.43|             19.19| 56295.0|              4.59|                NaN|    55512.4|           1.12|        190535.0|                      5.17|                       NaN|  176760.0|               13.65|               18.82|     193272.8|             11.9|      195510.0|                    8.46|                   19.56|109911.0|            8.18|             8.5|133239.77|        10.19|  50328.0|         22.61|         84.33|    160239.0|                 12.33|               9.48|2005|\n",
            "|2011-10-01|  215409.0|               -6.76|              -13.78|      246745.0|                          3.54|             -9.78| 47484.0|              0.25|               5.27|   47165.79|          -0.38|        262893.0|                     -5.57|                    -10.86|  270949.0|                3.76|                -7.7|    257132.98|            -2.48|      265902.0|                    1.86|                   -7.87|209537.0|           -9.92|           -14.1|200352.95|       -12.13|  53017.0|         16.45|          3.67|    262554.0|                  -5.6|               -9.0|2011|\n",
            "|2021-08-01|  141804.0|               -4.51|              -13.98|      148857.0|                           0.7|            -26.15| 28721.0|             23.26|               5.97|    28145.7|          13.46|        170525.0|                     -0.75|                    -11.16|  165330.0|                0.72|              -21.27|    146760.84|            -9.96|      147272.0|                   -6.55|                   -24.5|149456.0|            -1.0|           -9.71|133875.44|        -8.56|  29444.0|         23.89|          5.55|    178900.0|                  2.38|              -5.31|2021|\n",
            "|1990-05-01|       NaN|                 NaN|                 NaN|           NaN|                           NaN|               NaN|     NaN|               NaN|                NaN|        NaN|            NaN|             NaN|                       NaN|                       NaN|       NaN|                 NaN|                 NaN|          NaN|              NaN|           NaN|                     NaN|                     NaN| 58464.0|           78.18|           13.67| 63081.76|        24.72|  24457.0|         24.32|         -3.46|     82921.0|                 57.99|              25.71|1990|\n",
            "|1990-02-01|       NaN|                 NaN|                 NaN|           NaN|                           NaN|               NaN|     NaN|               NaN|                NaN|        NaN|            NaN|             NaN|                       NaN|                       NaN|       NaN|                 NaN|                 NaN|          NaN|              NaN|           NaN|                     NaN|                     NaN| 57254.0|          -17.96|           -2.11| 64795.11|        -16.9|  17542.0|         70.99|        -18.99|     74796.0|                 -6.56|              -9.54|1990|\n",
            "|1996-05-01|       NaN|                 NaN|                 NaN|      136930.0|                         10.13|              6.67|     NaN|               NaN|                NaN|        NaN|            NaN|             NaN|                       NaN|                       NaN|  142309.0|                8.88|                4.22|    129001.88|            -1.42|           NaN|                     NaN|                     NaN|129524.0|            8.15|            1.61|121520.23|         1.61|   9992.0|         49.92|         28.73|    139516.0|                 10.35|                2.7|1996|\n",
            "|2018-02-01|  175386.0|               -0.52|                8.93|      203610.0|                          -3.3|              4.37| 62857.0|              2.02|              -2.87|   61848.11|           0.18|        238243.0|                      0.13|                      5.55|  213498.0|               -2.61|                5.82|    230685.84|            -6.78|      231554.0|                   -8.92|                    4.64|138510.0|          -13.58|           14.19|170416.27|        -7.74|  66321.0|         42.94|         -1.14|    204831.0|                 -0.89|              -5.11|2018|\n",
            "|1993-02-01|       NaN|                 NaN|                 NaN|       70663.0|                         12.32|               NaN|     NaN|               NaN|                NaN|        NaN|            NaN|             NaN|                       NaN|                       NaN|   73042.0|               10.39|                 NaN|     84750.26|            -6.84|           NaN|                     NaN|                     NaN| 64499.0|           12.02|           30.22| 76753.35|         4.04|   9234.0|         98.88|        -62.26|     73733.0|                 18.51|               4.46|1993|\n",
            "|2008-04-01|  227887.0|                 9.6|               39.07|      266123.0|                          5.88|             33.53| 50264.0|              1.88|               1.07|   49969.41|           1.22|        278151.0|                      8.12|                     30.22|  283294.0|                5.59|               33.39|    289489.34|            15.42|      278874.0|                    5.89|                   25.75|229699.0|           12.55|           41.88|235622.16|        18.78|  49372.0|         -0.82|          2.89|    279071.0|                  9.93|              18.04|2008|\n",
            "|2006-01-01|  145105.0|                3.78|               13.95|      175693.0|                         -5.32|             20.62| 59418.0|             -6.88|              10.39|   60277.16|          -3.56|        204523.0|                      0.44|                     12.89|  183640.0|               -5.61|               18.07|    203955.61|            -3.96|      203187.0|                   -0.85|                   12.72|125923.0|          -26.92|           23.94|149344.12|        -3.21|  46126.0|        -26.13|         12.37|    172049.0|                -26.71|              -0.38|2006|\n",
            "|1983-06-01|       NaN|                 NaN|                 NaN|           NaN|                           NaN|               NaN|     NaN|               NaN|                NaN|        NaN|            NaN|             NaN|                       NaN|                       NaN|       NaN|                 NaN|                 NaN|          NaN|              NaN|           NaN|                     NaN|                     NaN| 53240.0|          -22.87|           -5.79| 56537.51|       -18.31|  13444.0|        -20.28|          1.01|     66684.0|                -22.36|             -16.64|1983|\n",
            "|2002-09-01|       NaN|                 NaN|                 NaN|      133757.0|                         11.72|             11.85|     NaN|               NaN|                NaN|        NaN|            NaN|             NaN|                       NaN|                       NaN|  140896.0|               10.79|               10.64|    137605.11|            18.48|      138691.0|                   16.02|                     NaN|120095.0|            2.54|           35.13|117088.06|         3.17|  26348.0|         21.53|         10.45|    146443.0|                   5.5|               5.32|2002|\n",
            "|1982-01-01|       NaN|                 NaN|                 NaN|           NaN|                           NaN|               NaN|     NaN|               NaN|                NaN|        NaN|            NaN|             NaN|                       NaN|                       NaN|       NaN|                 NaN|                 NaN|          NaN|              NaN|           NaN|                     NaN|                     NaN| 48208.0|           -7.31|          -34.29| 51228.43|         8.81|  14205.0|         -16.1|         -2.55|     62413.0|                 -9.47|              14.92|1982|\n",
            "|1999-09-01|       NaN|                 NaN|                 NaN|      124331.0|                          0.98|             -2.16|     NaN|               NaN|                NaN|        NaN|            NaN|             NaN|                       NaN|                       NaN|  130444.0|                0.89|               -3.04|    121483.54|             9.52|           NaN|                     NaN|                     NaN|111483.0|            1.45|            10.5|105092.93|         4.68|  20586.0|         -8.34|          5.81|    132069.0|                 -0.21|               2.54|1999|\n",
            "|2002-07-01|       NaN|                 NaN|                 NaN|      125704.0|                          2.22|             -5.91|     NaN|               NaN|                NaN|        NaN|            NaN|             NaN|                       NaN|                       NaN|  133240.0|                2.13|               -6.44|    133310.62|             4.79|      135825.0|                    0.21|                     NaN|115498.0|            16.1|            3.66|116436.29|        13.05|  26071.0|         32.05|         34.71|    141569.0|                 18.74|              21.11|2002|\n",
            "|2003-06-01|       NaN|                 NaN|                 NaN|      116584.0|                         -12.6|              -5.2|     NaN|               NaN|                NaN|        NaN|            NaN|             NaN|                       NaN|                       NaN|  124511.0|              -12.23|               -4.56|    122260.84|            -6.01|      131590.0|                   -1.26|                   -2.91| 95227.0|           -6.33|           -4.28| 99288.56|         0.39|  39066.0|         54.55|         97.86|    134293.0|                  5.79|               6.41|2003|\n",
            "+----------+----------+--------------------+--------------------+--------------+------------------------------+------------------+--------+------------------+-------------------+-----------+---------------+----------------+--------------------------+--------------------------+----------+--------------------+--------------------+-------------+-----------------+--------------+------------------------+------------------------+--------+----------------+----------------+---------+-------------+---------+--------------+--------------+------------+----------------------+-------------------+----+\n",
            "only showing top 20 rows\n",
            "\n"
          ]
        }
      ]
    },
    {
      "cell_type": "code",
      "source": [
        "df5.dtypes"
      ],
      "metadata": {
        "id": "bnyOYrDWAR9Q",
        "colab": {
          "base_uri": "https://localhost:8080/"
        },
        "outputId": "2836f151-6cbe-4fe6-ff37-9c5e69498e0e"
      },
      "execution_count": null,
      "outputs": [
        {
          "output_type": "execute_result",
          "data": {
            "text/plain": [
              "[('data', 'date'),\n",
              " ('vendas_saz', 'float'),\n",
              " ('vendas_saz_preco_mes', 'float'),\n",
              " ('vendas_saz_preco_ano', 'float'),\n",
              " ('prod_auto_leve', 'float'),\n",
              " ('prod_auto_leve_preco_atual_mes', 'float'),\n",
              " ('prod_auto-leve_ano', 'float'),\n",
              " ('expo_saz', 'float'),\n",
              " ('expo_saz_preço_mes', 'float'),\n",
              " ('expo__saz_preco_ano', 'float'),\n",
              " ('expo_saz_sa', 'float'),\n",
              " ('expo_saz_sa_mes', 'float'),\n",
              " ('vendas_total_saz', 'float'),\n",
              " ('vendas_total_saz_preco_mes', 'float'),\n",
              " ('vendas_total_saz_preco_ano', 'float'),\n",
              " ('prod_total', 'float'),\n",
              " ('prod_total_preco_mes', 'float'),\n",
              " ('prod_total_preco_ano', 'float'),\n",
              " ('prod_total_sa', 'float'),\n",
              " ('prod_total_sa_mes', 'float'),\n",
              " ('prod_total_saz', 'float'),\n",
              " ('prod_total_saz_preco_mes', 'float'),\n",
              " ('prod_total_saz_preco_ano', 'float'),\n",
              " ('vendas', 'float'),\n",
              " ('vendas_preco_mes', 'float'),\n",
              " ('vendas_preco_ano', 'float'),\n",
              " ('vendas_sa', 'float'),\n",
              " ('vendas_sa_mes', 'float'),\n",
              " ('expo_auto', 'float'),\n",
              " ('expo_preco_mes', 'float'),\n",
              " ('expo_preco_ano', 'float'),\n",
              " ('vendas_total', 'float'),\n",
              " ('vendas_total_preco_mes', 'float'),\n",
              " ('vendas_total_sa_mes', 'float'),\n",
              " ('ano', 'string')]"
            ]
          },
          "metadata": {},
          "execution_count": 114
        }
      ]
    },
    {
      "cell_type": "code",
      "source": [
        "#Este comando foi usado para alterar a data para formato Brasil\n",
        "#Para a alteração colocamos a data em formato de string o que atrapalhou nas análises, voltamos para formato DateType\n",
        "#df6 = df5.withColumn('data', date_format(col(\"data\"), \"dd-MM-yyyy\"))"
      ],
      "metadata": {
        "id": "4SVIvWWypLaO"
      },
      "execution_count": null,
      "outputs": []
    },
    {
      "cell_type": "code",
      "source": [
        "#df6.show()"
      ],
      "metadata": {
        "colab": {
          "base_uri": "https://localhost:8080/"
        },
        "id": "yw8N3QGNrBIs",
        "outputId": "adeea3ef-1f80-43ea-9cc7-cbc9b1c62c1f"
      },
      "execution_count": null,
      "outputs": [
        {
          "output_type": "stream",
          "name": "stdout",
          "text": [
            "+----------+----------+--------------------+--------------------+--------------+------------------------------+------------------+--------+------------------+-------------------+-----------+---------------+----------------+--------------------------+--------------------------+----------+--------------------+--------------------+-------------+-----------------+--------------+------------------------+------------------------+--------+----------------+----------------+---------+-------------+---------+--------------+--------------+------------+----------------------+-------------------+----+\n",
            "|      data|vendas_saz|vendas_saz_preco_mes|vendas_saz_preco_ano|prod_auto_leve|prod_auto_leve_preco_atual_mes|prod_auto-leve_ano|expo_saz|expo_saz_preço_mes|expo__saz_preco_ano|expo_saz_sa|expo_saz_sa_mes|vendas_total_saz|vendas_total_saz_preco_mes|vendas_total_saz_preco_ano|prod_total|prod_total_preco_mes|prod_total_preco_ano|prod_total_sa|prod_total_sa_mes|prod_total_saz|prod_total_saz_preco_mes|prod_total_saz_preco_ano|  vendas|vendas_preco_mes|vendas_preco_ano|vendas_sa|vendas_sa_mes|expo_auto|expo_preco_mes|expo_preco_ano|vendas_total|vendas_total_preco_mes|vendas_total_sa_mes| ano|\n",
            "+----------+----------+--------------------+--------------------+--------------+------------------------------+------------------+--------+------------------+-------------------+-----------+---------------+----------------+--------------------------+--------------------------+----------+--------------------+--------------------+-------------+-----------------+--------------+------------------------+------------------------+--------+----------------+----------------+---------+-------------+---------+--------------+--------------+------------+----------------------+-------------------+----+\n",
            "|01-11-1982|       NaN|                 NaN|                 NaN|           NaN|                           NaN|               NaN|     NaN|               NaN|                NaN|        NaN|            NaN|             NaN|                       NaN|                       NaN|       NaN|                 NaN|                 NaN|          NaN|              NaN|           NaN|                     NaN|                     NaN| 63322.0|           -6.08|           34.07| 62062.05|        -1.11|  11215.0|         -0.15|         -19.3|     74537.0|                 -5.24|               1.15|1982|\n",
            "|01-09-1994|       NaN|                 NaN|                 NaN|       97492.0|                        -18.51|             -2.69|     NaN|               NaN|                NaN|        NaN|            NaN|             NaN|                       NaN|                       NaN|  103372.0|              -18.63|               -3.38|    102235.09|            -5.48|           NaN|                     NaN|                     NaN| 97558.0|          -15.63|           -0.79|  95027.3|        -7.53|   9046.0|         -24.5|          9.13|    106604.0|                -16.46|              -8.41|1994|\n",
            "|01-04-2004|       NaN|                 NaN|                 NaN|      152649.0|                        -12.35|             24.46|     NaN|               NaN|                NaN|        NaN|            NaN|             NaN|                       NaN|                       NaN|  163375.0|              -11.93|               24.92|    166428.95|            -2.25|      168420.0|                    1.21|                   24.43|110845.0|          -18.64|            7.74| 115928.2|        -9.41|  37587.0|        -19.41|         34.62|    148432.0|                -18.83|              -11.6|2004|\n",
            "|01-08-2009|  220798.0|                0.81|                4.35|      272807.0|                          5.24|             -2.49| 32918.0|             24.49|             -35.07|   32914.78|          22.23|        253715.0|                      3.36|                     -3.27|  284904.0|                4.98|               -4.89|     256608.1|             1.19|      265006.0|                    5.11|                   -6.26|220616.0|           -8.86|            5.02|207712.89|        -6.98|  35373.0|         39.02|        -32.83|    255989.0|                  -4.3|              -1.47|2009|\n",
            "|01-02-2005|  134240.0|                5.42|                 NaN|      166673.0|                         14.43|             19.19| 56295.0|              4.59|                NaN|    55512.4|           1.12|        190535.0|                      5.17|                       NaN|  176760.0|               13.65|               18.82|     193272.8|             11.9|      195510.0|                    8.46|                   19.56|109911.0|            8.18|             8.5|133239.77|        10.19|  50328.0|         22.61|         84.33|    160239.0|                 12.33|               9.48|2005|\n",
            "|01-10-2011|  215409.0|               -6.76|              -13.78|      246745.0|                          3.54|             -9.78| 47484.0|              0.25|               5.27|   47165.79|          -0.38|        262893.0|                     -5.57|                    -10.86|  270949.0|                3.76|                -7.7|    257132.98|            -2.48|      265902.0|                    1.86|                   -7.87|209537.0|           -9.92|           -14.1|200352.95|       -12.13|  53017.0|         16.45|          3.67|    262554.0|                  -5.6|               -9.0|2011|\n",
            "|01-08-2021|  141804.0|               -4.51|              -13.98|      148857.0|                           0.7|            -26.15| 28721.0|             23.26|               5.97|    28145.7|          13.46|        170525.0|                     -0.75|                    -11.16|  165330.0|                0.72|              -21.27|    146760.84|            -9.96|      147272.0|                   -6.55|                   -24.5|149456.0|            -1.0|           -9.71|133875.44|        -8.56|  29444.0|         23.89|          5.55|    178900.0|                  2.38|              -5.31|2021|\n",
            "|01-05-1990|       NaN|                 NaN|                 NaN|           NaN|                           NaN|               NaN|     NaN|               NaN|                NaN|        NaN|            NaN|             NaN|                       NaN|                       NaN|       NaN|                 NaN|                 NaN|          NaN|              NaN|           NaN|                     NaN|                     NaN| 58464.0|           78.18|           13.67| 63081.76|        24.72|  24457.0|         24.32|         -3.46|     82921.0|                 57.99|              25.71|1990|\n",
            "|01-02-1990|       NaN|                 NaN|                 NaN|           NaN|                           NaN|               NaN|     NaN|               NaN|                NaN|        NaN|            NaN|             NaN|                       NaN|                       NaN|       NaN|                 NaN|                 NaN|          NaN|              NaN|           NaN|                     NaN|                     NaN| 57254.0|          -17.96|           -2.11| 64795.11|        -16.9|  17542.0|         70.99|        -18.99|     74796.0|                 -6.56|              -9.54|1990|\n",
            "|01-05-1996|       NaN|                 NaN|                 NaN|      136930.0|                         10.13|              6.67|     NaN|               NaN|                NaN|        NaN|            NaN|             NaN|                       NaN|                       NaN|  142309.0|                8.88|                4.22|    129001.88|            -1.42|           NaN|                     NaN|                     NaN|129524.0|            8.15|            1.61|121520.23|         1.61|   9992.0|         49.92|         28.73|    139516.0|                 10.35|                2.7|1996|\n",
            "|01-02-2018|  175386.0|               -0.52|                8.93|      203610.0|                          -3.3|              4.37| 62857.0|              2.02|              -2.87|   61848.11|           0.18|        238243.0|                      0.13|                      5.55|  213498.0|               -2.61|                5.82|    230685.84|            -6.78|      231554.0|                   -8.92|                    4.64|138510.0|          -13.58|           14.19|170416.27|        -7.74|  66321.0|         42.94|         -1.14|    204831.0|                 -0.89|              -5.11|2018|\n",
            "|01-02-1993|       NaN|                 NaN|                 NaN|       70663.0|                         12.32|               NaN|     NaN|               NaN|                NaN|        NaN|            NaN|             NaN|                       NaN|                       NaN|   73042.0|               10.39|                 NaN|     84750.26|            -6.84|           NaN|                     NaN|                     NaN| 64499.0|           12.02|           30.22| 76753.35|         4.04|   9234.0|         98.88|        -62.26|     73733.0|                 18.51|               4.46|1993|\n",
            "|01-04-2008|  227887.0|                 9.6|               39.07|      266123.0|                          5.88|             33.53| 50264.0|              1.88|               1.07|   49969.41|           1.22|        278151.0|                      8.12|                     30.22|  283294.0|                5.59|               33.39|    289489.34|            15.42|      278874.0|                    5.89|                   25.75|229699.0|           12.55|           41.88|235622.16|        18.78|  49372.0|         -0.82|          2.89|    279071.0|                  9.93|              18.04|2008|\n",
            "|01-01-2006|  145105.0|                3.78|               13.95|      175693.0|                         -5.32|             20.62| 59418.0|             -6.88|              10.39|   60277.16|          -3.56|        204523.0|                      0.44|                     12.89|  183640.0|               -5.61|               18.07|    203955.61|            -3.96|      203187.0|                   -0.85|                   12.72|125923.0|          -26.92|           23.94|149344.12|        -3.21|  46126.0|        -26.13|         12.37|    172049.0|                -26.71|              -0.38|2006|\n",
            "|01-06-1983|       NaN|                 NaN|                 NaN|           NaN|                           NaN|               NaN|     NaN|               NaN|                NaN|        NaN|            NaN|             NaN|                       NaN|                       NaN|       NaN|                 NaN|                 NaN|          NaN|              NaN|           NaN|                     NaN|                     NaN| 53240.0|          -22.87|           -5.79| 56537.51|       -18.31|  13444.0|        -20.28|          1.01|     66684.0|                -22.36|             -16.64|1983|\n",
            "|01-09-2002|       NaN|                 NaN|                 NaN|      133757.0|                         11.72|             11.85|     NaN|               NaN|                NaN|        NaN|            NaN|             NaN|                       NaN|                       NaN|  140896.0|               10.79|               10.64|    137605.11|            18.48|      138691.0|                   16.02|                     NaN|120095.0|            2.54|           35.13|117088.06|         3.17|  26348.0|         21.53|         10.45|    146443.0|                   5.5|               5.32|2002|\n",
            "|01-01-1982|       NaN|                 NaN|                 NaN|           NaN|                           NaN|               NaN|     NaN|               NaN|                NaN|        NaN|            NaN|             NaN|                       NaN|                       NaN|       NaN|                 NaN|                 NaN|          NaN|              NaN|           NaN|                     NaN|                     NaN| 48208.0|           -7.31|          -34.29| 51228.43|         8.81|  14205.0|         -16.1|         -2.55|     62413.0|                 -9.47|              14.92|1982|\n",
            "|01-09-1999|       NaN|                 NaN|                 NaN|      124331.0|                          0.98|             -2.16|     NaN|               NaN|                NaN|        NaN|            NaN|             NaN|                       NaN|                       NaN|  130444.0|                0.89|               -3.04|    121483.54|             9.52|           NaN|                     NaN|                     NaN|111483.0|            1.45|            10.5|105092.93|         4.68|  20586.0|         -8.34|          5.81|    132069.0|                 -0.21|               2.54|1999|\n",
            "|01-07-2002|       NaN|                 NaN|                 NaN|      125704.0|                          2.22|             -5.91|     NaN|               NaN|                NaN|        NaN|            NaN|             NaN|                       NaN|                       NaN|  133240.0|                2.13|               -6.44|    133310.62|             4.79|      135825.0|                    0.21|                     NaN|115498.0|            16.1|            3.66|116436.29|        13.05|  26071.0|         32.05|         34.71|    141569.0|                 18.74|              21.11|2002|\n",
            "|01-06-2003|       NaN|                 NaN|                 NaN|      116584.0|                         -12.6|              -5.2|     NaN|               NaN|                NaN|        NaN|            NaN|             NaN|                       NaN|                       NaN|  124511.0|              -12.23|               -4.56|    122260.84|            -6.01|      131590.0|                   -1.26|                   -2.91| 95227.0|           -6.33|           -4.28| 99288.56|         0.39|  39066.0|         54.55|         97.86|    134293.0|                  5.79|               6.41|2003|\n",
            "+----------+----------+--------------------+--------------------+--------------+------------------------------+------------------+--------+------------------+-------------------+-----------+---------------+----------------+--------------------------+--------------------------+----------+--------------------+--------------------+-------------+-----------------+--------------+------------------------+------------------------+--------+----------------+----------------+---------+-------------+---------+--------------+--------------+------------+----------------------+-------------------+----+\n",
            "only showing top 20 rows\n",
            "\n"
          ]
        }
      ]
    },
    {
      "cell_type": "code",
      "source": [
        "#df6.printSchema()"
      ],
      "metadata": {
        "colab": {
          "base_uri": "https://localhost:8080/"
        },
        "id": "sfBb4DrN9exR",
        "outputId": "090f547c-9394-4f3b-e6d7-461e68ed7fba"
      },
      "execution_count": null,
      "outputs": [
        {
          "output_type": "stream",
          "name": "stdout",
          "text": [
            "root\n",
            " |-- data: string (nullable = true)\n",
            " |-- vendas_saz: float (nullable = true)\n",
            " |-- vendas_saz_preco_mes: float (nullable = true)\n",
            " |-- vendas_saz_preco_ano: float (nullable = true)\n",
            " |-- prod_auto_leve: float (nullable = true)\n",
            " |-- prod_auto_leve_preco_atual_mes: float (nullable = true)\n",
            " |-- prod_auto-leve_ano: float (nullable = true)\n",
            " |-- expo_saz: float (nullable = true)\n",
            " |-- expo_saz_preço_mes: float (nullable = true)\n",
            " |-- expo__saz_preco_ano: float (nullable = true)\n",
            " |-- expo_saz_sa: float (nullable = true)\n",
            " |-- expo_saz_sa_mes: float (nullable = true)\n",
            " |-- vendas_total_saz: float (nullable = true)\n",
            " |-- vendas_total_saz_preco_mes: float (nullable = true)\n",
            " |-- vendas_total_saz_preco_ano: float (nullable = true)\n",
            " |-- prod_total: float (nullable = true)\n",
            " |-- prod_total_preco_mes: float (nullable = true)\n",
            " |-- prod_total_preco_ano: float (nullable = true)\n",
            " |-- prod_total_sa: float (nullable = true)\n",
            " |-- prod_total_sa_mes: float (nullable = true)\n",
            " |-- prod_total_saz: float (nullable = true)\n",
            " |-- prod_total_saz_preco_mes: float (nullable = true)\n",
            " |-- prod_total_saz_preco_ano: float (nullable = true)\n",
            " |-- vendas: float (nullable = true)\n",
            " |-- vendas_preco_mes: float (nullable = true)\n",
            " |-- vendas_preco_ano: float (nullable = true)\n",
            " |-- vendas_sa: float (nullable = true)\n",
            " |-- vendas_sa_mes: float (nullable = true)\n",
            " |-- expo_auto: float (nullable = true)\n",
            " |-- expo_preco_mes: float (nullable = true)\n",
            " |-- expo_preco_ano: float (nullable = true)\n",
            " |-- vendas_total: float (nullable = true)\n",
            " |-- vendas_total_preco_mes: float (nullable = true)\n",
            " |-- vendas_total_sa_mes: float (nullable = true)\n",
            " |-- ano: string (nullable = true)\n",
            "\n"
          ]
        }
      ]
    },
    {
      "cell_type": "code",
      "source": [
        "#Substituição de todos os NaN por 0\n",
        "df7 = df5.fillna(0)"
      ],
      "metadata": {
        "id": "cwIH5cxd6o8N"
      },
      "execution_count": null,
      "outputs": []
    },
    {
      "cell_type": "code",
      "source": [
        "#Convertendo a coluna ano para inteiro\n",
        "df_year = df7.withColumn('ano', col(\"ano\").cast(\"integer\"))\n",
        "#Filtrando os anos entre 2018 e 2022\n",
        "df_consolidado = df_year.filter((col('ano') >= 2018) & (col('ano') <= 2022))"
      ],
      "metadata": {
        "id": "GUqgkxK_jWI2"
      },
      "execution_count": null,
      "outputs": []
    },
    {
      "cell_type": "code",
      "source": [
        "#Para visualizar colunas em duplicidade\n",
        "for i in df_consolidado:\n",
        "  print(i)"
      ],
      "metadata": {
        "id": "Ce-is50xqKkL"
      },
      "execution_count": null,
      "outputs": []
    },
    {
      "cell_type": "code",
      "source": [
        "df_consolidado.show()"
      ],
      "metadata": {
        "id": "FlV0WA4FNpMm",
        "colab": {
          "base_uri": "https://localhost:8080/"
        },
        "outputId": "93dd43f2-14a5-4982-dbed-38dd8174b26b"
      },
      "execution_count": null,
      "outputs": [
        {
          "output_type": "stream",
          "name": "stdout",
          "text": [
            "+----------+----------+--------------------+--------------------+--------------+------------------------------+------------------+--------+------------------+-------------------+-----------+---------------+----------------+--------------------------+--------------------------+----------+--------------------+--------------------+-------------+-----------------+--------------+------------------------+------------------------+--------+----------------+----------------+---------+-------------+---------+--------------+--------------+------------+----------------------+-------------------+----+\n",
            "|      data|vendas_saz|vendas_saz_preco_mes|vendas_saz_preco_ano|prod_auto_leve|prod_auto_leve_preco_atual_mes|prod_auto-leve_ano|expo_saz|expo_saz_preço_mes|expo__saz_preco_ano|expo_saz_sa|expo_saz_sa_mes|vendas_total_saz|vendas_total_saz_preco_mes|vendas_total_saz_preco_ano|prod_total|prod_total_preco_mes|prod_total_preco_ano|prod_total_sa|prod_total_sa_mes|prod_total_saz|prod_total_saz_preco_mes|prod_total_saz_preco_ano|  vendas|vendas_preco_mes|vendas_preco_ano|vendas_sa|vendas_sa_mes|expo_auto|expo_preco_mes|expo_preco_ano|vendas_total|vendas_total_preco_mes|vendas_total_sa_mes| ano|\n",
            "+----------+----------+--------------------+--------------------+--------------+------------------------------+------------------+--------+------------------+-------------------+-----------+---------------+----------------+--------------------------+--------------------------+----------+--------------------+--------------------+-------------+-----------------+--------------+------------------------+------------------------+--------+----------------+----------------+---------+-------------+---------+--------------+--------------+------------+----------------------+-------------------+----+\n",
            "|2021-08-01|  141804.0|               -4.51|              -13.98|      148857.0|                           0.7|            -26.15| 28721.0|             23.26|               5.97|    28145.7|          13.46|        170525.0|                     -0.75|                    -11.16|  165330.0|                0.72|              -21.27|    146760.84|            -9.96|      147272.0|                   -6.55|                   -24.5|149456.0|            -1.0|           -9.71|133875.44|        -8.56|  29444.0|         23.89|          5.55|    178900.0|                  2.38|              -5.31|2021|\n",
            "|2018-02-01|  175386.0|               -0.52|                8.93|      203610.0|                          -3.3|              4.37| 62857.0|              2.02|              -2.87|   61848.11|           0.18|        238243.0|                      0.13|                      5.55|  213498.0|               -2.61|                5.82|    230685.84|            -6.78|      231554.0|                   -8.92|                    4.64|138510.0|          -13.58|           14.19|170416.27|        -7.74|  66321.0|         42.94|         -1.14|    204831.0|                 -0.89|              -5.11|2018|\n",
            "|2018-10-01|  210175.0|                 6.3|               18.64|      250018.0|                         18.09|              2.41| 41340.0|             -4.34|             -35.62|    41141.7|          -3.73|        251516.0|                      4.39|                      4.21|  263186.0|               17.98|                3.65|    242187.78|              8.1|      241771.0|                    2.71|                    0.25|225700.0|            20.7|           24.07|219450.02|        15.66|  38734.0|         -1.81|        -37.32|    264434.0|                 16.78|              10.98|2018|\n",
            "|2022-09-01|  162401.0|               -2.98|               28.17|      189007.0|                        -12.97|             18.82| 31770.0|             -31.2|              18.68|   30921.12|         -32.04|        194171.0|                     -9.08|                     26.51|  207762.0|              -12.69|               19.34|    200447.97|             -9.4|      203971.0|                    -3.5|                   18.98|168802.0|           -8.51|           26.76|169495.44|         0.26|  28544.0|         -39.0|         20.75|    197346.0|                -14.68|               -3.3|2022|\n",
            "|2018-06-01|  181826.0|                8.65|                4.62|      244732.0|                         20.51|             18.91| 60070.0|             10.73|              -5.08|   59912.78|          10.35|        241896.0|                      9.16|                      2.03|  256311.0|               20.71|                19.3|    261064.73|            31.27|      255279.0|                   27.94|                   14.68|175796.0|            0.09|             0.8|179651.48|         3.46|  64918.0|          6.85|         -4.37|    240714.0|                  1.83|               4.25|2018|\n",
            "|2020-12-01|  190310.0|               -1.48|              -10.02|      197802.0|                         -12.1|              21.1| 40656.0|             -8.33|              30.27|   40107.78|          -8.53|        230967.0|                     -2.76|                     -4.83|  209296.0|              -12.13|               22.75|     237667.1|             7.69|      238743.0|                    4.33|                   14.84|222916.0|            8.69|           -4.35|189255.95|        -2.27|  38405.0|        -12.73|          32.4|    261321.0|                   4.9|              -4.28|2020|\n",
            "|2021-01-01|  190624.0|                0.16|                0.45|      190156.0|                         -3.87|              3.83| 36744.0|             -9.62|              11.78|   36645.64|          -8.63|        227367.0|                     -1.56|                      2.12|  200398.0|               -4.25|                4.52|     225243.1|            -5.23|      241717.0|                    1.25|                    8.19|154986.0|          -30.47|           -9.45|182779.56|        -3.42|  25918.0|        -32.51|         26.13|    180904.0|                -30.77|              -3.41|2021|\n",
            "|2021-06-01|  160445.0|               -4.65|               36.76|      151286.0|                        -14.66|             65.36| 29905.0|             -6.44|              95.42|   29638.91|          -9.37|        190350.0|                     -4.93|                     43.53|  167547.0|              -13.12|               70.19|    172411.17|            -6.47|      170043.0|                   -9.99|                   50.26|158059.0|            -6.6|           36.58|162147.72|         0.11|  33512.0|         -9.39|         72.62|    191571.0|                  -7.1|              -2.15|2021|\n",
            "|2018-04-01|  201206.0|               10.42|               23.75|      254154.0|                         -0.24|             38.01| 72381.0|             13.69|              18.94|    74196.3|          16.28|        273587.0|                     11.27|                     22.44|  266549.0|               -0.37|               39.15|     263591.0|             2.11|      259603.0|                    4.12|                   28.45|190515.0|            4.14|           36.71|191948.38|          3.4|  72975.0|          8.13|         19.24|    263490.0|                  5.22|               7.14|2018|\n",
            "|2018-07-01|  190135.0|                4.57|               11.64|      234222.0|                         -4.29|               8.2| 47921.0|            -20.22|             -24.33|   48342.64|         -19.31|        238056.0|                     -1.59|                      1.89|  245935.0|               -4.05|                 8.9|     242063.2|            -7.28|      243031.0|                    -4.8|                    8.59|190151.0|            8.17|           15.92| 184850.2|         2.89|  49705.0|        -23.43|        -24.21|    239856.0|                 -0.36|              -1.33|2018|\n",
            "|2020-07-01|  146363.0|               24.76|               -30.0|      162230.0|                         77.33|            -35.99| 28370.0|             85.39|             -30.46|    29657.3|          97.83|        174733.0|                     31.76|                    -30.07|  170651.0|               73.34|              -36.08|    169619.05|            62.79|      161716.0|                    42.9|                  -37.22|155692.0|           34.54|          -28.74|151287.61|        25.71|  29126.0|         50.03|         -30.8|    184818.0|                 36.76|              34.43|2020|\n",
            "|2020-08-01|  164849.0|               12.63|              -19.81|      201572.0|                         24.25|            -21.37| 27102.0|             -4.47|             -24.92|   26850.76|          -9.46|        191951.0|                      9.85|                    -20.57|  210009.0|               23.06|              -22.15|    189344.98|            11.63|      195059.0|                   20.62|                  -20.48|165524.0|            6.32|          -23.67| 150352.6|        -0.62|  27897.0|         -4.22|        -24.08|    193421.0|                  4.65|              -2.48|2020|\n",
            "|2021-04-01|  169849.0|                1.76|              190.68|      175942.0|                         -5.26|          16688.36| 30772.0|            -12.66|             529.54|   32638.61|           -7.6|        200621.0|                     -0.75|                    216.84|  190907.0|               -4.71|            10236.06|    190112.23|             -6.2|      179565.0|                    1.37|                -5439.43|157976.0|           -8.17|          233.51|166234.47|        -8.52|  33877.0|         -7.89|        369.73|    191853.0|                 -8.12|              -8.53|2021|\n",
            "|2019-04-01|  205401.0|               -2.11|                2.08|      255351.0|                         10.65|              0.47| 33228.0|             -7.37|             -54.09|   35102.06|          -2.13|        238628.0|                     -2.87|                    -12.78|  267561.0|               11.13|                0.38|     264103.1|            11.08|      255060.0|                    0.95|                   -1.75|205774.0|           10.51|            8.01|208688.67|          8.7|  34905.0|        -10.72|        -52.17|    240679.0|                  6.83|               7.47|2019|\n",
            "|2020-02-01|  207985.0|                 9.6|                5.56|      192519.0|                          5.12|            -21.67| 33953.0|              3.29|              -7.69|   32728.26|          -0.78|        241938.0|                      8.67|                      3.48|  204206.0|                6.51|              -20.83|    216755.31|            -0.55|      226068.0|                    1.18|                    -8.1|179925.0|            5.12|            1.83| 208333.6|          5.5|  37677.0|         83.35|         -6.99|    217602.0|                 13.51|               5.16|2020|\n",
            "|2018-03-01|  182211.0|                3.89|               13.26|      254759.0|                         25.12|             11.28| 63663.0|              1.28|              -3.42|   63807.94|           3.17|        245874.0|                       3.2|                      8.41|  267539.0|               25.31|               13.09|    258147.94|             11.9|      249326.0|                    7.68|                   22.99|182935.0|           32.07|            8.73|185641.81|         8.93|  67488.0|          1.76|         -2.59|    250423.0|                 22.26|               6.43|2018|\n",
            "|2020-09-01|  181578.0|               10.15|              -11.66|      208773.0|                          3.57|            -11.02| 33648.0|             24.15|             -16.24|   33294.63|           24.0|        215226.0|                     12.13|                    -12.41|  220162.0|                4.83|              -11.03|    214995.16|            13.55|      218386.0|                   11.96|                  -13.23|188514.0|           13.89|          -10.24|190618.84|        26.78|  30519.0|           9.4|        -16.71|    219033.0|                 13.24|              29.57|2020|\n",
            "|2019-11-01|  207351.0|                1.31|                6.64|      216645.0|                         -21.1|             -6.88| 31442.0|             -2.91|              -6.54|   31058.32|          -3.28|        238793.0|                      0.73|                      4.69|  227455.0|              -21.16|               -7.07|    211785.94|           -21.27|      219863.0|                  -16.99|                   -8.13|218723.0|           -4.15|            6.64| 207708.6|        -6.26|  31735.0|           5.9|         -7.86|    250458.0|                 -2.98|              -5.01|2019|\n",
            "|2018-05-01|  167350.0|              -16.83|                 0.6|      203081.0|                         -20.1|            -16.66| 54250.0|            -25.05|              -18.4|    54292.9|         -26.83|        221600.0|                     -19.0|                     -4.82|  212329.0|              -20.34|              -16.21|    198872.69|           -24.55|      199529.0|                  -23.14|                  -12.42|175634.0|           -7.81|            0.68|173650.16|        -9.53|  60754.0|        -16.75|        -17.26|    236388.0|                -10.29|             -14.46|2018|\n",
            "|2021-02-01|  184474.0|               -3.23|               -11.3|      183641.0|                         -3.43|             -4.61| 29583.0|            -19.49|             -12.87|   28381.85|         -22.55|        214057.0|                     -5.85|                    -11.52|  197035.0|               -1.68|               -3.51|    208932.73|            -7.24|      215559.0|                  -10.82|                   -4.65|153654.0|           -0.86|           -14.6| 180144.2|        -1.44|  33064.0|         27.57|        -12.24|    186718.0|                  3.21|              -4.55|2021|\n",
            "+----------+----------+--------------------+--------------------+--------------+------------------------------+------------------+--------+------------------+-------------------+-----------+---------------+----------------+--------------------------+--------------------------+----------+--------------------+--------------------+-------------+-----------------+--------------+------------------------+------------------------+--------+----------------+----------------+---------+-------------+---------+--------------+--------------+------------+----------------------+-------------------+----+\n",
            "only showing top 20 rows\n",
            "\n"
          ]
        }
      ]
    },
    {
      "cell_type": "code",
      "source": [
        "df_consolidado.printSchema()"
      ],
      "metadata": {
        "id": "z30-0uCb9G3A"
      },
      "execution_count": null,
      "outputs": []
    },
    {
      "cell_type": "code",
      "source": [
        "serviceAccount = '/content/nkvs-consultoria-373916-4a1e41096722.json' \n",
        "os.environ['GOOGLE_APPLICATION_CREDENTIALS'] = serviceAccount"
      ],
      "metadata": {
        "id": "dNjJwInjNWmz"
      },
      "execution_count": null,
      "outputs": []
    },
    {
      "cell_type": "markdown",
      "source": [
        "#Salvando Dados Tratados"
      ],
      "metadata": {
        "id": "72NIlgmPVAvX"
      }
    },
    {
      "cell_type": "code",
      "source": [
        "# fazendo o load para enviar o arquivo para gcs\n",
        "path = '/content/dados_brasil_consolidado.csv'\n",
        "\n",
        "df_consolidado.write.mode('overwrite').option('header',True).csv(path)"
      ],
      "metadata": {
        "id": "xiMwzOuLr6HH"
      },
      "execution_count": null,
      "outputs": []
    },
    {
      "cell_type": "code",
      "source": [
        "#Função para fazer upload de arquivo no bucket\n",
        "def upload_blob(bucket, arquivo, destino):\n",
        "    client = storage.Client()\n",
        "    bucket = client.bucket(bucket)\n",
        "    blob = bucket.blob(destino)\n",
        "\n",
        "    blob.upload_from_filename(arquivo)\n",
        "    header='True'\n",
        "\n",
        "    print(\n",
        "        f\"Arquivo {arquivo} upado em {destino}.\"\n",
        "    )"
      ],
      "metadata": {
        "id": "cvK_sA8DPWDJ"
      },
      "execution_count": null,
      "outputs": []
    },
    {
      "cell_type": "code",
      "source": [
        "#Upload do arquivo \n",
        "bucket = 'bc26_projeto_final_auto'\n",
        "arquivo = '/content/dados_brasil_consolidado.csv/part-00000-91ab60fc-1639-4ebd-a3a9-6166c83756ff-c000.csv'\n",
        "destino = 'tratados/dados_brasil_consolidado.csv'\n",
        "upload_blob(bucket, arquivo, destino)"
      ],
      "metadata": {
        "id": "L3Fbxc-iPai2",
        "colab": {
          "base_uri": "https://localhost:8080/"
        },
        "outputId": "2c54ec94-225c-4e21-ee16-ef3e621ceffb"
      },
      "execution_count": null,
      "outputs": [
        {
          "output_type": "stream",
          "name": "stdout",
          "text": [
            "Arquivo /content/dados_brasil_consolidado.csv/part-00000-91ab60fc-1639-4ebd-a3a9-6166c83756ff-c000.csv upado em tratados/dados_brasil_consolidado.csv.\n"
          ]
        }
      ]
    }
  ]
}